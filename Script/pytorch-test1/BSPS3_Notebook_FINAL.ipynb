{
 "cells": [
  {
   "cell_type": "markdown",
   "id": "ef0f6ed5",
   "metadata": {},
   "source": [
    "# BERT FOR RELATION EXTRACTION\n",
    "The following script, represents the practical deliverable of the 3rd Bachelor Semester Project (BSP S3) of Tarik Tornes, under the supervision of Prof. Martin Theobald.\n",
    "The script treats all the steps of analyzing and preprocessing necessary data, creating, training and evaluating an finetuned transformer based model (i.e. BERT).\n",
    "\n",
    "\n",
    "### Structure\n",
    "1. Import necessary modules/libraries\n",
    "2. Checking Setup (MPS)\n",
    "3. Loading and preprocessing dataset\n",
    "    1. Methods for data processing\n",
    "    2. Original KnowledgeNet Dataset (Processing and Saving)\n",
    "    3. Loading MODIFIED KnowledgeNet DataFrame\n",
    "    4. Additional Realtions (PLACE_OF_DEATH  &. AUTHOR)\n",
    "    5. Grouping and finalization of Preprocessing\n",
    "4. Relation Extraction Model\n",
    "    1. Loading and initializing the RE model\n",
    "    2. Training BERT-Model\n",
    "    3. Saving the trained model\n",
    "    4. Loading a saved model\n",
    "5. Model Evaluation\n",
    "    1. Methods for the Model Evaluation\n",
    "    2. Prediction on Testing Set\n",
    "    3. Evaluating the Model\n",
    "6. FewShot-Learning Experiment\n",
    "    1. Necessary Methods and Variables\n",
    "    2. DataSet Subdivision\n",
    "    3. Running the FewShot-Learning Experiment (Re-Training)\n",
    "    4. Running the FewShot-Learning Experiment (Already trained)\n",
    "    5. Ploting the results of the Experiment\n",
    "7. Extra: Threshold testing\n",
    "    "
   ]
  },
  {
   "cell_type": "markdown",
   "id": "af791c9a",
   "metadata": {},
   "source": [
    "## 1. Import modules/libraries"
   ]
  },
  {
   "cell_type": "code",
   "execution_count": 1,
   "id": "16935ce7",
   "metadata": {},
   "outputs": [],
   "source": [
    "# Modules specially for machine learning\n",
    "import torch\n",
    "from torch.utils.data import DataLoader, TensorDataset\n",
    "import torch.nn as nn\n",
    "from transformers import BertTokenizer, BertForSequenceClassification, AdamW, get_linear_schedule_with_warmup\n",
    "\n",
    "# Modules for data science in general\n",
    "import numpy as np\n",
    "import pandas as pd\n",
    "import sklearn\n",
    "import matplotlib.pyplot as plt\n",
    "from scipy.interpolate import UnivariateSpline\n",
    "\n",
    "# basic python modules\n",
    "import os\n",
    "import json\n",
    "import random\n",
    "from tqdm import tqdm"
   ]
  },
  {
   "cell_type": "markdown",
   "id": "07c97a64",
   "metadata": {},
   "source": [
    "## 2. Checking Setup (MPS)\n",
    "Since this project was created on an Apple MacBook Pro with an M1 Silicon Chip, it is necessary to setup the mps api, such that we can train the model efficiently on the neural engine of the M1 Chip. Training the same without MPS, on Google Colab for example takes 10-11x more time.\n",
    "(GitHub: https://github.com/mrdbourke/pytorch-apple-silicon)"
   ]
  },
  {
   "cell_type": "code",
   "execution_count": 2,
   "id": "71f58f96",
   "metadata": {},
   "outputs": [
    {
     "name": "stdout",
     "output_type": "stream",
     "text": [
      "PyTorch version: 2.1.0\n",
      "Is MPS (Metal Performance Shader) built? True\n",
      "Is MPS available? True\n",
      "Using device: mps\n"
     ]
    },
    {
     "data": {
      "text/plain": [
       "tensor([[0.4154, 0.9801, 0.6582, 0.6502],\n",
       "        [0.4823, 0.0475, 0.2431, 0.3311],\n",
       "        [0.8869, 0.1791, 0.0892, 0.8741]], device='mps:0')"
      ]
     },
     "execution_count": 2,
     "metadata": {},
     "output_type": "execute_result"
    }
   ],
   "source": [
    "print(f\"PyTorch version: {torch.__version__}\")\n",
    "\n",
    "# Check PyTorch has access to MPS (Metal Performance Shader, Apple's GPU architecture)\n",
    "print(f\"Is MPS (Metal Performance Shader) built? {torch.backends.mps.is_built()}\")\n",
    "print(f\"Is MPS available? {torch.backends.mps.is_available()}\")\n",
    "\n",
    "# Set the device      \n",
    "device = \"mps\" if torch.backends.mps.is_available() else \"cpu\"\n",
    "print(f\"Using device: {device}\")\n",
    "# Set the device\n",
    "device = \"mps\" if torch.backends.mps.is_available() else \"cpu\"\n",
    "\n",
    "# Create data and send it to the device\n",
    "x = torch.rand(size=(3, 4)).to(device)\n",
    "x"
   ]
  },
  {
   "cell_type": "markdown",
   "id": "7ceb78e0",
   "metadata": {},
   "source": [
    "## 3. Loading and preprocessing dataset\n",
    "To fine-tune/train the BERT model for Relation Extraction, the initial step involves loading and preprocessing a well-suited dataset with accurate labeling. For this purpose, we'll leverage the KnowledgeNet Dataset, meticulously labeled for 15 distinct relations across 4 folds. The task entails conducting Relation Extraction on individual passages or sentences, training the model for both multilabeling and multiclassification.\n",
    "\n",
    "(*KnowledgeNet Dataset: https://github.com/diffbot/knowledge-net/blob/master/dataset/train.json*)\n",
    "\n",
    "**Relations:**\n",
    "1. SUBSIDIARY_OF\n",
    "2. FOUNDED_BY\n",
    "3. EMPLOYEE_OR_MEMBER_OF\n",
    "4. CEO\n",
    "5. DATE_FOUNDED\n",
    "6. HEADQUARTERS\n",
    "7. EDUCATED_AT\n",
    "8. NATIONALITY\n",
    "9. PLACE_OF_RESIDENCE\n",
    "10. PLACE_OF_BIRTH\n",
    "11. DATE_OF_DEATH\n",
    "12. DATE_OF_BIRTH\n",
    "13. SPOUSE\n",
    "14. CHILD_OF\n",
    "15. POLITICAL_AFFILIATION\n",
    "16. PLACE_OF_DEATH (new relations)\n",
    "17. AUTHOR         (new relations)\n"
   ]
  },
  {
   "cell_type": "markdown",
   "id": "ac97fbaf",
   "metadata": {},
   "source": [
    "### 3.A. Methods for data porcessing\n",
    "We are defining some methods for the processing of the data."
   ]
  },
  {
   "cell_type": "code",
   "execution_count": 3,
   "id": "5470be11",
   "metadata": {},
   "outputs": [],
   "source": [
    "# dictionary which matches the propertyID to the correct \"human readable\" relation\n",
    "rel_dict = {\n",
    "    \"1\": \"SUBSIDIARY_OF\",\n",
    "    \"2\": \"FOUNDED_BY\",\n",
    "    \"3\": \"EMPLOYEE_OR_MEMBER_OF\",\n",
    "    \"4\": \"CEO\",\n",
    "    \"5\": \"DATE_FOUNDED\",\n",
    "    \"6\": \"HEADQUARTERS\",\n",
    "    \"9\": \"EDUCATED_AT\",\n",
    "    \"10\": \"NATIONALITY\",\n",
    "    \"11\": \"PLACE_OF_RESIDENCE\",\n",
    "    \"12\": \"PLACE_OF_BIRTH\",\n",
    "    \"14\": \"DATE_OF_DEATH\",\n",
    "    \"15\": \"DATE_OF_BIRTH\",\n",
    "    \"20\": \"PLACE_OF_DEATH\",\n",
    "    \"25\": \"SPOUSE\",\n",
    "    \"34\": \"CHILD_OF\",\n",
    "    \"45\": \"POLITICAL_AFFILIATION\",\n",
    "    \"50\": \"AUTHOR\",\n",
    "}\n",
    "\n",
    "rel_idx = {\n",
    "    \"SUBSIDIARY_OF\": \"0\",\n",
    "    \"FOUNDED_BY\": \"1\",\n",
    "    \"EMPLOYEE_OR_MEMBER_OF\": \"2\",\n",
    "    \"CEO\": \"3\",\n",
    "    \"DATE_FOUNDED\": \"4\",\n",
    "    \"HEADQUARTERS\": \"5\",\n",
    "    \"EDUCATED_AT\": \"6\",\n",
    "    \"NATIONALITY\": \"7\",\n",
    "    \"PLACE_OF_RESIDENCE\": \"8\",\n",
    "    \"PLACE_OF_BIRTH\": \"9\",\n",
    "    \"DATE_OF_DEATH\": \"10\",\n",
    "    \"DATE_OF_BIRTH\": \"11\",\n",
    "    \"SPOUSE\": \"12\",\n",
    "    \"CHILD_OF\": \"13\",\n",
    "    \"POLITICAL_AFFILIATION\": \"14\",\n",
    "    \"PLACE_OF_DEATH\": \"15\",\n",
    "    \"AUTHOR\": \"16\"\n",
    "    }\n",
    "\n",
    "def label_to_multilabelVec(ls):\n",
    "    ''' \n",
    "    Transforms a human readable label (resp. relations) into a vector which can store multiple labels in one vector\n",
    "    for multi-label classification\n",
    "    @param ls:    is a list containing all the relations which correspond to one passage example\n",
    "    @return res:  list/vector representing the multi label\n",
    "    '''\n",
    "    # ls ... [SUBSIDIARY_OF, FOUNDED_BY, EMPLOYEE_OR_MEMBER_OF, CEO, DATE_FOUNDED, HEADQUARTERS, EDUCATED_AT, NATIONALITY, PLACE_OF_RESIDENCE, PLACE_OF_BIRTH, DATE_OF_DEATH, DATE_OF_BIRTH, SPOUSE, CHILD_OF, POLITICAL_AFFILIATION, PLACE_OF_DEATH, AUTHOR] \n",
    "    rel_idx = {\n",
    "    \"SUBSIDIARY_OF\": \"0\",\n",
    "    \"FOUNDED_BY\": \"1\",\n",
    "    \"EMPLOYEE_OR_MEMBER_OF\": \"2\",\n",
    "    \"CEO\": \"3\",\n",
    "    \"DATE_FOUNDED\": \"4\",\n",
    "    \"HEADQUARTERS\": \"5\",\n",
    "    \"EDUCATED_AT\": \"6\",\n",
    "    \"NATIONALITY\": \"7\",\n",
    "    \"PLACE_OF_RESIDENCE\": \"8\",\n",
    "    \"PLACE_OF_BIRTH\": \"9\",\n",
    "    \"DATE_OF_DEATH\": \"10\",\n",
    "    \"DATE_OF_BIRTH\": \"11\",\n",
    "    \"SPOUSE\": \"12\",\n",
    "    \"CHILD_OF\": \"13\",\n",
    "    \"POLITICAL_AFFILIATION\": \"14\",\n",
    "    \"PLACE_OF_DEATH\": \"15\",\n",
    "    \"AUTHOR\": \"16\"\n",
    "    }\n",
    "    \n",
    "    res = [0,0,0,0,0,0,0,0,0,0,0,0,0,0,0,0,0]\n",
    "    \n",
    "    for i in ls:\n",
    "        rl = i.strip(\" \")\n",
    "        res[int(rel_idx[rl])] = 1\n",
    "\n",
    "    return res"
   ]
  },
  {
   "cell_type": "markdown",
   "id": "5c5e7539",
   "metadata": {},
   "source": [
    "## !! DO NOT EXECUTE A CELL OF THIS SECTION !!\n",
    "### 3.B. Original KnowledgeNet Dataset (Processing and Saving)  \n",
    "\n",
    "In this section the original KnowledgeNet (KN) dataset will be loaded and preprocessed and loaded into a dataframe.\n",
    "Since we are interested in the dataset with the 2 new relations PLACE_OF_DEATH and AUTHOR, we need to load instead a manually modified version of the KN Dataset (cf. 3.C) since, some training examples had to be deleted which would lead to a contradiction when adding the new labels, in order to obtain the best performance."
   ]
  },
  {
   "cell_type": "code",
   "execution_count": null,
   "id": "bff266e8",
   "metadata": {},
   "outputs": [],
   "source": [
    "# file path to the original KN dataset\n",
    "train_filepath = '../../Dataset/KN_data.json'\n",
    "\n",
    "\n",
    "# Initialize an empty list to store the JSON objects\n",
    "data = []\n",
    "\n",
    "# Open and read the JSON file line by line\n",
    "with open(train_filepath, 'r') as file:\n",
    "    for line in file:\n",
    "        try:\n",
    "            # Parse each line as a JSON object and append it to the data list\n",
    "            json_obj = json.loads(line)\n",
    "            data.append(json_obj)\n",
    "        except json.JSONDecodeError as e:\n",
    "            print(f\"Skipping invalid JSON: {e}\")\n",
    "            \n",
    "            \n",
    "\n",
    "# Create an empty DataFrame with columns\n",
    "columns = ['fold', 'documentID', 'passageID', 'factID', 'relation', 'propertyID', 'subject', 'object', 'annotatedPassage', 'passageText', 'documentText']\n",
    "df = pd.DataFrame(columns=columns)\n",
    "\n",
    "# Display the empty DataFrame\n",
    "print(df)\n",
    "\n",
    "for document in data:\n",
    "    #print(document)\n",
    "    fold = document['fold']\n",
    "    docText = document['documentText']\n",
    "    docID = document['documentId']\n",
    "    \n",
    "    for passage in document['passages']:\n",
    "        passageID = passage['passageId']\n",
    "        passageText = passage['passageText']\n",
    "        if passage['facts'] == []:\n",
    "            continue\n",
    "        else:\n",
    "            for fact in passage['facts']:\n",
    "                factID = fact['factId']\n",
    "                factText = fact['annotatedPassage']\n",
    "                propID = fact['propertyId']\n",
    "                relation = rel_dict[str(propID)]\n",
    "                subj = fact['subjectText']\n",
    "                obj = fact['objectText']\n",
    "                \n",
    "                new_row = {\n",
    "                    'fold' : fold,\n",
    "                    'documentID' : docID,\n",
    "                    'passageID' : passageID,\n",
    "                    'factID' : factID,\n",
    "                    'relation' : relation,\n",
    "                    'propertyID' : propID,\n",
    "                    'subject' : subj,\n",
    "                    'object' : obj,\n",
    "                    'annotatedPassage' : factText,\n",
    "                    'passageText' : passageText,\n",
    "                    'documentText' : docText\n",
    "                }\n",
    "                \n",
    "                df = pd.concat([df, pd.DataFrame([new_row])], ignore_index=True)"
   ]
  },
  {
   "cell_type": "code",
   "execution_count": null,
   "id": "021e08db",
   "metadata": {},
   "outputs": [],
   "source": [
    "col = ['fold', 'passageText', 'label']\n",
    "df_kn = pd.DataFrame(columns=col)\n",
    "\n",
    "# Copy one column as it is to the new dataframe\n",
    "df_kn['fold'] = df['fold']\n",
    "df_kn['passageText'] = df['passageText']\n",
    "\n",
    "#df_kn['documentID'] = df['documentID']\n",
    "df_kn['label'] = df['relation']\n",
    "\n",
    "# grouping dataset by the same sentences and gathering the distinct \"single\" labels into a multilabel list\n",
    "df_kn = df_kn.groupby(['passageText', 'fold'])['label'].apply(list).reset_index()\n",
    "df_kn['label'] = df_kn['label'].apply(lambda x: list(set(x)))\n",
    "df_kn"
   ]
  },
  {
   "cell_type": "markdown",
   "id": "af410852",
   "metadata": {},
   "source": [
    "**Saving the processed dataframe of the original dataset**"
   ]
  },
  {
   "cell_type": "code",
   "execution_count": null,
   "id": "b9f19c0c",
   "metadata": {},
   "outputs": [],
   "source": [
    "csv_file_path = 'df_kn.csv'  # File path to save the Excel file\n",
    "df_kn.to_csv(csv_file_path, index=False)\n",
    "\n",
    "# Provide a link to download the file\n",
    "from IPython.display import File311Link\n",
    "display(FileLink(csv_file_path))"
   ]
  },
  {
   "cell_type": "markdown",
   "id": "a8497278",
   "metadata": {},
   "source": [
    "### 3.C. Loading MODIFIED KnowledgeNet DataFrame\n",
    "The following section loads the preprocessed KN data from a csv file (see sec. 3.B.) into a pandas DataFrame.\n",
    "The file df2_kn.csv, represents the original dataset, modified to the extent such that all sentences containg predicates related to \"PLACE_OF_DEATH\" and \"AUTHOR\" are removed, to avoid contradictive training data when labeling sentences for those new relations."
   ]
  },
  {
   "cell_type": "code",
   "execution_count": 4,
   "id": "6fc0cd29",
   "metadata": {},
   "outputs": [
    {
     "data": {
      "text/html": [
       "<div>\n",
       "<style scoped>\n",
       "    .dataframe tbody tr th:only-of-type {\n",
       "        vertical-align: middle;\n",
       "    }\n",
       "\n",
       "    .dataframe tbody tr th {\n",
       "        vertical-align: top;\n",
       "    }\n",
       "\n",
       "    .dataframe thead th {\n",
       "        text-align: right;\n",
       "    }\n",
       "</style>\n",
       "<table border=\"1\" class=\"dataframe\">\n",
       "  <thead>\n",
       "    <tr style=\"text-align: right;\">\n",
       "      <th></th>\n",
       "      <th>passageText</th>\n",
       "      <th>fold</th>\n",
       "      <th>label</th>\n",
       "    </tr>\n",
       "  </thead>\n",
       "  <tbody>\n",
       "    <tr>\n",
       "      <th>0</th>\n",
       "      <td>\"Chapman Kelly is a major force in the depende...</td>\n",
       "      <td>4</td>\n",
       "      <td>[CEO]</td>\n",
       "    </tr>\n",
       "    <tr>\n",
       "      <th>1</th>\n",
       "      <td>\"In 1937 Beveridge was awarded a Commonwealth ...</td>\n",
       "      <td>4</td>\n",
       "      <td>[CHILD_OF]</td>\n",
       "    </tr>\n",
       "    <tr>\n",
       "      <th>2</th>\n",
       "      <td>\"Marianne Charlotte, eldest daughter of George...</td>\n",
       "      <td>4</td>\n",
       "      <td>[DATE_OF_DEATH]</td>\n",
       "    </tr>\n",
       "    <tr>\n",
       "      <th>3</th>\n",
       "      <td>\"Reactivity Mafia\" also produced other notable...</td>\n",
       "      <td>3</td>\n",
       "      <td>[FOUNDED_BY]</td>\n",
       "    </tr>\n",
       "    <tr>\n",
       "      <th>4</th>\n",
       "      <td>\"Take Me Home, Country Roads\" may be the (unof...</td>\n",
       "      <td>2</td>\n",
       "      <td>[SUBSIDIARY_OF]</td>\n",
       "    </tr>\n",
       "    <tr>\n",
       "      <th>...</th>\n",
       "      <td>...</td>\n",
       "      <td>...</td>\n",
       "      <td>...</td>\n",
       "    </tr>\n",
       "    <tr>\n",
       "      <th>3282</th>\n",
       "      <td>premises in heart of Pune city, which has a ca...</td>\n",
       "      <td>1</td>\n",
       "      <td>[SUBSIDIARY_OF]</td>\n",
       "    </tr>\n",
       "    <tr>\n",
       "      <th>3283</th>\n",
       "      <td>{{Infobox connector...}} Athina Krikeli (Greek...</td>\n",
       "      <td>2</td>\n",
       "      <td>[PLACE_OF_BIRTH]</td>\n",
       "    </tr>\n",
       "    <tr>\n",
       "      <th>3284</th>\n",
       "      <td>~Frederick Douglass Born 1966, lived in Marion...</td>\n",
       "      <td>2</td>\n",
       "      <td>[CHILD_OF]</td>\n",
       "    </tr>\n",
       "    <tr>\n",
       "      <th>3285</th>\n",
       "      <td>Žarko Petan was one of the founding members of...</td>\n",
       "      <td>3</td>\n",
       "      <td>[FOUNDED_BY,  EMPLOYEE_OR_MEMBER_OF]</td>\n",
       "    </tr>\n",
       "    <tr>\n",
       "      <th>3286</th>\n",
       "      <td>• Preparing Internal Audit Scorecard of Pakist...</td>\n",
       "      <td>4</td>\n",
       "      <td>[HEADQUARTERS]</td>\n",
       "    </tr>\n",
       "  </tbody>\n",
       "</table>\n",
       "<p>3287 rows × 3 columns</p>\n",
       "</div>"
      ],
      "text/plain": [
       "                                            passageText  fold  \\\n",
       "0     \"Chapman Kelly is a major force in the depende...     4   \n",
       "1     \"In 1937 Beveridge was awarded a Commonwealth ...     4   \n",
       "2     \"Marianne Charlotte, eldest daughter of George...     4   \n",
       "3     \"Reactivity Mafia\" also produced other notable...     3   \n",
       "4     \"Take Me Home, Country Roads\" may be the (unof...     2   \n",
       "...                                                 ...   ...   \n",
       "3282  premises in heart of Pune city, which has a ca...     1   \n",
       "3283  {{Infobox connector...}} Athina Krikeli (Greek...     2   \n",
       "3284  ~Frederick Douglass Born 1966, lived in Marion...     2   \n",
       "3285  Žarko Petan was one of the founding members of...     3   \n",
       "3286  • Preparing Internal Audit Scorecard of Pakist...     4   \n",
       "\n",
       "                                     label  \n",
       "0                                    [CEO]  \n",
       "1                               [CHILD_OF]  \n",
       "2                          [DATE_OF_DEATH]  \n",
       "3                             [FOUNDED_BY]  \n",
       "4                          [SUBSIDIARY_OF]  \n",
       "...                                    ...  \n",
       "3282                       [SUBSIDIARY_OF]  \n",
       "3283                      [PLACE_OF_BIRTH]  \n",
       "3284                            [CHILD_OF]  \n",
       "3285  [FOUNDED_BY,  EMPLOYEE_OR_MEMBER_OF]  \n",
       "3286                        [HEADQUARTERS]  \n",
       "\n",
       "[3287 rows x 3 columns]"
      ]
     },
     "execution_count": 4,
     "metadata": {},
     "output_type": "execute_result"
    }
   ],
   "source": [
    "fileDf = '../../Dataset/df2_kn.csv'\n",
    "df_kn = pd.read_csv(fileDf, delimiter='\\t', names=[\"passageText\", \"fold\", \"label\"])\n",
    "df_kn['label'] = df_kn['label'].apply(lambda x: x.strip(\"[\"))\n",
    "df_kn['label'] = df_kn['label'].apply(lambda x: x.strip(\"]\"))\n",
    "df_kn['label'] = df_kn['label'].apply(lambda x: x.strip(\" \"))\n",
    "df_kn['label'] = df_kn['label'].apply(lambda x: x.split(\",\"))\n",
    "df_kn"
   ]
  },
  {
   "cell_type": "markdown",
   "id": "1dd936b4",
   "metadata": {},
   "source": [
    "### 3.D. Additional Realtions (PLACE_OF_DEATH  &. AUTHOR)\n",
    "The following section is responsible for loading and preprocessing the dataset for the PLACE_OF_DEATH (POD) and AUTHOR relations. The training sentences were picked from the KN dataset and manually labelled."
   ]
  },
  {
   "cell_type": "markdown",
   "id": "47eaa105",
   "metadata": {},
   "source": [
    "**PLACE_OF_DEATH**"
   ]
  },
  {
   "cell_type": "code",
   "execution_count": 5,
   "id": "6d1dd983",
   "metadata": {},
   "outputs": [
    {
     "data": {
      "text/html": [
       "<div>\n",
       "<style scoped>\n",
       "    .dataframe tbody tr th:only-of-type {\n",
       "        vertical-align: middle;\n",
       "    }\n",
       "\n",
       "    .dataframe tbody tr th {\n",
       "        vertical-align: top;\n",
       "    }\n",
       "\n",
       "    .dataframe thead th {\n",
       "        text-align: right;\n",
       "    }\n",
       "</style>\n",
       "<table border=\"1\" class=\"dataframe\">\n",
       "  <thead>\n",
       "    <tr style=\"text-align: right;\">\n",
       "      <th></th>\n",
       "      <th>passageText</th>\n",
       "      <th>label</th>\n",
       "      <th>fold</th>\n",
       "    </tr>\n",
       "  </thead>\n",
       "  <tbody>\n",
       "    <tr>\n",
       "      <th>0</th>\n",
       "      <td>He died in Kyoto in September 2012.</td>\n",
       "      <td>[PLACE_OF_DEATH, DATE_OF_DEATH]</td>\n",
       "      <td>1</td>\n",
       "    </tr>\n",
       "    <tr>\n",
       "      <th>1</th>\n",
       "      <td>Huber never served any prison time and died in...</td>\n",
       "      <td>[PLACE_OF_DEATH, DATE_OF_DEATH]</td>\n",
       "      <td>2</td>\n",
       "    </tr>\n",
       "    <tr>\n",
       "      <th>2</th>\n",
       "      <td>He died in New Castle.</td>\n",
       "      <td>[PLACE_OF_DEATH]</td>\n",
       "      <td>3</td>\n",
       "    </tr>\n",
       "    <tr>\n",
       "      <th>3</th>\n",
       "      <td>François-Henri Clicquot, at that time the lead...</td>\n",
       "      <td>[PLACE_OF_DEATH, DATE_OF_DEATH]</td>\n",
       "      <td>4</td>\n",
       "    </tr>\n",
       "    <tr>\n",
       "      <th>4</th>\n",
       "      <td>He died in Berlin.</td>\n",
       "      <td>[PLACE_OF_DEATH]</td>\n",
       "      <td>1</td>\n",
       "    </tr>\n",
       "    <tr>\n",
       "      <th>...</th>\n",
       "      <td>...</td>\n",
       "      <td>...</td>\n",
       "      <td>...</td>\n",
       "    </tr>\n",
       "    <tr>\n",
       "      <th>66</th>\n",
       "      <td>He was born in New York City and died in Los A...</td>\n",
       "      <td>[PLACE_OF_DEATH, PLACE_OF_BIRTH]</td>\n",
       "      <td>3</td>\n",
       "    </tr>\n",
       "    <tr>\n",
       "      <th>67</th>\n",
       "      <td>He died in Cleveland on October 5, 1887, and w...</td>\n",
       "      <td>[PLACE_OF_DEATH, DATE_OF_DEATH]</td>\n",
       "      <td>4</td>\n",
       "    </tr>\n",
       "    <tr>\n",
       "      <th>68</th>\n",
       "      <td>He died in Garons.</td>\n",
       "      <td>[PLACE_OF_DEATH]</td>\n",
       "      <td>4</td>\n",
       "    </tr>\n",
       "    <tr>\n",
       "      <th>69</th>\n",
       "      <td>James died in 1792 at Niagara District, Upper ...</td>\n",
       "      <td>[PLACE_OF_DEATH, DATE_OF_DEATH]</td>\n",
       "      <td>3</td>\n",
       "    </tr>\n",
       "    <tr>\n",
       "      <th>70</th>\n",
       "      <td>He was born in Ponca City, Oklahoma, and died ...</td>\n",
       "      <td>[PLACE_OF_DEATH, PLACE_OF_BIRTH]</td>\n",
       "      <td>2</td>\n",
       "    </tr>\n",
       "  </tbody>\n",
       "</table>\n",
       "<p>71 rows × 3 columns</p>\n",
       "</div>"
      ],
      "text/plain": [
       "                                          passageText  \\\n",
       "0                 He died in Kyoto in September 2012.   \n",
       "1   Huber never served any prison time and died in...   \n",
       "2                              He died in New Castle.   \n",
       "3   François-Henri Clicquot, at that time the lead...   \n",
       "4                                  He died in Berlin.   \n",
       "..                                                ...   \n",
       "66  He was born in New York City and died in Los A...   \n",
       "67  He died in Cleveland on October 5, 1887, and w...   \n",
       "68                                 He died in Garons.   \n",
       "69  James died in 1792 at Niagara District, Upper ...   \n",
       "70  He was born in Ponca City, Oklahoma, and died ...   \n",
       "\n",
       "                               label  fold  \n",
       "0    [PLACE_OF_DEATH, DATE_OF_DEATH]     1  \n",
       "1    [PLACE_OF_DEATH, DATE_OF_DEATH]     2  \n",
       "2                   [PLACE_OF_DEATH]     3  \n",
       "3    [PLACE_OF_DEATH, DATE_OF_DEATH]     4  \n",
       "4                   [PLACE_OF_DEATH]     1  \n",
       "..                               ...   ...  \n",
       "66  [PLACE_OF_DEATH, PLACE_OF_BIRTH]     3  \n",
       "67   [PLACE_OF_DEATH, DATE_OF_DEATH]     4  \n",
       "68                  [PLACE_OF_DEATH]     4  \n",
       "69   [PLACE_OF_DEATH, DATE_OF_DEATH]     3  \n",
       "70  [PLACE_OF_DEATH, PLACE_OF_BIRTH]     2  \n",
       "\n",
       "[71 rows x 3 columns]"
      ]
     },
     "execution_count": 5,
     "metadata": {},
     "output_type": "execute_result"
    }
   ],
   "source": [
    "# Filepath to POD dataset\n",
    "file = '../../Dataset/KNPOD.tsv'\n",
    "\n",
    "df_POD = pd.read_csv(file, delimiter='\\t', names=[\"passageText\", \"label\"])\n",
    "df_POD[\"label\"] = df_POD[\"label\"].apply(lambda s: s.split(\",\"))\n",
    "\n",
    "df_POD = df_POD.assign(fold=pd.Series())\n",
    "#df_POD = df_POD.assign(documentID=pd.Series())\n",
    "\n",
    "# Shuffle the DataFrame\n",
    "df_POD = df_POD.sample(frac=1, random_state=42).reset_index(drop=True)\n",
    "\n",
    "# Total number of integers\n",
    "total_integers = 71\n",
    "\n",
    "# List of integers to repeat\n",
    "integers = [1, 2, 3, 4]\n",
    "\n",
    "# Calculate the number of times each integer should be repeated\n",
    "repeat_count = total_integers // len(integers)\n",
    "\n",
    "# Generate the list of integers\n",
    "result = integers * repeat_count\n",
    "\n",
    "# Add any remaining integers if needed\n",
    "remaining = total_integers - len(result)\n",
    "if remaining > 0:\n",
    "    result += random.choices(integers, k=remaining)\n",
    "\n",
    "df_POD['fold'] = result\n",
    "df_POD"
   ]
  },
  {
   "cell_type": "markdown",
   "id": "39a4804e",
   "metadata": {},
   "source": [
    "**AUTHOR**"
   ]
  },
  {
   "cell_type": "code",
   "execution_count": 6,
   "id": "76101e34",
   "metadata": {},
   "outputs": [
    {
     "data": {
      "text/html": [
       "<div>\n",
       "<style scoped>\n",
       "    .dataframe tbody tr th:only-of-type {\n",
       "        vertical-align: middle;\n",
       "    }\n",
       "\n",
       "    .dataframe tbody tr th {\n",
       "        vertical-align: top;\n",
       "    }\n",
       "\n",
       "    .dataframe thead th {\n",
       "        text-align: right;\n",
       "    }\n",
       "</style>\n",
       "<table border=\"1\" class=\"dataframe\">\n",
       "  <thead>\n",
       "    <tr style=\"text-align: right;\">\n",
       "      <th></th>\n",
       "      <th>passageText</th>\n",
       "      <th>label</th>\n",
       "      <th>fold</th>\n",
       "    </tr>\n",
       "  </thead>\n",
       "  <tbody>\n",
       "    <tr>\n",
       "      <th>0</th>\n",
       "      <td>He also wrote a column in the Daily Nation eve...</td>\n",
       "      <td>[AUTHOR]</td>\n",
       "      <td>1</td>\n",
       "    </tr>\n",
       "    <tr>\n",
       "      <th>1</th>\n",
       "      <td>He is the author of many award winning books, ...</td>\n",
       "      <td>[AUTHOR, CEO]</td>\n",
       "      <td>2</td>\n",
       "    </tr>\n",
       "    <tr>\n",
       "      <th>2</th>\n",
       "      <td>In 1984, he and Schonfeld co-authored a work c...</td>\n",
       "      <td>[AUTHOR]</td>\n",
       "      <td>3</td>\n",
       "    </tr>\n",
       "    <tr>\n",
       "      <th>3</th>\n",
       "      <td>He is the author of numerous works on educatio...</td>\n",
       "      <td>[AUTHOR]</td>\n",
       "      <td>4</td>\n",
       "    </tr>\n",
       "    <tr>\n",
       "      <th>4</th>\n",
       "      <td>He was the father of chemist Bernard Vonnegut ...</td>\n",
       "      <td>[AUTHOR]</td>\n",
       "      <td>1</td>\n",
       "    </tr>\n",
       "    <tr>\n",
       "      <th>...</th>\n",
       "      <td>...</td>\n",
       "      <td>...</td>\n",
       "      <td>...</td>\n",
       "    </tr>\n",
       "    <tr>\n",
       "      <th>109</th>\n",
       "      <td>Robert Bagg (born 1935, New Jersey) is an Amer...</td>\n",
       "      <td>[AUTHOR, PLACE_OF_BIRTH, DATE_OF_BIRTH, NATION...</td>\n",
       "      <td>2</td>\n",
       "    </tr>\n",
       "    <tr>\n",
       "      <th>110</th>\n",
       "      <td>He is the former Chief executive officer of HC...</td>\n",
       "      <td>[AUTHOR, CEO]</td>\n",
       "      <td>3</td>\n",
       "    </tr>\n",
       "    <tr>\n",
       "      <th>111</th>\n",
       "      <td>Howard Storm (born October 26, 1946) is an Ame...</td>\n",
       "      <td>[AUTHOR, DATE_OF_BIRTH, NATIONALITY]</td>\n",
       "      <td>4</td>\n",
       "    </tr>\n",
       "    <tr>\n",
       "      <th>112</th>\n",
       "      <td>Cordwainer Smith (/ˈkɔːrdweɪnər/, KORD-waynər)...</td>\n",
       "      <td>[AUTHOR, NATIONALITY]</td>\n",
       "      <td>2</td>\n",
       "    </tr>\n",
       "    <tr>\n",
       "      <th>113</th>\n",
       "      <td>Todd Temkin (born 1964) is an American poet.</td>\n",
       "      <td>[AUTHOR, DATE_OF_BIRTH]</td>\n",
       "      <td>1</td>\n",
       "    </tr>\n",
       "  </tbody>\n",
       "</table>\n",
       "<p>114 rows × 3 columns</p>\n",
       "</div>"
      ],
      "text/plain": [
       "                                           passageText  \\\n",
       "0    He also wrote a column in the Daily Nation eve...   \n",
       "1    He is the author of many award winning books, ...   \n",
       "2    In 1984, he and Schonfeld co-authored a work c...   \n",
       "3    He is the author of numerous works on educatio...   \n",
       "4    He was the father of chemist Bernard Vonnegut ...   \n",
       "..                                                 ...   \n",
       "109  Robert Bagg (born 1935, New Jersey) is an Amer...   \n",
       "110  He is the former Chief executive officer of HC...   \n",
       "111  Howard Storm (born October 26, 1946) is an Ame...   \n",
       "112  Cordwainer Smith (/ˈkɔːrdweɪnər/, KORD-waynər)...   \n",
       "113       Todd Temkin (born 1964) is an American poet.   \n",
       "\n",
       "                                                 label  fold  \n",
       "0                                             [AUTHOR]     1  \n",
       "1                                        [AUTHOR, CEO]     2  \n",
       "2                                             [AUTHOR]     3  \n",
       "3                                             [AUTHOR]     4  \n",
       "4                                             [AUTHOR]     1  \n",
       "..                                                 ...   ...  \n",
       "109  [AUTHOR, PLACE_OF_BIRTH, DATE_OF_BIRTH, NATION...     2  \n",
       "110                                      [AUTHOR, CEO]     3  \n",
       "111               [AUTHOR, DATE_OF_BIRTH, NATIONALITY]     4  \n",
       "112                              [AUTHOR, NATIONALITY]     2  \n",
       "113                            [AUTHOR, DATE_OF_BIRTH]     1  \n",
       "\n",
       "[114 rows x 3 columns]"
      ]
     },
     "execution_count": 6,
     "metadata": {},
     "output_type": "execute_result"
    }
   ],
   "source": [
    "file = '../../Dataset/author.tsv'\n",
    "df_ATH = pd.read_csv(file, delimiter='\\t', names=[\"passageText\", \"label\"])\n",
    "df_ATH[\"label\"] = df_ATH[\"label\"].apply(lambda s: s.split(\",\"))\n",
    "\n",
    "df_ATH = df_ATH.assign(fold=pd.Series())\n",
    "# df_ATH = df_ATH.assign(documentID=pd.Series())\n",
    "\n",
    "# Shuffle the DataFrame\n",
    "df_ATH = df_ATH.sample(frac=1, random_state=42).reset_index(drop=True)\n",
    "\n",
    "# Total number of integers\n",
    "total_integers = 114\n",
    "\n",
    "# List of integers to repeat\n",
    "integers = [1, 2, 3, 4]\n",
    "\n",
    "# Calculate the number of times each integer should be repeated\n",
    "repeat_count = total_integers // len(integers)\n",
    "\n",
    "# Generate the list of integers\n",
    "result = integers * repeat_count\n",
    "\n",
    "# Add any remaining integers if needed\n",
    "remaining = total_integers - len(result)\n",
    "if remaining > 0:\n",
    "    result += random.choices(integers, k=remaining)\n",
    "\n",
    "    \n",
    "df_ATH['fold'] = result\n",
    "df_ATH"
   ]
  },
  {
   "cell_type": "markdown",
   "id": "879f275a",
   "metadata": {},
   "source": [
    "### 3.E. Grouping and finalization of Preprocessing\n",
    "The following describes how the large/general dataframe (which contains the 15 original KN relations) is merged with the new ones (i.e. 3.D.)."
   ]
  },
  {
   "cell_type": "code",
   "execution_count": 7,
   "id": "baf74c4b",
   "metadata": {},
   "outputs": [],
   "source": [
    "df_grouped = pd.concat([df_kn, df_POD, df_ATH], ignore_index=True)\n",
    "df_grouped['label'] = df_grouped['label'].apply(label_to_multilabelVec)\n",
    "df_final = df_grouped\n",
    "\n",
    "df_fold1 = df_final[df_final['fold'] == 1]\n",
    "df_fold2 = df_final[df_final['fold'] == 2]\n",
    "df_fold3 = df_final[df_final['fold'] == 3]\n",
    "df_fold4 = df_final[df_final['fold'] == 4]\n",
    "#df_fold5 = df3[df3['fold'] == 5]\n",
    "\n",
    "train_df = pd.concat([df_fold1, df_fold2, df_fold3], ignore_index=True)\n",
    "train_df = train_df.sample(frac=1, random_state=42).reset_index(drop=True)\n",
    "val_df = df_fold4.sample(frac=1, random_state=42).reset_index(drop=True)\n",
    "#train_df"
   ]
  },
  {
   "cell_type": "code",
   "execution_count": 8,
   "id": "580145d9",
   "metadata": {},
   "outputs": [
    {
     "name": "stdout",
     "output_type": "stream",
     "text": [
      "28\n"
     ]
    }
   ],
   "source": [
    "# We can check how often a relation occurs in the training/testing set\n",
    "# train_df => training set\n",
    "# val_df   => testing set\n",
    "Relation = \"AUTHOR\"\n",
    "type_of_set = val_df\n",
    "\n",
    "count = (type_of_set['label'].apply(lambda x: x[int(rel_idx[Relation])] == 1)).sum()\n",
    "print(count)"
   ]
  },
  {
   "cell_type": "markdown",
   "id": "a867a406",
   "metadata": {},
   "source": [
    "## 4. Relation Extraction Model"
   ]
  },
  {
   "cell_type": "markdown",
   "id": "034bc371",
   "metadata": {},
   "source": [
    "### 4.A. Loading and initializing the RE model\n",
    "This code section sets up a training pipeline for a BERT text model for multi-label and multiclass text classification. It initializes hyperparameters like batch size, epochs, and learning rate.\n",
    "It uses a pre-trained BERT tokenizer to preprocess text data, tokenizing, padding, etc..\n",
    "The code initializes a BERT model for sequence classification, defines the loss function (Binary Cross Entropy), optimizer (AdamW), and scheduler.\\\n",
    "We are using **BERT-Base-uncased** for sequence classification\n",
    "\n",
    "\n",
    "**Results for different parameters (i.e. #epochs & learning rate) :**\n"
   ]
  },
  {
   "cell_type": "code",
   "execution_count": null,
   "id": "60e195de",
   "metadata": {},
   "outputs": [],
   "source": [
    "batch_size = 8\n",
    "num_epochs = 10\n",
    "learning_rate = 2e-5\n",
    "max_sequence_length = 128  # Maximum sequence length for padding\n",
    "\n",
    "# We use a pretrained BERTTokenizer from huggingface\n",
    "tokenizer = BertTokenizer.from_pretrained('bert-base-uncased')\n",
    "\n",
    "# Convert labels(hot encoded vectors) to tensors\n",
    "labels = torch.tensor(train_df['label'].tolist(), dtype=torch.float32)\n",
    "print(len(labels[0]))\n",
    "# Create a list with all the facts as training input\n",
    "texts = train_df['passageText'].tolist()\n",
    "\n",
    "# Tokenize, pad, and create input masks\n",
    "input_ids = []\n",
    "attention_masks = []\n",
    "\n",
    "for text in texts:\n",
    "    # take a fact from list texts and convert it into tokens, which are then directly transformed into tensors\n",
    "    encoding = tokenizer(text, truncation=True, padding='max_length', max_length=max_sequence_length, return_tensors='pt')\n",
    "    # Take the inputId of the tensor and put the in separate list\n",
    "    input_ids.append(encoding['input_ids'])\n",
    "    # Take the attention_mask of the tensor and put the in separate list\n",
    "    attention_masks.append(encoding['attention_mask'])\n",
    "\n",
    "# Convert lists of tensors into a batch\n",
    "input_ids = torch.cat(input_ids, dim=0)  # Use torch.cat to concatenate tensors\n",
    "attention_masks = torch.cat(attention_masks, dim=0)\n",
    "\n",
    "# Create DataLoader for training\n",
    "# Create the final dataset we will input into the model for training\n",
    "dataset = TensorDataset(input_ids, attention_masks, labels)\n",
    "\n",
    "# Creates the dataloader (Iterable which will subdived the dataset into mini-batches of size batch_size)\n",
    "train_dataloader = DataLoader(dataset, batch_size=batch_size, shuffle=True)\n",
    "\n",
    "# Define the BERT model for classification\n",
    "# we are using pretrained model from huggingface\n",
    "model = BertForSequenceClassification.from_pretrained('bert-base-uncased', num_labels=len(labels[0]))\n",
    "\n",
    "# We are using Binary Cross Entropy with a Sigmoid layer on top,\n",
    "# since we want the model to treat the categories independently for multi-label\n",
    "criterion = nn.BCEWithLogitsLoss()\n",
    "\n",
    "# We are using a variant of the traditional Adam optimizer to prevent overfitting\n",
    "optimizer = torch.optim.AdamW(model.parameters(), lr=learning_rate)\n",
    "\n",
    "# We will keep the learning rate constant from the beginning\n",
    "scheduler = get_linear_schedule_with_warmup(optimizer, num_warmup_steps=0, num_training_steps=len(train_dataloader) * num_epochs)"
   ]
  },
  {
   "cell_type": "markdown",
   "id": "43e39e45",
   "metadata": {},
   "source": [
    "### 4.B. Training BERT-Model\n",
    "The following cell trains bert model, based on the preprocessed train dataset"
   ]
  },
  {
   "cell_type": "code",
   "execution_count": null,
   "id": "97247ee9",
   "metadata": {},
   "outputs": [],
   "source": [
    "# Training loop with loading bar\n",
    "for epoch in range(num_epochs):\n",
    "    model.train()\n",
    "    total_loss = 0\n",
    "\n",
    "    for batch in tqdm(train_dataloader, desc=f'Epoch {epoch + 1}'):\n",
    "        input_ids, attention_masks, labels = batch\n",
    "\n",
    "        optimizer.zero_grad()\n",
    "        outputs = model(input_ids, attention_mask=attention_masks, labels=labels)\n",
    "        loss = outputs.loss\n",
    "        total_loss += loss.item()\n",
    "\n",
    "        loss.backward()\n",
    "        optimizer.step()\n",
    "        scheduler.step()\n",
    "\n",
    "    average_loss = total_loss / len(train_dataloader)\n",
    "    print(f'Epoch {epoch + 1} - Average Loss: {average_loss:.4f}')"
   ]
  },
  {
   "cell_type": "markdown",
   "id": "b0d5b052",
   "metadata": {},
   "source": [
    "### 4.C. Saving the trained model\n",
    "The follwoing cell allows to save the trained model into a file, in order to load it load and use it anytime without the necessity of retraining it."
   ]
  },
  {
   "cell_type": "code",
   "execution_count": null,
   "id": "08504527",
   "metadata": {},
   "outputs": [],
   "source": [
    "model_filename = \"bert_base_uncased_allRels_fin1.pth\"\n",
    "save_directory = '../../models'\n",
    "model_path = os.path.join(save_directory, model_filename)\n",
    "# Get the model configuration\n",
    "model_config = model.config\n",
    "\n",
    "# Create a dictionary to save model configuration along with the state_dict\n",
    "model_info = {\n",
    "    \"config\": model_config,\n",
    "    \"state_dict\": model.state_dict(),\n",
    "    \"other_info\": {\n",
    "        \"batch_size\": batch_size,\n",
    "        \"num_epochs\": num_epochs,\n",
    "        \"learning_rate\": learning_rate,\n",
    "        \"max_sequence_length\": max_sequence_length,\n",
    "    }\n",
    "}\n",
    "\n",
    "#model_filename = \"bert_classification_model.pth\"\n",
    "model_path = os.path.join(save_directory, model_filename)\n",
    "\n",
    "# Save the model configuration and its state dictionary\n",
    "torch.save(model_info, model_path)"
   ]
  },
  {
   "cell_type": "markdown",
   "id": "cce0a38f",
   "metadata": {},
   "source": [
    "### 4.D. Loading a saved model\n",
    "The following cell saves the trained model, such that it is not necessary to train the model everytime when we want to use it."
   ]
  },
  {
   "cell_type": "code",
   "execution_count": 9,
   "id": "d1ad9dba",
   "metadata": {},
   "outputs": [],
   "source": [
    "# Define the path to the saved model\n",
    "model_filename = \"bert_base_uncased_all_rels.pth\"\n",
    "save_directory = '../../models'\n",
    "\n",
    "model_path = os.path.join(save_directory, model_filename)\n",
    "saved_model_info = torch.load(model_path)\n",
    "\n",
    "# Retrieve model configuration and state dictionary from loaded information\n",
    "loaded_model_config = saved_model_info['config']\n",
    "loaded_state_dict = saved_model_info['state_dict']\n",
    "loaded_other_info = saved_model_info['other_info']\n",
    "\n",
    "# Assuming 'batch_size', 'num_epochs', 'learning_rate', 'max_sequence_length' are present in 'other_info'\n",
    "batch_size = loaded_other_info['batch_size']\n",
    "num_epochs = loaded_other_info['num_epochs']\n",
    "learning_rate = loaded_other_info['learning_rate']\n",
    "max_sequence_length = loaded_other_info['max_sequence_length']\n",
    "\n",
    "# Create a new instance of the model using the configuration\n",
    "loaded_model = BertForSequenceClassification(loaded_model_config)\n",
    "\n",
    "# Load the state dictionary into the model\n",
    "loaded_model.load_state_dict(loaded_state_dict)\n",
    "\n",
    "model = loaded_model"
   ]
  },
  {
   "cell_type": "markdown",
   "id": "42f888c4",
   "metadata": {},
   "source": [
    "## 5. Model Evaluation\n",
    "In order to measure the performance it is necessary to evaluate the model with provided test set. This is done in different approaches. We will measure its overall performance but also relative to each single relation."
   ]
  },
  {
   "cell_type": "markdown",
   "id": "3f7e92e0",
   "metadata": {},
   "source": [
    "### 5.A. Methods for the Model Evaluation\n"
   ]
  },
  {
   "cell_type": "code",
   "execution_count": 10,
   "id": "22c65354",
   "metadata": {},
   "outputs": [],
   "source": [
    "def vec_to_rel(ls):\n",
    "    res = []\n",
    "    rels = [\"SUBSIDIARY_OF\", \"FOUNDED_BY\", \"EMPLOYEE_OR_MEMBER_OF\", \"CEO\", \"DATE_FOUNDED\", \"HEADQUARTERS\", \"EDUCATED_AT\", \"NATIONALITY\", \"PLACE_OF_RESIDENCE\", \"PLACE_OF_BIRTH\", \"DATE_OF_DEATH\", \"DATE_OF_BIRTH\", \"SPOUSE\", \"CHILD_OF\", \"POLITICAL_AFFILIATION\", \"PLACE_OF_DEATH\", \"AUTHOR\"]\n",
    "    for x,y in zip(ls,rels):\n",
    "        if x == 1:\n",
    "            res.append(y)\n",
    "    return res"
   ]
  },
  {
   "cell_type": "code",
   "execution_count": 11,
   "id": "5118c135",
   "metadata": {},
   "outputs": [],
   "source": [
    "# Function to predict labels for a sentence\n",
    "def predict_labels(sentence, model, tokenizer, max_sequence_length, thresh):\n",
    "    # Tokenize and preprocess the input sentence\n",
    "    encoding = tokenizer(sentence, truncation=True, padding='max_length', max_length=max_sequence_length, return_tensors='pt')\n",
    "    input_ids = encoding['input_ids']\n",
    "    attention_mask = encoding['attention_mask']\n",
    "    model.eval()\n",
    "\n",
    "    # Make predictions\n",
    "    with torch.no_grad():\n",
    "        outputs = model(input_ids, attention_mask=attention_mask)\n",
    "        logits = outputs.logits\n",
    "\n",
    "    predictions = (torch.sigmoid(logits) > thresh).to(torch.float32)\n",
    "\n",
    "    return predictions"
   ]
  },
  {
   "cell_type": "code",
   "execution_count": 12,
   "id": "5c6eb632",
   "metadata": {},
   "outputs": [],
   "source": [
    "def calc_metrics(text, kn_list, my_list, dict_tp, dict_tn, dict_fp, dict_fn, label_length):\n",
    "\n",
    "    for i in range(label_length):\n",
    "        \n",
    "        if (kn_list[i] == 1) and (my_list[i] == 1):\n",
    "            if not(text in dict_tp):\n",
    "                dict_tp[text] = [0] * label_length\n",
    "            dict_tp[text][i] = 1\n",
    "            dict_tp[\"counter\"] += 1\n",
    "            \n",
    "        elif (kn_list[i] == 0) and (my_list[i] == 1):\n",
    "            if not(text in dict_fp):\n",
    "                dict_fp[text] = [0] * label_length\n",
    "            dict_fp[text][i] = 1\n",
    "            dict_fp[\"counter\"] += 1\n",
    "            \n",
    "        elif (kn_list[i] == 1) and (my_list[i] == 0):\n",
    "            if not(text in dict_fn):\n",
    "                dict_fn[text] = [0] * label_length\n",
    "            dict_fn[text][i] = 1\n",
    "            dict_fn[\"counter\"] += 1\n",
    "        \n",
    "        elif (kn_list[i] == 0) and (my_list[i] == 0):\n",
    "            if not(text in dict_tn):\n",
    "                dict_tn[text] = [0] * label_length\n",
    "            dict_tn[text][i] = 1\n",
    "            dict_tn[\"counter\"] += 1"
   ]
  },
  {
   "cell_type": "markdown",
   "id": "2c013b23",
   "metadata": {},
   "source": [
    "### 5.B. Prediction on Testing Set\n",
    "The following cell performs prediction over the testing set (i.e. val_df)."
   ]
  },
  {
   "cell_type": "markdown",
   "id": "8c517616",
   "metadata": {},
   "source": [
    "**Retrieve DataFrame with the predictions for each data in the testing set:** \\\n",
    "The following cell creates a dataframe where all the predicitions of the model can be seen together with the correct label."
   ]
  },
  {
   "cell_type": "code",
   "execution_count": 23,
   "id": "9b2e119d",
   "metadata": {},
   "outputs": [],
   "source": [
    "tokenizer = BertTokenizer.from_pretrained('bert-base-uncased')\n",
    "res = pd.DataFrame(columns=[\"text\", \"KN_label\", \"My_label\"])\n",
    "res[\"text\"] = val_df[\"passageText\"]\n",
    "res[\"KN_label\"] = val_df[\"label\"]\n",
    "res[\"My_label\"] = res[\"text\"].apply(lambda x: list(map(int,predict_labels(x, model, tokenizer, max_sequence_length, 0.45).tolist()[0])))"
   ]
  },
  {
   "cell_type": "markdown",
   "id": "d78c294d",
   "metadata": {},
   "source": [
    "**Saving the predictions of the model on the testing set into a csv:**"
   ]
  },
  {
   "cell_type": "code",
   "execution_count": null,
   "id": "43f897a8",
   "metadata": {},
   "outputs": [],
   "source": [
    "csv_file_path = '../../output/res2.csv'  # File path to save the Excel file\n",
    "res.to_csv(csv_file_path, index=False)\n",
    "\n",
    "# Provide a link to download the file\n",
    "from IPython.display import FileLink\n",
    "display(FileLink(csv_file_path))"
   ]
  },
  {
   "cell_type": "markdown",
   "id": "f05d1561",
   "metadata": {},
   "source": [
    "### 5.C. Evaluating the Model\n",
    "The following section describes the evaluation of the model for each relation separately, such that it is possible to observe and understand the models performance more deeply. Additionally, we will evaluate the whole model as well considering the macro and micro average."
   ]
  },
  {
   "cell_type": "markdown",
   "id": "ed4c8ee6",
   "metadata": {},
   "source": [
    "**Initializing dictionnaries which will contain the results:**"
   ]
  },
  {
   "cell_type": "code",
   "execution_count": 24,
   "id": "2ac940b5",
   "metadata": {},
   "outputs": [],
   "source": [
    "relations = [\"SUBSIDIARY_OF\", \"FOUNDED_BY\", \"EMPLOYEE_OR_MEMBER_OF\", \"CEO\", \"DATE_FOUNDED\", \"HEADQUARTERS\", \"EDUCATED_AT\", \"NATIONALITY\", \"PLACE_OF_RESIDENCE\", \"PLACE_OF_BIRTH\", \"DATE_OF_DEATH\", \"DATE_OF_BIRTH\", \"SPOUSE\", \"CHILD_OF\", \"POLITICAL_AFFILIATION\", \"PLACE_OF_DEATH\", \"AUTHOR\"]\n",
    "label_len = 17\n",
    "\n",
    "dict_tp = {}\n",
    "dict_fp = {}\n",
    "dict_fn = {}\n",
    "dict_tn = {}\n",
    "dict_tp[\"counter\"] = 0\n",
    "dict_fp[\"counter\"] = 0\n",
    "dict_fn[\"counter\"] = 0\n",
    "dict_tn[\"counter\"] = 0\n",
    "\n",
    "num_tp_rel = {}\n",
    "num_fp_rel = {}\n",
    "num_fn_rel = {}\n",
    "num_tn_rel = {}\n",
    "\n",
    "accuracy_rel = {}\n",
    "prec_rel = {}\n",
    "recall_rel = {}\n",
    "f1_rel = {}"
   ]
  },
  {
   "cell_type": "markdown",
   "id": "18ef12da",
   "metadata": {},
   "source": [
    "**Compute Metrics:**"
   ]
  },
  {
   "cell_type": "code",
   "execution_count": 25,
   "id": "ac42240f",
   "metadata": {},
   "outputs": [],
   "source": [
    "for index, row in res.iterrows():\n",
    "    tx = row[\"text\"]\n",
    "    knl = row[\"KN_label\"]\n",
    "    myl = row[\"My_label\"]\n",
    "    \n",
    "    calc_metrics(tx, knl, myl, dict_tp, dict_tn, dict_fp, dict_fn, label_len)\n",
    "\n",
    "fin_res = pd.DataFrame(columns=[\"text\",\"KN_label\",\"My_label\"])\n",
    "fin_res[\"text\"] = res[\"text\"]\n",
    "fin_res[\"KN_label\"] = res[\"KN_label\"].apply(vec_to_rel)\n",
    "fin_res[\"My_label\"] = res[\"My_label\"].apply(vec_to_rel)\n",
    "\n",
    "# Will compute the amount of tp,fp and fn for all relations separetly in saves it to a dict\n",
    "for i in relations:\n",
    "    num_tp_rel[i] = 0\n",
    "    num_fp_rel[i] = 0\n",
    "    num_fn_rel[i] = 0\n",
    "    num_tn_rel[i] = 0\n",
    "    for idx,row in fin_res.iterrows():\n",
    "        if (i in row['KN_label']) and (i in row[\"My_label\"]):\n",
    "            num_tp_rel[i] += 1\n",
    "            \n",
    "        elif (i in row['KN_label']) and not(i in row[\"My_label\"]):\n",
    "            num_fn_rel[i] += 1\n",
    "            \n",
    "        elif not(i in row['KN_label']) and (i in row[\"My_label\"]):\n",
    "            num_fp_rel[i] += 1\n",
    "            \n",
    "        elif not(i in row['KN_label']) and not(i in row[\"My_label\"]):\n",
    "            num_tn_rel[i] += 1\n",
    "\n",
    "            \n",
    "tp_df = pd.DataFrame(columns=[\"text\", \"label\"])\n",
    "for key,value in dict_tp.items():\n",
    "    if key != \"counter\":\n",
    "        new_row = pd.DataFrame({\"text\": [key], \"label\": [value]})\n",
    "        tp_df = pd.concat([tp_df,new_row], ignore_index=True)\n",
    "        \n",
    "tp_df[\"label\"] = tp_df[\"label\"].apply(vec_to_rel)\n",
    "\n",
    "\n",
    "\n",
    "fp_df = pd.DataFrame(columns=[\"text\", \"label\"])\n",
    "for key,value in dict_fp.items():\n",
    "    if key != \"counter\":\n",
    "        new_row = pd.DataFrame({\"text\": [key], \"label\": [value]})\n",
    "        fp_df = pd.concat([fp_df,new_row], ignore_index=True)\n",
    "\n",
    "fp_df[\"label\"] = fp_df[\"label\"].apply(vec_to_rel)\n",
    "\n",
    "\n",
    "        \n",
    "fn_df = pd.DataFrame(columns=[\"text\", \"label\"])\n",
    "for key,value in dict_fn.items():\n",
    "    if key != \"counter\":\n",
    "        new_row = pd.DataFrame({\"text\": [key], \"label\": [value]})\n",
    "        fn_df = pd.concat([fn_df,new_row], ignore_index=True)\n",
    "        \n",
    "fn_df[\"label\"] = fn_df[\"label\"].apply(vec_to_rel)\n",
    "\n",
    "\n",
    "tn_df = pd.DataFrame(columns=[\"text\", \"label\"])\n",
    "for key,value in dict_fn.items():\n",
    "    if key != \"counter\":\n",
    "        new_row = pd.DataFrame({\"text\": [key], \"label\": [value]})\n",
    "        tn_df = pd.concat([tn_df,new_row], ignore_index=True)\n",
    "        \n",
    "tn_df[\"label\"] = tn_df[\"label\"].apply(vec_to_rel)\n",
    "\n",
    "\n",
    "\n",
    "\n",
    "for rel in relations:\n",
    "    accuracy_rel[rel] = (num_tp_rel[rel]+num_tn_rel[rel])/(num_tp_rel[rel]+num_tn_rel[rel]+num_fp_rel[rel]+num_fn_rel[rel])\n",
    "    prec_rel[rel] = num_tp_rel[rel]/(num_tp_rel[rel] + num_fp_rel[rel])\n",
    "    recall_rel[rel] = num_tp_rel[rel]/(num_tp_rel[rel] + num_fn_rel[rel])\n",
    "    f1_rel[rel] = 2*((prec_rel[rel]*recall_rel[rel])/(prec_rel[rel]+recall_rel[rel]))\n",
    "\n",
    "metr_names = [\"Accuracy\", \"Precision\", \"Recall\", \"F1-Score\", \"TP\", \"TN\", \"FP\", \"FN\"]\n",
    "diclis = [accuracy_rel, prec_rel,recall_rel,f1_rel,num_tp_rel, num_tn_rel, num_fp_rel, num_fn_rel]\n",
    "\n",
    "\n",
    "#print(\"TP: \",dict_tp[\"counter\"])\n",
    "#print(\"FP: \",dict_fp[\"counter\"])\n",
    "#print(\"FN: \",dict_fn[\"counter\"])\n",
    "\n",
    "#print(num_tp_rel)\n",
    "#print(num_fp_rel)\n",
    "#print(num_fn_rel)"
   ]
  },
  {
   "cell_type": "code",
   "execution_count": 26,
   "id": "6e2a979f",
   "metadata": {
    "scrolled": false
   },
   "outputs": [
    {
     "data": {
      "text/html": [
       "<div>\n",
       "<style scoped>\n",
       "    .dataframe tbody tr th:only-of-type {\n",
       "        vertical-align: middle;\n",
       "    }\n",
       "\n",
       "    .dataframe tbody tr th {\n",
       "        vertical-align: top;\n",
       "    }\n",
       "\n",
       "    .dataframe thead th {\n",
       "        text-align: right;\n",
       "    }\n",
       "</style>\n",
       "<table border=\"1\" class=\"dataframe\">\n",
       "  <thead>\n",
       "    <tr style=\"text-align: right;\">\n",
       "      <th></th>\n",
       "      <th>RELATION</th>\n",
       "      <th>#TP</th>\n",
       "      <th>#TN</th>\n",
       "      <th>#FP</th>\n",
       "      <th>#FN</th>\n",
       "      <th>#TRAIN_EXPL</th>\n",
       "      <th>Accuracy</th>\n",
       "      <th>Precision</th>\n",
       "      <th>Recall</th>\n",
       "      <th>F1-Score</th>\n",
       "    </tr>\n",
       "  </thead>\n",
       "  <tbody>\n",
       "    <tr>\n",
       "      <th>0</th>\n",
       "      <td>SUBSIDIARY_OF</td>\n",
       "      <td>58.0</td>\n",
       "      <td>797.0</td>\n",
       "      <td>3.0</td>\n",
       "      <td>1.0</td>\n",
       "      <td>175.0</td>\n",
       "      <td>0.995343</td>\n",
       "      <td>0.950820</td>\n",
       "      <td>0.983051</td>\n",
       "      <td>0.966667</td>\n",
       "    </tr>\n",
       "    <tr>\n",
       "      <th>1</th>\n",
       "      <td>FOUNDED_BY</td>\n",
       "      <td>43.0</td>\n",
       "      <td>784.0</td>\n",
       "      <td>17.0</td>\n",
       "      <td>15.0</td>\n",
       "      <td>189.0</td>\n",
       "      <td>0.962747</td>\n",
       "      <td>0.716667</td>\n",
       "      <td>0.741379</td>\n",
       "      <td>0.728814</td>\n",
       "    </tr>\n",
       "    <tr>\n",
       "      <th>2</th>\n",
       "      <td>EMPLOYEE_OR_MEMBER_OF</td>\n",
       "      <td>62.0</td>\n",
       "      <td>761.0</td>\n",
       "      <td>12.0</td>\n",
       "      <td>24.0</td>\n",
       "      <td>301.0</td>\n",
       "      <td>0.958091</td>\n",
       "      <td>0.837838</td>\n",
       "      <td>0.720930</td>\n",
       "      <td>0.775000</td>\n",
       "    </tr>\n",
       "    <tr>\n",
       "      <th>3</th>\n",
       "      <td>CEO</td>\n",
       "      <td>62.0</td>\n",
       "      <td>785.0</td>\n",
       "      <td>11.0</td>\n",
       "      <td>1.0</td>\n",
       "      <td>179.0</td>\n",
       "      <td>0.986030</td>\n",
       "      <td>0.849315</td>\n",
       "      <td>0.984127</td>\n",
       "      <td>0.911765</td>\n",
       "    </tr>\n",
       "    <tr>\n",
       "      <th>4</th>\n",
       "      <td>DATE_FOUNDED</td>\n",
       "      <td>44.0</td>\n",
       "      <td>791.0</td>\n",
       "      <td>8.0</td>\n",
       "      <td>16.0</td>\n",
       "      <td>190.0</td>\n",
       "      <td>0.972061</td>\n",
       "      <td>0.846154</td>\n",
       "      <td>0.733333</td>\n",
       "      <td>0.785714</td>\n",
       "    </tr>\n",
       "    <tr>\n",
       "      <th>5</th>\n",
       "      <td>HEADQUARTERS</td>\n",
       "      <td>56.0</td>\n",
       "      <td>796.0</td>\n",
       "      <td>1.0</td>\n",
       "      <td>6.0</td>\n",
       "      <td>179.0</td>\n",
       "      <td>0.991851</td>\n",
       "      <td>0.982456</td>\n",
       "      <td>0.903226</td>\n",
       "      <td>0.941176</td>\n",
       "    </tr>\n",
       "    <tr>\n",
       "      <th>6</th>\n",
       "      <td>EDUCATED_AT</td>\n",
       "      <td>32.0</td>\n",
       "      <td>816.0</td>\n",
       "      <td>5.0</td>\n",
       "      <td>6.0</td>\n",
       "      <td>161.0</td>\n",
       "      <td>0.987194</td>\n",
       "      <td>0.864865</td>\n",
       "      <td>0.842105</td>\n",
       "      <td>0.853333</td>\n",
       "    </tr>\n",
       "    <tr>\n",
       "      <th>7</th>\n",
       "      <td>NATIONALITY</td>\n",
       "      <td>48.0</td>\n",
       "      <td>750.0</td>\n",
       "      <td>35.0</td>\n",
       "      <td>26.0</td>\n",
       "      <td>235.0</td>\n",
       "      <td>0.928987</td>\n",
       "      <td>0.578313</td>\n",
       "      <td>0.648649</td>\n",
       "      <td>0.611465</td>\n",
       "    </tr>\n",
       "    <tr>\n",
       "      <th>8</th>\n",
       "      <td>PLACE_OF_RESIDENCE</td>\n",
       "      <td>67.0</td>\n",
       "      <td>768.0</td>\n",
       "      <td>15.0</td>\n",
       "      <td>9.0</td>\n",
       "      <td>200.0</td>\n",
       "      <td>0.972061</td>\n",
       "      <td>0.817073</td>\n",
       "      <td>0.881579</td>\n",
       "      <td>0.848101</td>\n",
       "    </tr>\n",
       "    <tr>\n",
       "      <th>9</th>\n",
       "      <td>PLACE_OF_BIRTH</td>\n",
       "      <td>64.0</td>\n",
       "      <td>747.0</td>\n",
       "      <td>26.0</td>\n",
       "      <td>22.0</td>\n",
       "      <td>235.0</td>\n",
       "      <td>0.944121</td>\n",
       "      <td>0.711111</td>\n",
       "      <td>0.744186</td>\n",
       "      <td>0.727273</td>\n",
       "    </tr>\n",
       "    <tr>\n",
       "      <th>10</th>\n",
       "      <td>DATE_OF_DEATH</td>\n",
       "      <td>49.0</td>\n",
       "      <td>799.0</td>\n",
       "      <td>9.0</td>\n",
       "      <td>2.0</td>\n",
       "      <td>190.0</td>\n",
       "      <td>0.987194</td>\n",
       "      <td>0.844828</td>\n",
       "      <td>0.960784</td>\n",
       "      <td>0.899083</td>\n",
       "    </tr>\n",
       "    <tr>\n",
       "      <th>11</th>\n",
       "      <td>DATE_OF_BIRTH</td>\n",
       "      <td>54.0</td>\n",
       "      <td>732.0</td>\n",
       "      <td>33.0</td>\n",
       "      <td>40.0</td>\n",
       "      <td>273.0</td>\n",
       "      <td>0.915017</td>\n",
       "      <td>0.620690</td>\n",
       "      <td>0.574468</td>\n",
       "      <td>0.596685</td>\n",
       "    </tr>\n",
       "    <tr>\n",
       "      <th>12</th>\n",
       "      <td>SPOUSE</td>\n",
       "      <td>52.0</td>\n",
       "      <td>795.0</td>\n",
       "      <td>8.0</td>\n",
       "      <td>4.0</td>\n",
       "      <td>141.0</td>\n",
       "      <td>0.986030</td>\n",
       "      <td>0.866667</td>\n",
       "      <td>0.928571</td>\n",
       "      <td>0.896552</td>\n",
       "    </tr>\n",
       "    <tr>\n",
       "      <th>13</th>\n",
       "      <td>CHILD_OF</td>\n",
       "      <td>38.0</td>\n",
       "      <td>804.0</td>\n",
       "      <td>9.0</td>\n",
       "      <td>8.0</td>\n",
       "      <td>167.0</td>\n",
       "      <td>0.980210</td>\n",
       "      <td>0.808511</td>\n",
       "      <td>0.826087</td>\n",
       "      <td>0.817204</td>\n",
       "    </tr>\n",
       "    <tr>\n",
       "      <th>14</th>\n",
       "      <td>POLITICAL_AFFILIATION</td>\n",
       "      <td>52.0</td>\n",
       "      <td>800.0</td>\n",
       "      <td>5.0</td>\n",
       "      <td>2.0</td>\n",
       "      <td>157.0</td>\n",
       "      <td>0.991851</td>\n",
       "      <td>0.912281</td>\n",
       "      <td>0.962963</td>\n",
       "      <td>0.936937</td>\n",
       "    </tr>\n",
       "    <tr>\n",
       "      <th>15</th>\n",
       "      <td>PLACE_OF_DEATH</td>\n",
       "      <td>16.0</td>\n",
       "      <td>840.0</td>\n",
       "      <td>0.0</td>\n",
       "      <td>3.0</td>\n",
       "      <td>53.0</td>\n",
       "      <td>0.996508</td>\n",
       "      <td>1.000000</td>\n",
       "      <td>0.842105</td>\n",
       "      <td>0.914286</td>\n",
       "    </tr>\n",
       "    <tr>\n",
       "      <th>16</th>\n",
       "      <td>AUTHOR</td>\n",
       "      <td>24.0</td>\n",
       "      <td>831.0</td>\n",
       "      <td>0.0</td>\n",
       "      <td>4.0</td>\n",
       "      <td>86.0</td>\n",
       "      <td>0.995343</td>\n",
       "      <td>1.000000</td>\n",
       "      <td>0.857143</td>\n",
       "      <td>0.923077</td>\n",
       "    </tr>\n",
       "    <tr>\n",
       "      <th>17</th>\n",
       "      <td>MACRO AVERAGE</td>\n",
       "      <td>821.0</td>\n",
       "      <td>13396.0</td>\n",
       "      <td>197.0</td>\n",
       "      <td>189.0</td>\n",
       "      <td>3111.0</td>\n",
       "      <td>0.973567</td>\n",
       "      <td>0.835740</td>\n",
       "      <td>0.831452</td>\n",
       "      <td>0.831361</td>\n",
       "    </tr>\n",
       "    <tr>\n",
       "      <th>18</th>\n",
       "      <td>MICRO AVERAGE</td>\n",
       "      <td>NaN</td>\n",
       "      <td>NaN</td>\n",
       "      <td>NaN</td>\n",
       "      <td>NaN</td>\n",
       "      <td>NaN</td>\n",
       "      <td>0.973567</td>\n",
       "      <td>0.806483</td>\n",
       "      <td>0.812871</td>\n",
       "      <td>0.809665</td>\n",
       "    </tr>\n",
       "  </tbody>\n",
       "</table>\n",
       "</div>"
      ],
      "text/plain": [
       "                 RELATION    #TP      #TN    #FP    #FN  #TRAIN_EXPL  \\\n",
       "0           SUBSIDIARY_OF   58.0    797.0    3.0    1.0        175.0   \n",
       "1              FOUNDED_BY   43.0    784.0   17.0   15.0        189.0   \n",
       "2   EMPLOYEE_OR_MEMBER_OF   62.0    761.0   12.0   24.0        301.0   \n",
       "3                     CEO   62.0    785.0   11.0    1.0        179.0   \n",
       "4            DATE_FOUNDED   44.0    791.0    8.0   16.0        190.0   \n",
       "5            HEADQUARTERS   56.0    796.0    1.0    6.0        179.0   \n",
       "6             EDUCATED_AT   32.0    816.0    5.0    6.0        161.0   \n",
       "7             NATIONALITY   48.0    750.0   35.0   26.0        235.0   \n",
       "8      PLACE_OF_RESIDENCE   67.0    768.0   15.0    9.0        200.0   \n",
       "9          PLACE_OF_BIRTH   64.0    747.0   26.0   22.0        235.0   \n",
       "10          DATE_OF_DEATH   49.0    799.0    9.0    2.0        190.0   \n",
       "11          DATE_OF_BIRTH   54.0    732.0   33.0   40.0        273.0   \n",
       "12                 SPOUSE   52.0    795.0    8.0    4.0        141.0   \n",
       "13               CHILD_OF   38.0    804.0    9.0    8.0        167.0   \n",
       "14  POLITICAL_AFFILIATION   52.0    800.0    5.0    2.0        157.0   \n",
       "15         PLACE_OF_DEATH   16.0    840.0    0.0    3.0         53.0   \n",
       "16                 AUTHOR   24.0    831.0    0.0    4.0         86.0   \n",
       "17          MACRO AVERAGE  821.0  13396.0  197.0  189.0       3111.0   \n",
       "18          MICRO AVERAGE    NaN      NaN    NaN    NaN          NaN   \n",
       "\n",
       "    Accuracy  Precision    Recall  F1-Score  \n",
       "0   0.995343   0.950820  0.983051  0.966667  \n",
       "1   0.962747   0.716667  0.741379  0.728814  \n",
       "2   0.958091   0.837838  0.720930  0.775000  \n",
       "3   0.986030   0.849315  0.984127  0.911765  \n",
       "4   0.972061   0.846154  0.733333  0.785714  \n",
       "5   0.991851   0.982456  0.903226  0.941176  \n",
       "6   0.987194   0.864865  0.842105  0.853333  \n",
       "7   0.928987   0.578313  0.648649  0.611465  \n",
       "8   0.972061   0.817073  0.881579  0.848101  \n",
       "9   0.944121   0.711111  0.744186  0.727273  \n",
       "10  0.987194   0.844828  0.960784  0.899083  \n",
       "11  0.915017   0.620690  0.574468  0.596685  \n",
       "12  0.986030   0.866667  0.928571  0.896552  \n",
       "13  0.980210   0.808511  0.826087  0.817204  \n",
       "14  0.991851   0.912281  0.962963  0.936937  \n",
       "15  0.996508   1.000000  0.842105  0.914286  \n",
       "16  0.995343   1.000000  0.857143  0.923077  \n",
       "17  0.973567   0.835740  0.831452  0.831361  \n",
       "18  0.973567   0.806483  0.812871  0.809665  "
      ]
     },
     "execution_count": 26,
     "metadata": {},
     "output_type": "execute_result"
    }
   ],
   "source": [
    "rel_metr_df = pd.DataFrame(columns=['RELATION','#TP', '#TN','#FP', '#FN', '#TRAIN_EXPL','Accuracy', 'Precision', 'Recall', 'F1-Score'])\n",
    "\n",
    "for i in relations:\n",
    "    #print(i)\n",
    "    row = {}\n",
    "    row[\"RELATION\"] = i\n",
    "    row[\"#TP\"] = diclis[4][i]\n",
    "    row[\"#TN\"] = diclis[5][i]\n",
    "    row[\"#FP\"] = diclis[6][i]\n",
    "    row[\"#FN\"] = diclis[7][i]\n",
    "    row[\"#TRAIN_EXPL\"] = (train_df['label'].apply(lambda x: x[int(rel_idx[i])] == 1)).sum()\n",
    "    row[\"Accuracy\"] = diclis[0][i]\n",
    "    row[\"Precision\"] = diclis[1][i]\n",
    "    row[\"Recall\"] = diclis[2][i]\n",
    "    row[\"F1-Score\"] = diclis[3][i]\n",
    "    \n",
    "    rel_metr_df.loc[len(rel_metr_df)] = row\n",
    "\n",
    "\n",
    "acc_macro = rel_metr_df['Accuracy'].sum()/len(rel_metr_df)\n",
    "prec_macro = rel_metr_df['Precision'].sum()/len(rel_metr_df)\n",
    "rec_macro = rel_metr_df['Recall'].sum()/len(rel_metr_df)\n",
    "f1_macro = rel_metr_df['F1-Score'].sum()/len(rel_metr_df)\n",
    "\n",
    "acc_micro = (rel_metr_df['#TP'].sum() + rel_metr_df['#TN'].sum()) / (rel_metr_df['#TP'].sum() + rel_metr_df['#TN'].sum() + rel_metr_df['#FP'].sum() + rel_metr_df['#FN'].sum())\n",
    "prec_micro = rel_metr_df['#TP'].sum() / (rel_metr_df['#TP'].sum() + rel_metr_df['#FP'].sum())\n",
    "rec_micro = rel_metr_df['#TP'].sum() / (rel_metr_df['#TP'].sum() + rel_metr_df['#FN'].sum())\n",
    "f1_micro = rel_metr_df['#TP'].sum() / (rel_metr_df['#TP'].sum() + 0.5 * (rel_metr_df['#FP'].sum() + rel_metr_df['#FN'].sum()))\n",
    "\n",
    "all_row = {'RELATION': ['MACRO AVERAGE', 'MICRO AVERAGE'],\n",
    "          '#TP': [rel_metr_df['#TP'].sum(), None],\n",
    "          '#TN': [rel_metr_df['#TN'].sum(), None],\n",
    "          '#FP': [rel_metr_df['#FP'].sum(), None],\n",
    "          '#FN': [rel_metr_df['#FN'].sum(), None],\n",
    "          '#TRAIN_EXPL': [rel_metr_df['#TRAIN_EXPL'].sum(), None],\n",
    "          'Accuracy': [acc_macro, acc_micro],\n",
    "          'Precision': [prec_macro, prec_micro],\n",
    "          'Recall': [rec_macro, rec_micro],\n",
    "          'F1-Score': [f1_macro, f1_micro]}\n",
    "\n",
    "df_micmac = pd.DataFrame(all_row)\n",
    "\n",
    "rel_metr_df = pd.concat([rel_metr_df, df_micmac], ignore_index=True)\n",
    "rel_metr_df"
   ]
  },
  {
   "cell_type": "code",
   "execution_count": 27,
   "id": "dc6e1145",
   "metadata": {
    "scrolled": false
   },
   "outputs": [
    {
     "data": {
      "image/png": "[encoded data removed]",
      "text/plain": [
       "<Figure size 1400x1100 with 1 Axes>"
      ]
     },
     "metadata": {},
     "output_type": "display_data"
    }
   ],
   "source": [
    "df_prov = rel_metr_df[['RELATION','Accuracy', 'Precision', 'Recall', 'F1-Score']][:17]\n",
    "\n",
    "import matplotlib.pyplot as plt\n",
    "import numpy as np\n",
    "\n",
    "# Selecting relations and scores for plotting\n",
    "relations = df_prov['RELATION']\n",
    "scores = df_prov[['Accuracy', 'Precision', 'Recall', 'F1-Score']]\n",
    "\n",
    "x = np.arange(len(relations))\n",
    "width = 0.2  # the width of the bars\n",
    "multiplier = 0\n",
    "\n",
    "\n",
    "fig, ax = plt.subplots(figsize=(14, 11)) #size of whole plot\n",
    "\n",
    "for attribute, measurement in scores.items():\n",
    "    offset = width * multiplier\n",
    "    rects = ax.bar(x + offset, measurement, width, label=attribute)\n",
    "    ax.bar_label(rects, labels=[f'{val:.3f}' for val in measurement], padding=4, rotation=90)\n",
    "    #ax.bar_label(rects, padding=0)\n",
    "    multiplier += 1\n",
    "\n",
    "ax.grid(axis='y')\n",
    "ax.set_ylabel('Scores')\n",
    "ax.set_title('Metrics for Different Relations')\n",
    "ax.set_xticks(x + width * 1.5)\n",
    "ax.set_xticklabels(relations, rotation=90)\n",
    "#ax.legend()\n",
    "ax.legend(bbox_to_anchor=(1, 1), loc='upper left')\n",
    "\n",
    "plt.tight_layout()\n",
    "plt.show()"
   ]
  },
  {
   "cell_type": "markdown",
   "id": "db9fe5d5",
   "metadata": {},
   "source": [
    "**Save DataFrame for TP, FP, FN Results**"
   ]
  },
  {
   "cell_type": "code",
   "execution_count": null,
   "id": "78d08b0f",
   "metadata": {},
   "outputs": [],
   "source": [
    "# File path to save the Excel file\n",
    "csv_file_path = '../../output/tp.csv'\n",
    "\n",
    "# Save the DataFrame to an Excel file\n",
    "tp_df.to_csv(csv_file_path, index=False)\n",
    "\n",
    "# Provide a link to download the file\n",
    "from IPython.display import FileLink\n",
    "display(FileLink(csv_file_path))"
   ]
  },
  {
   "cell_type": "code",
   "execution_count": null,
   "id": "e0968137",
   "metadata": {},
   "outputs": [],
   "source": [
    "# File path to save the Excel file\n",
    "csv_file_path = '../../output/fp.csv'\n",
    "\n",
    "# Save the DataFrame to an Excel file\n",
    "fp_df.to_csv(csv_file_path, index=False)\n",
    "\n",
    "# Provide a link to download the file\n",
    "from IPython.display import FileLink\n",
    "display(FileLink(csv_file_path))"
   ]
  },
  {
   "cell_type": "code",
   "execution_count": null,
   "id": "f8110122",
   "metadata": {},
   "outputs": [],
   "source": [
    "# File path to save the Excel file\n",
    "csv_file_path = '../../output/fn.csv'\n",
    "\n",
    "# Save the DataFrame to an Excel file\n",
    "fn_df.to_csv(csv_file_path, index=False)\n",
    "\n",
    "# Provide a link to download the file\n",
    "from IPython.display import FileLink\n",
    "display(FileLink(csv_file_path))"
   ]
  },
  {
   "cell_type": "code",
   "execution_count": null,
   "id": "5b2f5a92",
   "metadata": {},
   "outputs": [],
   "source": [
    "# File path to save the Excel file\n",
    "csv_file_path = '../../output/metrics.csv'\n",
    "\n",
    "# Save the DataFrame to an Excel file\n",
    "rel_metr_df.to_csv(csv_file_path, index=False)\n",
    "\n",
    "# Provide a link to download the file\n",
    "from IPython.display import FileLink\n",
    "display(FileLink(csv_file_path))"
   ]
  },
  {
   "cell_type": "markdown",
   "id": "3f69fa38",
   "metadata": {},
   "source": [
    "## 6. FewShot-Learning Experiment\n",
    "The following section, provides an intuition about the amount of necessary data in order to succefully implement such an RE model with BERT. This is done by evaluating the model with different amounts of training data, while maintaining the same testing set. Additionally, it is important to adjust the threshold when classifying the results, in order to obtain the best possible performance."
   ]
  },
  {
   "cell_type": "markdown",
   "id": "47f2dc33",
   "metadata": {},
   "source": [
    "### 6.A. Necessary Methods and Variables\n",
    "All the steps from section 4 were embedded into methods into the script my_trainer.py, in order to keep the Jupyter Notebook readable."
   ]
  },
  {
   "cell_type": "code",
   "execution_count": 13,
   "id": "e176e6e4",
   "metadata": {},
   "outputs": [
    {
     "name": "stdout",
     "output_type": "stream",
     "text": [
      "Script was successfully imported\n"
     ]
    }
   ],
   "source": [
    "import sys\n",
    "sys.path.append('../..')\n",
    "\n",
    "#from my_trainer import *\n",
    "import my_trainer as mytr\n",
    "\n",
    "treshli = [0.001, 0.01, 0.05, 0.1, 0.15, 0.2, 0.25, 0.3, 0.35, 0.4, 0.45, 0.5, 0.6]\n",
    "fshot_names = [\"df_fshot_5\", \"df_fshot_10\", \"df_fshot_15\", \"df_fshot_20\", \"df_fshot_25\", \"df_fshot_30\", \"df_fshot35\", \"df_fshot_40\", \"df_fshot_45\", \"df_fshot_50\", \"df_fshot_80\"]"
   ]
  },
  {
   "cell_type": "markdown",
   "id": "60acf713",
   "metadata": {},
   "source": [
    "### 6.B. DataSet Subdivision\n",
    "In order to perform the experiment, we need to correctly select from each relation a dataset corresponding to the amounts (i.e. 5,10,15,...,50,80). This means we will have for each relation 11 datasets."
   ]
  },
  {
   "cell_type": "code",
   "execution_count": 28,
   "id": "b57f30a6",
   "metadata": {
    "scrolled": true
   },
   "outputs": [],
   "source": [
    "df_fshot_5 = pd.DataFrame()\n",
    "df_fshot_10 = pd.DataFrame()\n",
    "df_fshot_15 = pd.DataFrame()\n",
    "df_fshot_20 = pd.DataFrame()\n",
    "df_fshot_25 = pd.DataFrame()\n",
    "df_fshot_30 = pd.DataFrame()\n",
    "df_fshot_35 = pd.DataFrame()\n",
    "df_fshot_40 = pd.DataFrame()\n",
    "df_fshot_45 = pd.DataFrame()\n",
    "df_fshot_50 = pd.DataFrame()\n",
    "df_fshot_80 = pd.DataFrame()\n",
    "\n",
    "amounts = [5,10,15,20,25,30,35,40,45,50,80]\n",
    "few_shot_dfs = [df_fshot_5, df_fshot_10, df_fshot_15, df_fshot_20, df_fshot_25, df_fshot_30, df_fshot_35, df_fshot_40, df_fshot_45, df_fshot_50, df_fshot_80]\n",
    "fshot_names = [\"df_fshot_5\", \"df_fshot_10\", \"df_fshot_15\", \"df_fshot_20\", \"df_fshot_25\", \"df_fshot_30\", \"df_fshot_35\", \"df_fshot_40\", \"df_fshot_45\", \"df_fshot_50\", \"df_fshot_80\"]\n",
    "\n",
    "rels = [\"SUBSIDIARY_OF\", \"FOUNDED_BY\", \"EMPLOYEE_OR_MEMBER_OF\", \"CEO\", \"DATE_FOUNDED\", \"HEADQUARTERS\", \"EDUCATED_AT\", \"NATIONALITY\", \"PLACE_OF_RESIDENCE\", \"PLACE_OF_BIRTH\", \"DATE_OF_DEATH\", \"DATE_OF_BIRTH\", \"SPOUSE\", \"CHILD_OF\", \"POLITICAL_AFFILIATION\", \"PLACE_OF_DEATH\", \"AUTHOR\", \"DEATH\"]\n",
    "all_label = [[\"SUBSIDIARY_OF\"], [\"FOUNDED_BY\"], [\"EMPLOYEE_OR_MEMBER_OF\"], [\"CEO\"], [\"DATE_FOUNDED\"], [\"HEADQUARTERS\"], [\"EDUCATED_AT\"], [\"NATIONALITY\"], [\"PLACE_OF_RESIDENCE\"], [\"PLACE_OF_BIRTH\"], [\"DATE_OF_DEATH\"], [\"DATE_OF_BIRTH\"], [\"SPOUSE\"], [\"CHILD_OF\"], [\"POLITICAL_AFFILIATION\"], [\"PLACE_OF_DEATH\"], [\"AUTHOR\"], [\"PLACE_OF_DEATH\", \"DATE_OF_DEATH\"]]\n",
    "all_label_vec = list(map(label_to_multilabelVec, all_label))\n",
    "\n",
    "dict_dfs = {}\n",
    "\n",
    "for a, f, n in zip(amounts,few_shot_dfs,fshot_names):\n",
    "    \n",
    "    for i, j in zip(rels,all_label_vec):\n",
    "        \n",
    "        amount = a\n",
    "\n",
    "        if amount == 80 and (i == \"PLACE_OF_DEATH\" or i == \"AUTHOR\"):\n",
    "            if i == \"PLACE_OF_DEATH\":\n",
    "                temp = train_df[train_df[\"label\"].apply(lambda x: x[15] == 1)]\n",
    "            else:\n",
    "                temp = train_df[train_df[\"label\"].apply(lambda x: x[16] == 1)]\n",
    "\n",
    "        elif i == \"DEATH\":\n",
    "            amount = (amount//3)\n",
    "            temp = train_df[train_df[\"label\"].apply(lambda x: x == j)].head(amount)\n",
    "\n",
    "        elif i == \"PLACE_OF_DEATH\" or i == \"DATE_OF_DEATH\":\n",
    "            amount = amount-(amount//3)\n",
    "            temp = train_df[train_df[\"label\"].apply(lambda x: x == j)].head(amount)\n",
    "            \n",
    "        else:\n",
    "            temp = train_df[train_df[\"label\"].apply(lambda x: x == j)].head(amount)\n",
    "        #print(temp)\n",
    "        f = pd.concat([f,temp])\n",
    "        \n",
    "    # shuffle\n",
    "    f = f.sample(frac=1).reset_index(drop=True)\n",
    "    dict_dfs[n] = f\n",
    "    \n",
    "#dict_dfs[\"df_fshot_80\"]"
   ]
  },
  {
   "cell_type": "markdown",
   "id": "27bf3d75",
   "metadata": {},
   "source": [
    "### 6.C. Running the FewShot-Learning Experiment (Re-Training)\n",
    "The following cell trains and saves all the datasets and evaluates the over many different threshold."
   ]
  },
  {
   "cell_type": "code",
   "execution_count": null,
   "id": "d3f1297d",
   "metadata": {},
   "outputs": [],
   "source": [
    "result_fshot = []\n",
    "grouped_dt = {}\n",
    "\n",
    "max_sequence_length1 = 128\n",
    "batch_size1 = 8\n",
    "num_epochs1 = 10\n",
    "learning_rate1 = 2e-5\n",
    "result_fshot = []\n",
    "\n",
    "for i,z in zip(fshot_names,[5,10,15,20,25,30,35,40,45,50,80]):\n",
    "    model = mytr.trainee(dict_dfs[i])\n",
    "    mytr.save_model(model, i, batch_size1,num_epochs1, learning_rate1, max_sequence_length1)\n",
    "    print(i, \"\\n\")\n",
    "    for t in treshli:\n",
    "        res = mytr.evaluator(val_df, model,t,z)\n",
    "        result_fshot.append(res)\n",
    "        \n",
    "#print(result_fshot)"
   ]
  },
  {
   "cell_type": "markdown",
   "id": "618068f7",
   "metadata": {},
   "source": [
    "### 6.D. Running the FewShot-Learning Experiment (Already trained)\n",
    "If the different models corresponding to the 11 different datasets were already trained and saved once (cf. 6.C.), we can just load them and evaluate them."
   ]
  },
  {
   "cell_type": "code",
   "execution_count": 31,
   "id": "e226d50d",
   "metadata": {},
   "outputs": [
    {
     "name": "stdout",
     "output_type": "stream",
     "text": [
      "Number of test examples: 859\n",
      "Test text example: The Secretary of the Navy was, from its creation in 1798, a member of the President's Cabinet until 1949, when the Secretary of the Navy (and the Secretaries of the Army and Air Force) was by amendments to the National Security Act of 1947 made subordinate to the Secretary of Defense.\n",
      "Test label example: tensor([0., 0., 0., 0., 1., 0., 0., 0., 0., 0., 0., 0., 0., 0., 0., 0., 0.])\n"
     ]
    },
    {
     "name": "stderr",
     "output_type": "stream",
     "text": [
      "Testing: 100%|█████████████████████████████████████████████████████████████████████████████████████████████████████████████████████████████████████████████████████████████████████████████████████████████████████| 108/108 [00:22<00:00,  4.80it/s]\n"
     ]
    },
    {
     "name": "stdout",
     "output_type": "stream",
     "text": [
      "Threshold:       0.001\n",
      "Accuracy: 0.00%\n",
      "Precision: 6.92%\n",
      "Recall: 100.00%\n",
      "F1-Score: 12.94%\n",
      "Number of test examples: 859\n",
      "Test text example: The Secretary of the Navy was, from its creation in 1798, a member of the President's Cabinet until 1949, when the Secretary of the Navy (and the Secretaries of the Army and Air Force) was by amendments to the National Security Act of 1947 made subordinate to the Secretary of Defense.\n",
      "Test label example: tensor([0., 0., 0., 0., 1., 0., 0., 0., 0., 0., 0., 0., 0., 0., 0., 0., 0.])\n"
     ]
    },
    {
     "name": "stderr",
     "output_type": "stream",
     "text": [
      "Testing: 100%|█████████████████████████████████████████████████████████████████████████████████████████████████████████████████████████████████████████████████████████████████████████████████████████████████████| 108/108 [00:23<00:00,  4.64it/s]\n"
     ]
    },
    {
     "name": "stdout",
     "output_type": "stream",
     "text": [
      "Threshold:       0.01\n",
      "Accuracy: 0.00%\n",
      "Precision: 6.92%\n",
      "Recall: 100.00%\n",
      "F1-Score: 12.94%\n",
      "Number of test examples: 859\n",
      "Test text example: The Secretary of the Navy was, from its creation in 1798, a member of the President's Cabinet until 1949, when the Secretary of the Navy (and the Secretaries of the Army and Air Force) was by amendments to the National Security Act of 1947 made subordinate to the Secretary of Defense.\n",
      "Test label example: tensor([0., 0., 0., 0., 1., 0., 0., 0., 0., 0., 0., 0., 0., 0., 0., 0., 0.])\n"
     ]
    },
    {
     "name": "stderr",
     "output_type": "stream",
     "text": [
      "Testing: 100%|█████████████████████████████████████████████████████████████████████████████████████████████████████████████████████████████████████████████████████████████████████████████████████████████████████| 108/108 [00:23<00:00,  4.61it/s]\n"
     ]
    },
    {
     "name": "stdout",
     "output_type": "stream",
     "text": [
      "Threshold:       0.05\n",
      "Accuracy: 0.00%\n",
      "Precision: 6.92%\n",
      "Recall: 100.00%\n",
      "F1-Score: 12.94%\n",
      "Number of test examples: 859\n",
      "Test text example: The Secretary of the Navy was, from its creation in 1798, a member of the President's Cabinet until 1949, when the Secretary of the Navy (and the Secretaries of the Army and Air Force) was by amendments to the National Security Act of 1947 made subordinate to the Secretary of Defense.\n",
      "Test label example: tensor([0., 0., 0., 0., 1., 0., 0., 0., 0., 0., 0., 0., 0., 0., 0., 0., 0.])\n"
     ]
    },
    {
     "name": "stderr",
     "output_type": "stream",
     "text": [
      "Testing: 100%|█████████████████████████████████████████████████████████████████████████████████████████████████████████████████████████████████████████████████████████████████████████████████████████████████████| 108/108 [00:22<00:00,  4.73it/s]\n"
     ]
    },
    {
     "name": "stdout",
     "output_type": "stream",
     "text": [
      "Threshold:       0.1\n",
      "Accuracy: 0.00%\n",
      "Precision: 6.92%\n",
      "Recall: 100.00%\n",
      "F1-Score: 12.94%\n",
      "Number of test examples: 859\n",
      "Test text example: The Secretary of the Navy was, from its creation in 1798, a member of the President's Cabinet until 1949, when the Secretary of the Navy (and the Secretaries of the Army and Air Force) was by amendments to the National Security Act of 1947 made subordinate to the Secretary of Defense.\n",
      "Test label example: tensor([0., 0., 0., 0., 1., 0., 0., 0., 0., 0., 0., 0., 0., 0., 0., 0., 0.])\n"
     ]
    },
    {
     "name": "stderr",
     "output_type": "stream",
     "text": [
      "Testing: 100%|█████████████████████████████████████████████████████████████████████████████████████████████████████████████████████████████████████████████████████████████████████████████████████████████████████| 108/108 [00:22<00:00,  4.73it/s]\n"
     ]
    },
    {
     "name": "stdout",
     "output_type": "stream",
     "text": [
      "Threshold:       0.15\n",
      "Accuracy: 0.00%\n",
      "Precision: 7.37%\n",
      "Recall: 90.69%\n",
      "F1-Score: 13.64%\n",
      "Number of test examples: 859\n",
      "Test text example: The Secretary of the Navy was, from its creation in 1798, a member of the President's Cabinet until 1949, when the Secretary of the Navy (and the Secretaries of the Army and Air Force) was by amendments to the National Security Act of 1947 made subordinate to the Secretary of Defense.\n",
      "Test label example: tensor([0., 0., 0., 0., 1., 0., 0., 0., 0., 0., 0., 0., 0., 0., 0., 0., 0.])\n"
     ]
    },
    {
     "name": "stderr",
     "output_type": "stream",
     "text": [
      "Testing: 100%|█████████████████████████████████████████████████████████████████████████████████████████████████████████████████████████████████████████████████████████████████████████████████████████████████████| 108/108 [00:23<00:00,  4.55it/s]\n"
     ]
    },
    {
     "name": "stdout",
     "output_type": "stream",
     "text": [
      "Threshold:       0.2\n",
      "Accuracy: 0.12%\n",
      "Precision: 10.28%\n",
      "Recall: 54.55%\n",
      "F1-Score: 17.30%\n",
      "Number of test examples: 859\n",
      "Test text example: The Secretary of the Navy was, from its creation in 1798, a member of the President's Cabinet until 1949, when the Secretary of the Navy (and the Secretaries of the Army and Air Force) was by amendments to the National Security Act of 1947 made subordinate to the Secretary of Defense.\n",
      "Test label example: tensor([0., 0., 0., 0., 1., 0., 0., 0., 0., 0., 0., 0., 0., 0., 0., 0., 0.])\n"
     ]
    },
    {
     "name": "stderr",
     "output_type": "stream",
     "text": [
      "Testing: 100%|█████████████████████████████████████████████████████████████████████████████████████████████████████████████████████████████████████████████████████████████████████████████████████████████████████| 108/108 [00:23<00:00,  4.65it/s]\n"
     ]
    },
    {
     "name": "stdout",
     "output_type": "stream",
     "text": [
      "Threshold:       0.25\n",
      "Accuracy: 0.35%\n",
      "Precision: 9.88%\n",
      "Recall: 1.58%\n",
      "F1-Score: 2.73%\n",
      "Number of test examples: 859\n",
      "Test text example: The Secretary of the Navy was, from its creation in 1798, a member of the President's Cabinet until 1949, when the Secretary of the Navy (and the Secretaries of the Army and Air Force) was by amendments to the National Security Act of 1947 made subordinate to the Secretary of Defense.\n",
      "Test label example: tensor([0., 0., 0., 0., 1., 0., 0., 0., 0., 0., 0., 0., 0., 0., 0., 0., 0.])\n"
     ]
    },
    {
     "name": "stderr",
     "output_type": "stream",
     "text": [
      "Testing: 100%|█████████████████████████████████████████████████████████████████████████████████████████████████████████████████████████████████████████████████████████████████████████████████████████████████████| 108/108 [00:22<00:00,  4.80it/s]\n",
      "/Users/tariktornes/Documents/UniLux/Semester 3/BSPS3/PyTorchEnvs/pytorch-test1/env/lib/python3.8/site-packages/sklearn/metrics/_classification.py:1469: UndefinedMetricWarning: Precision is ill-defined and being set to 0.0 due to no predicted samples. Use `zero_division` parameter to control this behavior.\n",
      "  _warn_prf(average, modifier, msg_start, len(result))\n"
     ]
    },
    {
     "name": "stdout",
     "output_type": "stream",
     "text": [
      "Threshold:       0.3\n",
      "Accuracy: 0.00%\n",
      "Precision: 0.00%\n",
      "Recall: 0.00%\n",
      "F1-Score: 0.00%\n",
      "Number of test examples: 859\n",
      "Test text example: The Secretary of the Navy was, from its creation in 1798, a member of the President's Cabinet until 1949, when the Secretary of the Navy (and the Secretaries of the Army and Air Force) was by amendments to the National Security Act of 1947 made subordinate to the Secretary of Defense.\n",
      "Test label example: tensor([0., 0., 0., 0., 1., 0., 0., 0., 0., 0., 0., 0., 0., 0., 0., 0., 0.])\n"
     ]
    },
    {
     "name": "stderr",
     "output_type": "stream",
     "text": [
      "Testing: 100%|█████████████████████████████████████████████████████████████████████████████████████████████████████████████████████████████████████████████████████████████████████████████████████████████████████| 108/108 [00:22<00:00,  4.71it/s]\n",
      "/Users/tariktornes/Documents/UniLux/Semester 3/BSPS3/PyTorchEnvs/pytorch-test1/env/lib/python3.8/site-packages/sklearn/metrics/_classification.py:1469: UndefinedMetricWarning: Precision is ill-defined and being set to 0.0 due to no predicted samples. Use `zero_division` parameter to control this behavior.\n",
      "  _warn_prf(average, modifier, msg_start, len(result))\n"
     ]
    },
    {
     "name": "stdout",
     "output_type": "stream",
     "text": [
      "Threshold:       0.35\n",
      "Accuracy: 0.00%\n",
      "Precision: 0.00%\n",
      "Recall: 0.00%\n",
      "F1-Score: 0.00%\n",
      "Number of test examples: 859\n",
      "Test text example: The Secretary of the Navy was, from its creation in 1798, a member of the President's Cabinet until 1949, when the Secretary of the Navy (and the Secretaries of the Army and Air Force) was by amendments to the National Security Act of 1947 made subordinate to the Secretary of Defense.\n",
      "Test label example: tensor([0., 0., 0., 0., 1., 0., 0., 0., 0., 0., 0., 0., 0., 0., 0., 0., 0.])\n"
     ]
    },
    {
     "name": "stderr",
     "output_type": "stream",
     "text": [
      "Testing: 100%|█████████████████████████████████████████████████████████████████████████████████████████████████████████████████████████████████████████████████████████████████████████████████████████████████████| 108/108 [00:22<00:00,  4.73it/s]\n",
      "/Users/tariktornes/Documents/UniLux/Semester 3/BSPS3/PyTorchEnvs/pytorch-test1/env/lib/python3.8/site-packages/sklearn/metrics/_classification.py:1469: UndefinedMetricWarning: Precision is ill-defined and being set to 0.0 due to no predicted samples. Use `zero_division` parameter to control this behavior.\n",
      "  _warn_prf(average, modifier, msg_start, len(result))\n"
     ]
    },
    {
     "name": "stdout",
     "output_type": "stream",
     "text": [
      "Threshold:       0.4\n",
      "Accuracy: 0.00%\n",
      "Precision: 0.00%\n",
      "Recall: 0.00%\n",
      "F1-Score: 0.00%\n",
      "Number of test examples: 859\n",
      "Test text example: The Secretary of the Navy was, from its creation in 1798, a member of the President's Cabinet until 1949, when the Secretary of the Navy (and the Secretaries of the Army and Air Force) was by amendments to the National Security Act of 1947 made subordinate to the Secretary of Defense.\n",
      "Test label example: tensor([0., 0., 0., 0., 1., 0., 0., 0., 0., 0., 0., 0., 0., 0., 0., 0., 0.])\n"
     ]
    },
    {
     "name": "stderr",
     "output_type": "stream",
     "text": [
      "Testing: 100%|█████████████████████████████████████████████████████████████████████████████████████████████████████████████████████████████████████████████████████████████████████████████████████████████████████| 108/108 [00:22<00:00,  4.75it/s]\n",
      "/Users/tariktornes/Documents/UniLux/Semester 3/BSPS3/PyTorchEnvs/pytorch-test1/env/lib/python3.8/site-packages/sklearn/metrics/_classification.py:1469: UndefinedMetricWarning: Precision is ill-defined and being set to 0.0 due to no predicted samples. Use `zero_division` parameter to control this behavior.\n",
      "  _warn_prf(average, modifier, msg_start, len(result))\n"
     ]
    },
    {
     "name": "stdout",
     "output_type": "stream",
     "text": [
      "Threshold:       0.45\n",
      "Accuracy: 0.00%\n",
      "Precision: 0.00%\n",
      "Recall: 0.00%\n",
      "F1-Score: 0.00%\n",
      "Number of test examples: 859\n",
      "Test text example: The Secretary of the Navy was, from its creation in 1798, a member of the President's Cabinet until 1949, when the Secretary of the Navy (and the Secretaries of the Army and Air Force) was by amendments to the National Security Act of 1947 made subordinate to the Secretary of Defense.\n",
      "Test label example: tensor([0., 0., 0., 0., 1., 0., 0., 0., 0., 0., 0., 0., 0., 0., 0., 0., 0.])\n"
     ]
    },
    {
     "name": "stderr",
     "output_type": "stream",
     "text": [
      "Testing: 100%|█████████████████████████████████████████████████████████████████████████████████████████████████████████████████████████████████████████████████████████████████████████████████████████████████████| 108/108 [00:22<00:00,  4.72it/s]\n",
      "/Users/tariktornes/Documents/UniLux/Semester 3/BSPS3/PyTorchEnvs/pytorch-test1/env/lib/python3.8/site-packages/sklearn/metrics/_classification.py:1469: UndefinedMetricWarning: Precision is ill-defined and being set to 0.0 due to no predicted samples. Use `zero_division` parameter to control this behavior.\n",
      "  _warn_prf(average, modifier, msg_start, len(result))\n"
     ]
    },
    {
     "name": "stdout",
     "output_type": "stream",
     "text": [
      "Threshold:       0.5\n",
      "Accuracy: 0.00%\n",
      "Precision: 0.00%\n",
      "Recall: 0.00%\n",
      "F1-Score: 0.00%\n",
      "Number of test examples: 859\n",
      "Test text example: The Secretary of the Navy was, from its creation in 1798, a member of the President's Cabinet until 1949, when the Secretary of the Navy (and the Secretaries of the Army and Air Force) was by amendments to the National Security Act of 1947 made subordinate to the Secretary of Defense.\n",
      "Test label example: tensor([0., 0., 0., 0., 1., 0., 0., 0., 0., 0., 0., 0., 0., 0., 0., 0., 0.])\n"
     ]
    },
    {
     "name": "stderr",
     "output_type": "stream",
     "text": [
      "Testing: 100%|█████████████████████████████████████████████████████████████████████████████████████████████████████████████████████████████████████████████████████████████████████████████████████████████████████| 108/108 [00:22<00:00,  4.71it/s]\n",
      "/Users/tariktornes/Documents/UniLux/Semester 3/BSPS3/PyTorchEnvs/pytorch-test1/env/lib/python3.8/site-packages/sklearn/metrics/_classification.py:1469: UndefinedMetricWarning: Precision is ill-defined and being set to 0.0 due to no predicted samples. Use `zero_division` parameter to control this behavior.\n",
      "  _warn_prf(average, modifier, msg_start, len(result))\n"
     ]
    },
    {
     "name": "stdout",
     "output_type": "stream",
     "text": [
      "Threshold:       0.6\n",
      "Accuracy: 0.00%\n",
      "Precision: 0.00%\n",
      "Recall: 0.00%\n",
      "F1-Score: 0.00%\n",
      "Number of test examples: 859\n",
      "Test text example: The Secretary of the Navy was, from its creation in 1798, a member of the President's Cabinet until 1949, when the Secretary of the Navy (and the Secretaries of the Army and Air Force) was by amendments to the National Security Act of 1947 made subordinate to the Secretary of Defense.\n",
      "Test label example: tensor([0., 0., 0., 0., 1., 0., 0., 0., 0., 0., 0., 0., 0., 0., 0., 0., 0.])\n"
     ]
    },
    {
     "name": "stderr",
     "output_type": "stream",
     "text": [
      "Testing: 100%|█████████████████████████████████████████████████████████████████████████████████████████████████████████████████████████████████████████████████████████████████████████████████████████████████████| 108/108 [00:23<00:00,  4.64it/s]\n"
     ]
    },
    {
     "name": "stdout",
     "output_type": "stream",
     "text": [
      "Threshold:       0.001\n",
      "Accuracy: 0.00%\n",
      "Precision: 6.92%\n",
      "Recall: 100.00%\n",
      "F1-Score: 12.94%\n",
      "Number of test examples: 859\n",
      "Test text example: The Secretary of the Navy was, from its creation in 1798, a member of the President's Cabinet until 1949, when the Secretary of the Navy (and the Secretaries of the Army and Air Force) was by amendments to the National Security Act of 1947 made subordinate to the Secretary of Defense.\n",
      "Test label example: tensor([0., 0., 0., 0., 1., 0., 0., 0., 0., 0., 0., 0., 0., 0., 0., 0., 0.])\n"
     ]
    },
    {
     "name": "stderr",
     "output_type": "stream",
     "text": [
      "Testing: 100%|█████████████████████████████████████████████████████████████████████████████████████████████████████████████████████████████████████████████████████████████████████████████████████████████████████| 108/108 [00:24<00:00,  4.43it/s]\n"
     ]
    },
    {
     "name": "stdout",
     "output_type": "stream",
     "text": [
      "Threshold:       0.01\n",
      "Accuracy: 0.00%\n",
      "Precision: 6.92%\n",
      "Recall: 100.00%\n",
      "F1-Score: 12.94%\n",
      "Number of test examples: 859\n",
      "Test text example: The Secretary of the Navy was, from its creation in 1798, a member of the President's Cabinet until 1949, when the Secretary of the Navy (and the Secretaries of the Army and Air Force) was by amendments to the National Security Act of 1947 made subordinate to the Secretary of Defense.\n",
      "Test label example: tensor([0., 0., 0., 0., 1., 0., 0., 0., 0., 0., 0., 0., 0., 0., 0., 0., 0.])\n"
     ]
    },
    {
     "name": "stderr",
     "output_type": "stream",
     "text": [
      "Testing: 100%|█████████████████████████████████████████████████████████████████████████████████████████████████████████████████████████████████████████████████████████████████████████████████████████████████████| 108/108 [00:22<00:00,  4.73it/s]\n"
     ]
    },
    {
     "name": "stdout",
     "output_type": "stream",
     "text": [
      "Threshold:       0.05\n",
      "Accuracy: 0.00%\n",
      "Precision: 6.92%\n",
      "Recall: 100.00%\n",
      "F1-Score: 12.94%\n",
      "Number of test examples: 859\n",
      "Test text example: The Secretary of the Navy was, from its creation in 1798, a member of the President's Cabinet until 1949, when the Secretary of the Navy (and the Secretaries of the Army and Air Force) was by amendments to the National Security Act of 1947 made subordinate to the Secretary of Defense.\n",
      "Test label example: tensor([0., 0., 0., 0., 1., 0., 0., 0., 0., 0., 0., 0., 0., 0., 0., 0., 0.])\n"
     ]
    },
    {
     "name": "stderr",
     "output_type": "stream",
     "text": [
      "Testing: 100%|█████████████████████████████████████████████████████████████████████████████████████████████████████████████████████████████████████████████████████████████████████████████████████████████████████| 108/108 [00:23<00:00,  4.63it/s]\n"
     ]
    },
    {
     "name": "stdout",
     "output_type": "stream",
     "text": [
      "Threshold:       0.1\n",
      "Accuracy: 0.00%\n",
      "Precision: 7.87%\n",
      "Recall: 90.59%\n",
      "F1-Score: 14.49%\n",
      "Number of test examples: 859\n",
      "Test text example: The Secretary of the Navy was, from its creation in 1798, a member of the President's Cabinet until 1949, when the Secretary of the Navy (and the Secretaries of the Army and Air Force) was by amendments to the National Security Act of 1947 made subordinate to the Secretary of Defense.\n",
      "Test label example: tensor([0., 0., 0., 0., 1., 0., 0., 0., 0., 0., 0., 0., 0., 0., 0., 0., 0.])\n"
     ]
    },
    {
     "name": "stderr",
     "output_type": "stream",
     "text": [
      "Testing: 100%|█████████████████████████████████████████████████████████████████████████████████████████████████████████████████████████████████████████████████████████████████████████████████████████████████████| 108/108 [00:23<00:00,  4.65it/s]\n"
     ]
    },
    {
     "name": "stdout",
     "output_type": "stream",
     "text": [
      "Threshold:       0.15\n",
      "Accuracy: 4.42%\n",
      "Precision: 40.44%\n",
      "Recall: 9.01%\n",
      "F1-Score: 14.74%\n",
      "Number of test examples: 859\n",
      "Test text example: The Secretary of the Navy was, from its creation in 1798, a member of the President's Cabinet until 1949, when the Secretary of the Navy (and the Secretaries of the Army and Air Force) was by amendments to the National Security Act of 1947 made subordinate to the Secretary of Defense.\n",
      "Test label example: tensor([0., 0., 0., 0., 1., 0., 0., 0., 0., 0., 0., 0., 0., 0., 0., 0., 0.])\n"
     ]
    },
    {
     "name": "stderr",
     "output_type": "stream",
     "text": [
      "Testing: 100%|█████████████████████████████████████████████████████████████████████████████████████████████████████████████████████████████████████████████████████████████████████████████████████████████████████| 108/108 [00:23<00:00,  4.66it/s]\n"
     ]
    },
    {
     "name": "stdout",
     "output_type": "stream",
     "text": [
      "Threshold:       0.2\n",
      "Accuracy: 0.58%\n",
      "Precision: 100.00%\n",
      "Recall: 0.79%\n",
      "F1-Score: 1.57%\n",
      "Number of test examples: 859\n",
      "Test text example: The Secretary of the Navy was, from its creation in 1798, a member of the President's Cabinet until 1949, when the Secretary of the Navy (and the Secretaries of the Army and Air Force) was by amendments to the National Security Act of 1947 made subordinate to the Secretary of Defense.\n",
      "Test label example: tensor([0., 0., 0., 0., 1., 0., 0., 0., 0., 0., 0., 0., 0., 0., 0., 0., 0.])\n"
     ]
    },
    {
     "name": "stderr",
     "output_type": "stream",
     "text": [
      "Testing: 100%|█████████████████████████████████████████████████████████████████████████████████████████████████████████████████████████████████████████████████████████████████████████████████████████████████████| 108/108 [00:23<00:00,  4.68it/s]\n",
      "/Users/tariktornes/Documents/UniLux/Semester 3/BSPS3/PyTorchEnvs/pytorch-test1/env/lib/python3.8/site-packages/sklearn/metrics/_classification.py:1469: UndefinedMetricWarning: Precision is ill-defined and being set to 0.0 due to no predicted samples. Use `zero_division` parameter to control this behavior.\n",
      "  _warn_prf(average, modifier, msg_start, len(result))\n"
     ]
    },
    {
     "name": "stdout",
     "output_type": "stream",
     "text": [
      "Threshold:       0.25\n",
      "Accuracy: 0.00%\n",
      "Precision: 0.00%\n",
      "Recall: 0.00%\n",
      "F1-Score: 0.00%\n",
      "Number of test examples: 859\n",
      "Test text example: The Secretary of the Navy was, from its creation in 1798, a member of the President's Cabinet until 1949, when the Secretary of the Navy (and the Secretaries of the Army and Air Force) was by amendments to the National Security Act of 1947 made subordinate to the Secretary of Defense.\n",
      "Test label example: tensor([0., 0., 0., 0., 1., 0., 0., 0., 0., 0., 0., 0., 0., 0., 0., 0., 0.])\n"
     ]
    },
    {
     "name": "stderr",
     "output_type": "stream",
     "text": [
      "Testing: 100%|█████████████████████████████████████████████████████████████████████████████████████████████████████████████████████████████████████████████████████████████████████████████████████████████████████| 108/108 [00:23<00:00,  4.66it/s]\n",
      "/Users/tariktornes/Documents/UniLux/Semester 3/BSPS3/PyTorchEnvs/pytorch-test1/env/lib/python3.8/site-packages/sklearn/metrics/_classification.py:1469: UndefinedMetricWarning: Precision is ill-defined and being set to 0.0 due to no predicted samples. Use `zero_division` parameter to control this behavior.\n",
      "  _warn_prf(average, modifier, msg_start, len(result))\n"
     ]
    },
    {
     "name": "stdout",
     "output_type": "stream",
     "text": [
      "Threshold:       0.3\n",
      "Accuracy: 0.00%\n",
      "Precision: 0.00%\n",
      "Recall: 0.00%\n",
      "F1-Score: 0.00%\n",
      "Number of test examples: 859\n",
      "Test text example: The Secretary of the Navy was, from its creation in 1798, a member of the President's Cabinet until 1949, when the Secretary of the Navy (and the Secretaries of the Army and Air Force) was by amendments to the National Security Act of 1947 made subordinate to the Secretary of Defense.\n",
      "Test label example: tensor([0., 0., 0., 0., 1., 0., 0., 0., 0., 0., 0., 0., 0., 0., 0., 0., 0.])\n"
     ]
    },
    {
     "name": "stderr",
     "output_type": "stream",
     "text": [
      "Testing: 100%|█████████████████████████████████████████████████████████████████████████████████████████████████████████████████████████████████████████████████████████████████████████████████████████████████████| 108/108 [00:23<00:00,  4.67it/s]\n",
      "/Users/tariktornes/Documents/UniLux/Semester 3/BSPS3/PyTorchEnvs/pytorch-test1/env/lib/python3.8/site-packages/sklearn/metrics/_classification.py:1469: UndefinedMetricWarning: Precision is ill-defined and being set to 0.0 due to no predicted samples. Use `zero_division` parameter to control this behavior.\n",
      "  _warn_prf(average, modifier, msg_start, len(result))\n"
     ]
    },
    {
     "name": "stdout",
     "output_type": "stream",
     "text": [
      "Threshold:       0.35\n",
      "Accuracy: 0.00%\n",
      "Precision: 0.00%\n",
      "Recall: 0.00%\n",
      "F1-Score: 0.00%\n",
      "Number of test examples: 859\n",
      "Test text example: The Secretary of the Navy was, from its creation in 1798, a member of the President's Cabinet until 1949, when the Secretary of the Navy (and the Secretaries of the Army and Air Force) was by amendments to the National Security Act of 1947 made subordinate to the Secretary of Defense.\n",
      "Test label example: tensor([0., 0., 0., 0., 1., 0., 0., 0., 0., 0., 0., 0., 0., 0., 0., 0., 0.])\n"
     ]
    },
    {
     "name": "stderr",
     "output_type": "stream",
     "text": [
      "Testing: 100%|█████████████████████████████████████████████████████████████████████████████████████████████████████████████████████████████████████████████████████████████████████████████████████████████████████| 108/108 [00:23<00:00,  4.62it/s]\n",
      "/Users/tariktornes/Documents/UniLux/Semester 3/BSPS3/PyTorchEnvs/pytorch-test1/env/lib/python3.8/site-packages/sklearn/metrics/_classification.py:1469: UndefinedMetricWarning: Precision is ill-defined and being set to 0.0 due to no predicted samples. Use `zero_division` parameter to control this behavior.\n",
      "  _warn_prf(average, modifier, msg_start, len(result))\n"
     ]
    },
    {
     "name": "stdout",
     "output_type": "stream",
     "text": [
      "Threshold:       0.4\n",
      "Accuracy: 0.00%\n",
      "Precision: 0.00%\n",
      "Recall: 0.00%\n",
      "F1-Score: 0.00%\n",
      "Number of test examples: 859\n",
      "Test text example: The Secretary of the Navy was, from its creation in 1798, a member of the President's Cabinet until 1949, when the Secretary of the Navy (and the Secretaries of the Army and Air Force) was by amendments to the National Security Act of 1947 made subordinate to the Secretary of Defense.\n",
      "Test label example: tensor([0., 0., 0., 0., 1., 0., 0., 0., 0., 0., 0., 0., 0., 0., 0., 0., 0.])\n"
     ]
    },
    {
     "name": "stderr",
     "output_type": "stream",
     "text": [
      "Testing: 100%|█████████████████████████████████████████████████████████████████████████████████████████████████████████████████████████████████████████████████████████████████████████████████████████████████████| 108/108 [00:23<00:00,  4.69it/s]\n",
      "/Users/tariktornes/Documents/UniLux/Semester 3/BSPS3/PyTorchEnvs/pytorch-test1/env/lib/python3.8/site-packages/sklearn/metrics/_classification.py:1469: UndefinedMetricWarning: Precision is ill-defined and being set to 0.0 due to no predicted samples. Use `zero_division` parameter to control this behavior.\n",
      "  _warn_prf(average, modifier, msg_start, len(result))\n"
     ]
    },
    {
     "name": "stdout",
     "output_type": "stream",
     "text": [
      "Threshold:       0.45\n",
      "Accuracy: 0.00%\n",
      "Precision: 0.00%\n",
      "Recall: 0.00%\n",
      "F1-Score: 0.00%\n",
      "Number of test examples: 859\n",
      "Test text example: The Secretary of the Navy was, from its creation in 1798, a member of the President's Cabinet until 1949, when the Secretary of the Navy (and the Secretaries of the Army and Air Force) was by amendments to the National Security Act of 1947 made subordinate to the Secretary of Defense.\n",
      "Test label example: tensor([0., 0., 0., 0., 1., 0., 0., 0., 0., 0., 0., 0., 0., 0., 0., 0., 0.])\n"
     ]
    },
    {
     "name": "stderr",
     "output_type": "stream",
     "text": [
      "Testing: 100%|█████████████████████████████████████████████████████████████████████████████████████████████████████████████████████████████████████████████████████████████████████████████████████████████████████| 108/108 [00:23<00:00,  4.63it/s]\n",
      "/Users/tariktornes/Documents/UniLux/Semester 3/BSPS3/PyTorchEnvs/pytorch-test1/env/lib/python3.8/site-packages/sklearn/metrics/_classification.py:1469: UndefinedMetricWarning: Precision is ill-defined and being set to 0.0 due to no predicted samples. Use `zero_division` parameter to control this behavior.\n",
      "  _warn_prf(average, modifier, msg_start, len(result))\n"
     ]
    },
    {
     "name": "stdout",
     "output_type": "stream",
     "text": [
      "Threshold:       0.5\n",
      "Accuracy: 0.00%\n",
      "Precision: 0.00%\n",
      "Recall: 0.00%\n",
      "F1-Score: 0.00%\n",
      "Number of test examples: 859\n",
      "Test text example: The Secretary of the Navy was, from its creation in 1798, a member of the President's Cabinet until 1949, when the Secretary of the Navy (and the Secretaries of the Army and Air Force) was by amendments to the National Security Act of 1947 made subordinate to the Secretary of Defense.\n",
      "Test label example: tensor([0., 0., 0., 0., 1., 0., 0., 0., 0., 0., 0., 0., 0., 0., 0., 0., 0.])\n"
     ]
    },
    {
     "name": "stderr",
     "output_type": "stream",
     "text": [
      "Testing: 100%|█████████████████████████████████████████████████████████████████████████████████████████████████████████████████████████████████████████████████████████████████████████████████████████████████████| 108/108 [00:23<00:00,  4.66it/s]\n",
      "/Users/tariktornes/Documents/UniLux/Semester 3/BSPS3/PyTorchEnvs/pytorch-test1/env/lib/python3.8/site-packages/sklearn/metrics/_classification.py:1469: UndefinedMetricWarning: Precision is ill-defined and being set to 0.0 due to no predicted samples. Use `zero_division` parameter to control this behavior.\n",
      "  _warn_prf(average, modifier, msg_start, len(result))\n"
     ]
    },
    {
     "name": "stdout",
     "output_type": "stream",
     "text": [
      "Threshold:       0.6\n",
      "Accuracy: 0.00%\n",
      "Precision: 0.00%\n",
      "Recall: 0.00%\n",
      "F1-Score: 0.00%\n",
      "Number of test examples: 859\n",
      "Test text example: The Secretary of the Navy was, from its creation in 1798, a member of the President's Cabinet until 1949, when the Secretary of the Navy (and the Secretaries of the Army and Air Force) was by amendments to the National Security Act of 1947 made subordinate to the Secretary of Defense.\n",
      "Test label example: tensor([0., 0., 0., 0., 1., 0., 0., 0., 0., 0., 0., 0., 0., 0., 0., 0., 0.])\n"
     ]
    },
    {
     "name": "stderr",
     "output_type": "stream",
     "text": [
      "Testing: 100%|█████████████████████████████████████████████████████████████████████████████████████████████████████████████████████████████████████████████████████████████████████████████████████████████████████| 108/108 [00:24<00:00,  4.41it/s]\n"
     ]
    },
    {
     "name": "stdout",
     "output_type": "stream",
     "text": [
      "Threshold:       0.001\n",
      "Accuracy: 0.00%\n",
      "Precision: 6.92%\n",
      "Recall: 100.00%\n",
      "F1-Score: 12.94%\n",
      "Number of test examples: 859\n",
      "Test text example: The Secretary of the Navy was, from its creation in 1798, a member of the President's Cabinet until 1949, when the Secretary of the Navy (and the Secretaries of the Army and Air Force) was by amendments to the National Security Act of 1947 made subordinate to the Secretary of Defense.\n",
      "Test label example: tensor([0., 0., 0., 0., 1., 0., 0., 0., 0., 0., 0., 0., 0., 0., 0., 0., 0.])\n"
     ]
    },
    {
     "name": "stderr",
     "output_type": "stream",
     "text": [
      "Testing: 100%|█████████████████████████████████████████████████████████████████████████████████████████████████████████████████████████████████████████████████████████████████████████████████████████████████████| 108/108 [00:24<00:00,  4.42it/s]\n"
     ]
    },
    {
     "name": "stdout",
     "output_type": "stream",
     "text": [
      "Threshold:       0.01\n",
      "Accuracy: 0.00%\n",
      "Precision: 6.92%\n",
      "Recall: 100.00%\n",
      "F1-Score: 12.94%\n",
      "Number of test examples: 859\n",
      "Test text example: The Secretary of the Navy was, from its creation in 1798, a member of the President's Cabinet until 1949, when the Secretary of the Navy (and the Secretaries of the Army and Air Force) was by amendments to the National Security Act of 1947 made subordinate to the Secretary of Defense.\n",
      "Test label example: tensor([0., 0., 0., 0., 1., 0., 0., 0., 0., 0., 0., 0., 0., 0., 0., 0., 0.])\n"
     ]
    },
    {
     "name": "stderr",
     "output_type": "stream",
     "text": [
      "Testing: 100%|█████████████████████████████████████████████████████████████████████████████████████████████████████████████████████████████████████████████████████████████████████████████████████████████████████| 108/108 [00:24<00:00,  4.40it/s]\n"
     ]
    },
    {
     "name": "stdout",
     "output_type": "stream",
     "text": [
      "Threshold:       0.05\n",
      "Accuracy: 0.00%\n",
      "Precision: 6.92%\n",
      "Recall: 100.00%\n",
      "F1-Score: 12.94%\n",
      "Number of test examples: 859\n",
      "Test text example: The Secretary of the Navy was, from its creation in 1798, a member of the President's Cabinet until 1949, when the Secretary of the Navy (and the Secretaries of the Army and Air Force) was by amendments to the National Security Act of 1947 made subordinate to the Secretary of Defense.\n",
      "Test label example: tensor([0., 0., 0., 0., 1., 0., 0., 0., 0., 0., 0., 0., 0., 0., 0., 0., 0.])\n"
     ]
    },
    {
     "name": "stderr",
     "output_type": "stream",
     "text": [
      "Testing: 100%|█████████████████████████████████████████████████████████████████████████████████████████████████████████████████████████████████████████████████████████████████████████████████████████████████████| 108/108 [00:24<00:00,  4.40it/s]\n"
     ]
    },
    {
     "name": "stdout",
     "output_type": "stream",
     "text": [
      "Threshold:       0.1\n",
      "Accuracy: 2.79%\n",
      "Precision: 17.79%\n",
      "Recall: 18.61%\n",
      "F1-Score: 18.19%\n",
      "Number of test examples: 859\n",
      "Test text example: The Secretary of the Navy was, from its creation in 1798, a member of the President's Cabinet until 1949, when the Secretary of the Navy (and the Secretaries of the Army and Air Force) was by amendments to the National Security Act of 1947 made subordinate to the Secretary of Defense.\n",
      "Test label example: tensor([0., 0., 0., 0., 1., 0., 0., 0., 0., 0., 0., 0., 0., 0., 0., 0., 0.])\n"
     ]
    },
    {
     "name": "stderr",
     "output_type": "stream",
     "text": [
      "Testing: 100%|█████████████████████████████████████████████████████████████████████████████████████████████████████████████████████████████████████████████████████████████████████████████████████████████████████| 108/108 [00:24<00:00,  4.41it/s]\n"
     ]
    },
    {
     "name": "stdout",
     "output_type": "stream",
     "text": [
      "Threshold:       0.15\n",
      "Accuracy: 1.63%\n",
      "Precision: 57.14%\n",
      "Recall: 1.58%\n",
      "F1-Score: 3.08%\n",
      "Number of test examples: 859\n",
      "Test text example: The Secretary of the Navy was, from its creation in 1798, a member of the President's Cabinet until 1949, when the Secretary of the Navy (and the Secretaries of the Army and Air Force) was by amendments to the National Security Act of 1947 made subordinate to the Secretary of Defense.\n",
      "Test label example: tensor([0., 0., 0., 0., 1., 0., 0., 0., 0., 0., 0., 0., 0., 0., 0., 0., 0.])\n"
     ]
    },
    {
     "name": "stderr",
     "output_type": "stream",
     "text": [
      "Testing: 100%|█████████████████████████████████████████████████████████████████████████████████████████████████████████████████████████████████████████████████████████████████████████████████████████████████████| 108/108 [00:24<00:00,  4.34it/s]\n"
     ]
    },
    {
     "name": "stdout",
     "output_type": "stream",
     "text": [
      "Threshold:       0.2\n",
      "Accuracy: 0.23%\n",
      "Precision: 66.67%\n",
      "Recall: 0.20%\n",
      "F1-Score: 0.39%\n",
      "Number of test examples: 859\n",
      "Test text example: The Secretary of the Navy was, from its creation in 1798, a member of the President's Cabinet until 1949, when the Secretary of the Navy (and the Secretaries of the Army and Air Force) was by amendments to the National Security Act of 1947 made subordinate to the Secretary of Defense.\n",
      "Test label example: tensor([0., 0., 0., 0., 1., 0., 0., 0., 0., 0., 0., 0., 0., 0., 0., 0., 0.])\n"
     ]
    },
    {
     "name": "stderr",
     "output_type": "stream",
     "text": [
      "Testing: 100%|█████████████████████████████████████████████████████████████████████████████████████████████████████████████████████████████████████████████████████████████████████████████████████████████████████| 108/108 [00:24<00:00,  4.45it/s]\n",
      "/Users/tariktornes/Documents/UniLux/Semester 3/BSPS3/PyTorchEnvs/pytorch-test1/env/lib/python3.8/site-packages/sklearn/metrics/_classification.py:1469: UndefinedMetricWarning: Precision is ill-defined and being set to 0.0 due to no predicted samples. Use `zero_division` parameter to control this behavior.\n",
      "  _warn_prf(average, modifier, msg_start, len(result))\n"
     ]
    },
    {
     "name": "stdout",
     "output_type": "stream",
     "text": [
      "Threshold:       0.25\n",
      "Accuracy: 0.00%\n",
      "Precision: 0.00%\n",
      "Recall: 0.00%\n",
      "F1-Score: 0.00%\n",
      "Number of test examples: 859\n",
      "Test text example: The Secretary of the Navy was, from its creation in 1798, a member of the President's Cabinet until 1949, when the Secretary of the Navy (and the Secretaries of the Army and Air Force) was by amendments to the National Security Act of 1947 made subordinate to the Secretary of Defense.\n",
      "Test label example: tensor([0., 0., 0., 0., 1., 0., 0., 0., 0., 0., 0., 0., 0., 0., 0., 0., 0.])\n"
     ]
    },
    {
     "name": "stderr",
     "output_type": "stream",
     "text": [
      "Testing: 100%|█████████████████████████████████████████████████████████████████████████████████████████████████████████████████████████████████████████████████████████████████████████████████████████████████████| 108/108 [00:24<00:00,  4.35it/s]\n",
      "/Users/tariktornes/Documents/UniLux/Semester 3/BSPS3/PyTorchEnvs/pytorch-test1/env/lib/python3.8/site-packages/sklearn/metrics/_classification.py:1469: UndefinedMetricWarning: Precision is ill-defined and being set to 0.0 due to no predicted samples. Use `zero_division` parameter to control this behavior.\n",
      "  _warn_prf(average, modifier, msg_start, len(result))\n"
     ]
    },
    {
     "name": "stdout",
     "output_type": "stream",
     "text": [
      "Threshold:       0.3\n",
      "Accuracy: 0.00%\n",
      "Precision: 0.00%\n",
      "Recall: 0.00%\n",
      "F1-Score: 0.00%\n",
      "Number of test examples: 859\n",
      "Test text example: The Secretary of the Navy was, from its creation in 1798, a member of the President's Cabinet until 1949, when the Secretary of the Navy (and the Secretaries of the Army and Air Force) was by amendments to the National Security Act of 1947 made subordinate to the Secretary of Defense.\n",
      "Test label example: tensor([0., 0., 0., 0., 1., 0., 0., 0., 0., 0., 0., 0., 0., 0., 0., 0., 0.])\n"
     ]
    },
    {
     "name": "stderr",
     "output_type": "stream",
     "text": [
      "Testing: 100%|█████████████████████████████████████████████████████████████████████████████████████████████████████████████████████████████████████████████████████████████████████████████████████████████████████| 108/108 [00:23<00:00,  4.59it/s]\n",
      "/Users/tariktornes/Documents/UniLux/Semester 3/BSPS3/PyTorchEnvs/pytorch-test1/env/lib/python3.8/site-packages/sklearn/metrics/_classification.py:1469: UndefinedMetricWarning: Precision is ill-defined and being set to 0.0 due to no predicted samples. Use `zero_division` parameter to control this behavior.\n",
      "  _warn_prf(average, modifier, msg_start, len(result))\n"
     ]
    },
    {
     "name": "stdout",
     "output_type": "stream",
     "text": [
      "Threshold:       0.35\n",
      "Accuracy: 0.00%\n",
      "Precision: 0.00%\n",
      "Recall: 0.00%\n",
      "F1-Score: 0.00%\n",
      "Number of test examples: 859\n",
      "Test text example: The Secretary of the Navy was, from its creation in 1798, a member of the President's Cabinet until 1949, when the Secretary of the Navy (and the Secretaries of the Army and Air Force) was by amendments to the National Security Act of 1947 made subordinate to the Secretary of Defense.\n",
      "Test label example: tensor([0., 0., 0., 0., 1., 0., 0., 0., 0., 0., 0., 0., 0., 0., 0., 0., 0.])\n"
     ]
    },
    {
     "name": "stderr",
     "output_type": "stream",
     "text": [
      "Testing: 100%|█████████████████████████████████████████████████████████████████████████████████████████████████████████████████████████████████████████████████████████████████████████████████████████████████████| 108/108 [00:23<00:00,  4.56it/s]\n",
      "/Users/tariktornes/Documents/UniLux/Semester 3/BSPS3/PyTorchEnvs/pytorch-test1/env/lib/python3.8/site-packages/sklearn/metrics/_classification.py:1469: UndefinedMetricWarning: Precision is ill-defined and being set to 0.0 due to no predicted samples. Use `zero_division` parameter to control this behavior.\n",
      "  _warn_prf(average, modifier, msg_start, len(result))\n"
     ]
    },
    {
     "name": "stdout",
     "output_type": "stream",
     "text": [
      "Threshold:       0.4\n",
      "Accuracy: 0.00%\n",
      "Precision: 0.00%\n",
      "Recall: 0.00%\n",
      "F1-Score: 0.00%\n",
      "Number of test examples: 859\n",
      "Test text example: The Secretary of the Navy was, from its creation in 1798, a member of the President's Cabinet until 1949, when the Secretary of the Navy (and the Secretaries of the Army and Air Force) was by amendments to the National Security Act of 1947 made subordinate to the Secretary of Defense.\n",
      "Test label example: tensor([0., 0., 0., 0., 1., 0., 0., 0., 0., 0., 0., 0., 0., 0., 0., 0., 0.])\n"
     ]
    },
    {
     "name": "stderr",
     "output_type": "stream",
     "text": [
      "Testing: 100%|█████████████████████████████████████████████████████████████████████████████████████████████████████████████████████████████████████████████████████████████████████████████████████████████████████| 108/108 [00:23<00:00,  4.59it/s]\n",
      "/Users/tariktornes/Documents/UniLux/Semester 3/BSPS3/PyTorchEnvs/pytorch-test1/env/lib/python3.8/site-packages/sklearn/metrics/_classification.py:1469: UndefinedMetricWarning: Precision is ill-defined and being set to 0.0 due to no predicted samples. Use `zero_division` parameter to control this behavior.\n",
      "  _warn_prf(average, modifier, msg_start, len(result))\n"
     ]
    },
    {
     "name": "stdout",
     "output_type": "stream",
     "text": [
      "Threshold:       0.45\n",
      "Accuracy: 0.00%\n",
      "Precision: 0.00%\n",
      "Recall: 0.00%\n",
      "F1-Score: 0.00%\n",
      "Number of test examples: 859\n",
      "Test text example: The Secretary of the Navy was, from its creation in 1798, a member of the President's Cabinet until 1949, when the Secretary of the Navy (and the Secretaries of the Army and Air Force) was by amendments to the National Security Act of 1947 made subordinate to the Secretary of Defense.\n",
      "Test label example: tensor([0., 0., 0., 0., 1., 0., 0., 0., 0., 0., 0., 0., 0., 0., 0., 0., 0.])\n"
     ]
    },
    {
     "name": "stderr",
     "output_type": "stream",
     "text": [
      "Testing: 100%|█████████████████████████████████████████████████████████████████████████████████████████████████████████████████████████████████████████████████████████████████████████████████████████████████████| 108/108 [00:23<00:00,  4.59it/s]\n",
      "/Users/tariktornes/Documents/UniLux/Semester 3/BSPS3/PyTorchEnvs/pytorch-test1/env/lib/python3.8/site-packages/sklearn/metrics/_classification.py:1469: UndefinedMetricWarning: Precision is ill-defined and being set to 0.0 due to no predicted samples. Use `zero_division` parameter to control this behavior.\n",
      "  _warn_prf(average, modifier, msg_start, len(result))\n"
     ]
    },
    {
     "name": "stdout",
     "output_type": "stream",
     "text": [
      "Threshold:       0.5\n",
      "Accuracy: 0.00%\n",
      "Precision: 0.00%\n",
      "Recall: 0.00%\n",
      "F1-Score: 0.00%\n",
      "Number of test examples: 859\n",
      "Test text example: The Secretary of the Navy was, from its creation in 1798, a member of the President's Cabinet until 1949, when the Secretary of the Navy (and the Secretaries of the Army and Air Force) was by amendments to the National Security Act of 1947 made subordinate to the Secretary of Defense.\n",
      "Test label example: tensor([0., 0., 0., 0., 1., 0., 0., 0., 0., 0., 0., 0., 0., 0., 0., 0., 0.])\n"
     ]
    },
    {
     "name": "stderr",
     "output_type": "stream",
     "text": [
      "Testing: 100%|█████████████████████████████████████████████████████████████████████████████████████████████████████████████████████████████████████████████████████████████████████████████████████████████████████| 108/108 [00:24<00:00,  4.41it/s]\n",
      "/Users/tariktornes/Documents/UniLux/Semester 3/BSPS3/PyTorchEnvs/pytorch-test1/env/lib/python3.8/site-packages/sklearn/metrics/_classification.py:1469: UndefinedMetricWarning: Precision is ill-defined and being set to 0.0 due to no predicted samples. Use `zero_division` parameter to control this behavior.\n",
      "  _warn_prf(average, modifier, msg_start, len(result))\n"
     ]
    },
    {
     "name": "stdout",
     "output_type": "stream",
     "text": [
      "Threshold:       0.6\n",
      "Accuracy: 0.00%\n",
      "Precision: 0.00%\n",
      "Recall: 0.00%\n",
      "F1-Score: 0.00%\n",
      "Number of test examples: 859\n",
      "Test text example: The Secretary of the Navy was, from its creation in 1798, a member of the President's Cabinet until 1949, when the Secretary of the Navy (and the Secretaries of the Army and Air Force) was by amendments to the National Security Act of 1947 made subordinate to the Secretary of Defense.\n",
      "Test label example: tensor([0., 0., 0., 0., 1., 0., 0., 0., 0., 0., 0., 0., 0., 0., 0., 0., 0.])\n"
     ]
    },
    {
     "name": "stderr",
     "output_type": "stream",
     "text": [
      "Testing: 100%|█████████████████████████████████████████████████████████████████████████████████████████████████████████████████████████████████████████████████████████████████████████████████████████████████████| 108/108 [00:26<00:00,  4.01it/s]\n"
     ]
    },
    {
     "name": "stdout",
     "output_type": "stream",
     "text": [
      "Threshold:       0.001\n",
      "Accuracy: 0.00%\n",
      "Precision: 6.92%\n",
      "Recall: 100.00%\n",
      "F1-Score: 12.94%\n",
      "Number of test examples: 859\n",
      "Test text example: The Secretary of the Navy was, from its creation in 1798, a member of the President's Cabinet until 1949, when the Secretary of the Navy (and the Secretaries of the Army and Air Force) was by amendments to the National Security Act of 1947 made subordinate to the Secretary of Defense.\n",
      "Test label example: tensor([0., 0., 0., 0., 1., 0., 0., 0., 0., 0., 0., 0., 0., 0., 0., 0., 0.])\n"
     ]
    },
    {
     "name": "stderr",
     "output_type": "stream",
     "text": [
      "Testing: 100%|█████████████████████████████████████████████████████████████████████████████████████████████████████████████████████████████████████████████████████████████████████████████████████████████████████| 108/108 [00:22<00:00,  4.71it/s]\n"
     ]
    },
    {
     "name": "stdout",
     "output_type": "stream",
     "text": [
      "Threshold:       0.01\n",
      "Accuracy: 0.00%\n",
      "Precision: 6.92%\n",
      "Recall: 100.00%\n",
      "F1-Score: 12.94%\n",
      "Number of test examples: 859\n",
      "Test text example: The Secretary of the Navy was, from its creation in 1798, a member of the President's Cabinet until 1949, when the Secretary of the Navy (and the Secretaries of the Army and Air Force) was by amendments to the National Security Act of 1947 made subordinate to the Secretary of Defense.\n",
      "Test label example: tensor([0., 0., 0., 0., 1., 0., 0., 0., 0., 0., 0., 0., 0., 0., 0., 0., 0.])\n"
     ]
    },
    {
     "name": "stderr",
     "output_type": "stream",
     "text": [
      "Testing: 100%|█████████████████████████████████████████████████████████████████████████████████████████████████████████████████████████████████████████████████████████████████████████████████████████████████████| 108/108 [00:23<00:00,  4.61it/s]\n"
     ]
    },
    {
     "name": "stdout",
     "output_type": "stream",
     "text": [
      "Threshold:       0.05\n",
      "Accuracy: 0.00%\n",
      "Precision: 7.11%\n",
      "Recall: 100.00%\n",
      "F1-Score: 13.28%\n",
      "Number of test examples: 859\n",
      "Test text example: The Secretary of the Navy was, from its creation in 1798, a member of the President's Cabinet until 1949, when the Secretary of the Navy (and the Secretaries of the Army and Air Force) was by amendments to the National Security Act of 1947 made subordinate to the Secretary of Defense.\n",
      "Test label example: tensor([0., 0., 0., 0., 1., 0., 0., 0., 0., 0., 0., 0., 0., 0., 0., 0., 0.])\n"
     ]
    },
    {
     "name": "stderr",
     "output_type": "stream",
     "text": [
      "Testing: 100%|█████████████████████████████████████████████████████████████████████████████████████████████████████████████████████████████████████████████████████████████████████████████████████████████████████| 108/108 [00:24<00:00,  4.49it/s]\n"
     ]
    },
    {
     "name": "stdout",
     "output_type": "stream",
     "text": [
      "Threshold:       0.1\n",
      "Accuracy: 7.92%\n",
      "Precision: 24.74%\n",
      "Recall: 51.68%\n",
      "F1-Score: 33.46%\n",
      "Number of test examples: 859\n",
      "Test text example: The Secretary of the Navy was, from its creation in 1798, a member of the President's Cabinet until 1949, when the Secretary of the Navy (and the Secretaries of the Army and Air Force) was by amendments to the National Security Act of 1947 made subordinate to the Secretary of Defense.\n",
      "Test label example: tensor([0., 0., 0., 0., 1., 0., 0., 0., 0., 0., 0., 0., 0., 0., 0., 0., 0.])\n"
     ]
    },
    {
     "name": "stderr",
     "output_type": "stream",
     "text": [
      "Testing: 100%|█████████████████████████████████████████████████████████████████████████████████████████████████████████████████████████████████████████████████████████████████████████████████████████████████████| 108/108 [00:25<00:00,  4.27it/s]\n"
     ]
    },
    {
     "name": "stdout",
     "output_type": "stream",
     "text": [
      "Threshold:       0.15\n",
      "Accuracy: 6.05%\n",
      "Precision: 54.60%\n",
      "Recall: 9.41%\n",
      "F1-Score: 16.05%\n",
      "Number of test examples: 859\n",
      "Test text example: The Secretary of the Navy was, from its creation in 1798, a member of the President's Cabinet until 1949, when the Secretary of the Navy (and the Secretaries of the Army and Air Force) was by amendments to the National Security Act of 1947 made subordinate to the Secretary of Defense.\n",
      "Test label example: tensor([0., 0., 0., 0., 1., 0., 0., 0., 0., 0., 0., 0., 0., 0., 0., 0., 0.])\n"
     ]
    },
    {
     "name": "stderr",
     "output_type": "stream",
     "text": [
      "Testing: 100%|█████████████████████████████████████████████████████████████████████████████████████████████████████████████████████████████████████████████████████████████████████████████████████████████████████| 108/108 [00:24<00:00,  4.35it/s]\n"
     ]
    },
    {
     "name": "stdout",
     "output_type": "stream",
     "text": [
      "Threshold:       0.2\n",
      "Accuracy: 3.96%\n",
      "Precision: 68.49%\n",
      "Recall: 4.95%\n",
      "F1-Score: 9.23%\n",
      "Number of test examples: 859\n",
      "Test text example: The Secretary of the Navy was, from its creation in 1798, a member of the President's Cabinet until 1949, when the Secretary of the Navy (and the Secretaries of the Army and Air Force) was by amendments to the National Security Act of 1947 made subordinate to the Secretary of Defense.\n",
      "Test label example: tensor([0., 0., 0., 0., 1., 0., 0., 0., 0., 0., 0., 0., 0., 0., 0., 0., 0.])\n"
     ]
    },
    {
     "name": "stderr",
     "output_type": "stream",
     "text": [
      "Testing: 100%|█████████████████████████████████████████████████████████████████████████████████████████████████████████████████████████████████████████████████████████████████████████████████████████████████████| 108/108 [00:24<00:00,  4.34it/s]\n"
     ]
    },
    {
     "name": "stdout",
     "output_type": "stream",
     "text": [
      "Threshold:       0.25\n",
      "Accuracy: 3.14%\n",
      "Precision: 86.49%\n",
      "Recall: 3.17%\n",
      "F1-Score: 6.11%\n",
      "Number of test examples: 859\n",
      "Test text example: The Secretary of the Navy was, from its creation in 1798, a member of the President's Cabinet until 1949, when the Secretary of the Navy (and the Secretaries of the Army and Air Force) was by amendments to the National Security Act of 1947 made subordinate to the Secretary of Defense.\n",
      "Test label example: tensor([0., 0., 0., 0., 1., 0., 0., 0., 0., 0., 0., 0., 0., 0., 0., 0., 0.])\n"
     ]
    },
    {
     "name": "stderr",
     "output_type": "stream",
     "text": [
      "Testing: 100%|█████████████████████████████████████████████████████████████████████████████████████████████████████████████████████████████████████████████████████████████████████████████████████████████████████| 108/108 [00:25<00:00,  4.28it/s]\n"
     ]
    },
    {
     "name": "stdout",
     "output_type": "stream",
     "text": [
      "Threshold:       0.3\n",
      "Accuracy: 1.28%\n",
      "Precision: 88.24%\n",
      "Recall: 1.49%\n",
      "F1-Score: 2.92%\n",
      "Number of test examples: 859\n",
      "Test text example: The Secretary of the Navy was, from its creation in 1798, a member of the President's Cabinet until 1949, when the Secretary of the Navy (and the Secretaries of the Army and Air Force) was by amendments to the National Security Act of 1947 made subordinate to the Secretary of Defense.\n",
      "Test label example: tensor([0., 0., 0., 0., 1., 0., 0., 0., 0., 0., 0., 0., 0., 0., 0., 0., 0.])\n"
     ]
    },
    {
     "name": "stderr",
     "output_type": "stream",
     "text": [
      "Testing: 100%|█████████████████████████████████████████████████████████████████████████████████████████████████████████████████████████████████████████████████████████████████████████████████████████████████████| 108/108 [00:25<00:00,  4.28it/s]\n"
     ]
    },
    {
     "name": "stdout",
     "output_type": "stream",
     "text": [
      "Threshold:       0.35\n",
      "Accuracy: 0.47%\n",
      "Precision: 100.00%\n",
      "Recall: 0.69%\n",
      "F1-Score: 1.38%\n",
      "Number of test examples: 859\n",
      "Test text example: The Secretary of the Navy was, from its creation in 1798, a member of the President's Cabinet until 1949, when the Secretary of the Navy (and the Secretaries of the Army and Air Force) was by amendments to the National Security Act of 1947 made subordinate to the Secretary of Defense.\n",
      "Test label example: tensor([0., 0., 0., 0., 1., 0., 0., 0., 0., 0., 0., 0., 0., 0., 0., 0., 0.])\n"
     ]
    },
    {
     "name": "stderr",
     "output_type": "stream",
     "text": [
      "Testing: 100%|█████████████████████████████████████████████████████████████████████████████████████████████████████████████████████████████████████████████████████████████████████████████████████████████████████| 108/108 [00:25<00:00,  4.31it/s]\n"
     ]
    },
    {
     "name": "stdout",
     "output_type": "stream",
     "text": [
      "Threshold:       0.4\n",
      "Accuracy: 0.12%\n",
      "Precision: 100.00%\n",
      "Recall: 0.30%\n",
      "F1-Score: 0.59%\n",
      "Number of test examples: 859\n",
      "Test text example: The Secretary of the Navy was, from its creation in 1798, a member of the President's Cabinet until 1949, when the Secretary of the Navy (and the Secretaries of the Army and Air Force) was by amendments to the National Security Act of 1947 made subordinate to the Secretary of Defense.\n",
      "Test label example: tensor([0., 0., 0., 0., 1., 0., 0., 0., 0., 0., 0., 0., 0., 0., 0., 0., 0.])\n"
     ]
    },
    {
     "name": "stderr",
     "output_type": "stream",
     "text": [
      "Testing: 100%|█████████████████████████████████████████████████████████████████████████████████████████████████████████████████████████████████████████████████████████████████████████████████████████████████████| 108/108 [00:25<00:00,  4.31it/s]\n",
      "/Users/tariktornes/Documents/UniLux/Semester 3/BSPS3/PyTorchEnvs/pytorch-test1/env/lib/python3.8/site-packages/sklearn/metrics/_classification.py:1469: UndefinedMetricWarning: Precision is ill-defined and being set to 0.0 due to no predicted samples. Use `zero_division` parameter to control this behavior.\n",
      "  _warn_prf(average, modifier, msg_start, len(result))\n"
     ]
    },
    {
     "name": "stdout",
     "output_type": "stream",
     "text": [
      "Threshold:       0.45\n",
      "Accuracy: 0.00%\n",
      "Precision: 0.00%\n",
      "Recall: 0.00%\n",
      "F1-Score: 0.00%\n",
      "Number of test examples: 859\n",
      "Test text example: The Secretary of the Navy was, from its creation in 1798, a member of the President's Cabinet until 1949, when the Secretary of the Navy (and the Secretaries of the Army and Air Force) was by amendments to the National Security Act of 1947 made subordinate to the Secretary of Defense.\n",
      "Test label example: tensor([0., 0., 0., 0., 1., 0., 0., 0., 0., 0., 0., 0., 0., 0., 0., 0., 0.])\n"
     ]
    },
    {
     "name": "stderr",
     "output_type": "stream",
     "text": [
      "Testing: 100%|█████████████████████████████████████████████████████████████████████████████████████████████████████████████████████████████████████████████████████████████████████████████████████████████████████| 108/108 [00:25<00:00,  4.30it/s]\n",
      "/Users/tariktornes/Documents/UniLux/Semester 3/BSPS3/PyTorchEnvs/pytorch-test1/env/lib/python3.8/site-packages/sklearn/metrics/_classification.py:1469: UndefinedMetricWarning: Precision is ill-defined and being set to 0.0 due to no predicted samples. Use `zero_division` parameter to control this behavior.\n",
      "  _warn_prf(average, modifier, msg_start, len(result))\n"
     ]
    },
    {
     "name": "stdout",
     "output_type": "stream",
     "text": [
      "Threshold:       0.5\n",
      "Accuracy: 0.00%\n",
      "Precision: 0.00%\n",
      "Recall: 0.00%\n",
      "F1-Score: 0.00%\n",
      "Number of test examples: 859\n",
      "Test text example: The Secretary of the Navy was, from its creation in 1798, a member of the President's Cabinet until 1949, when the Secretary of the Navy (and the Secretaries of the Army and Air Force) was by amendments to the National Security Act of 1947 made subordinate to the Secretary of Defense.\n",
      "Test label example: tensor([0., 0., 0., 0., 1., 0., 0., 0., 0., 0., 0., 0., 0., 0., 0., 0., 0.])\n"
     ]
    },
    {
     "name": "stderr",
     "output_type": "stream",
     "text": [
      "Testing: 100%|█████████████████████████████████████████████████████████████████████████████████████████████████████████████████████████████████████████████████████████████████████████████████████████████████████| 108/108 [00:25<00:00,  4.29it/s]\n",
      "/Users/tariktornes/Documents/UniLux/Semester 3/BSPS3/PyTorchEnvs/pytorch-test1/env/lib/python3.8/site-packages/sklearn/metrics/_classification.py:1469: UndefinedMetricWarning: Precision is ill-defined and being set to 0.0 due to no predicted samples. Use `zero_division` parameter to control this behavior.\n",
      "  _warn_prf(average, modifier, msg_start, len(result))\n"
     ]
    },
    {
     "name": "stdout",
     "output_type": "stream",
     "text": [
      "Threshold:       0.6\n",
      "Accuracy: 0.00%\n",
      "Precision: 0.00%\n",
      "Recall: 0.00%\n",
      "F1-Score: 0.00%\n",
      "Number of test examples: 859\n",
      "Test text example: The Secretary of the Navy was, from its creation in 1798, a member of the President's Cabinet until 1949, when the Secretary of the Navy (and the Secretaries of the Army and Air Force) was by amendments to the National Security Act of 1947 made subordinate to the Secretary of Defense.\n",
      "Test label example: tensor([0., 0., 0., 0., 1., 0., 0., 0., 0., 0., 0., 0., 0., 0., 0., 0., 0.])\n"
     ]
    },
    {
     "name": "stderr",
     "output_type": "stream",
     "text": [
      "Testing: 100%|█████████████████████████████████████████████████████████████████████████████████████████████████████████████████████████████████████████████████████████████████████████████████████████████████████| 108/108 [00:24<00:00,  4.48it/s]\n"
     ]
    },
    {
     "name": "stdout",
     "output_type": "stream",
     "text": [
      "Threshold:       0.001\n",
      "Accuracy: 0.00%\n",
      "Precision: 6.92%\n",
      "Recall: 100.00%\n",
      "F1-Score: 12.94%\n",
      "Number of test examples: 859\n",
      "Test text example: The Secretary of the Navy was, from its creation in 1798, a member of the President's Cabinet until 1949, when the Secretary of the Navy (and the Secretaries of the Army and Air Force) was by amendments to the National Security Act of 1947 made subordinate to the Secretary of Defense.\n",
      "Test label example: tensor([0., 0., 0., 0., 1., 0., 0., 0., 0., 0., 0., 0., 0., 0., 0., 0., 0.])\n"
     ]
    },
    {
     "name": "stderr",
     "output_type": "stream",
     "text": [
      "Testing: 100%|█████████████████████████████████████████████████████████████████████████████████████████████████████████████████████████████████████████████████████████████████████████████████████████████████████| 108/108 [00:24<00:00,  4.46it/s]\n"
     ]
    },
    {
     "name": "stdout",
     "output_type": "stream",
     "text": [
      "Threshold:       0.01\n",
      "Accuracy: 0.00%\n",
      "Precision: 6.92%\n",
      "Recall: 100.00%\n",
      "F1-Score: 12.94%\n",
      "Number of test examples: 859\n",
      "Test text example: The Secretary of the Navy was, from its creation in 1798, a member of the President's Cabinet until 1949, when the Secretary of the Navy (and the Secretaries of the Army and Air Force) was by amendments to the National Security Act of 1947 made subordinate to the Secretary of Defense.\n",
      "Test label example: tensor([0., 0., 0., 0., 1., 0., 0., 0., 0., 0., 0., 0., 0., 0., 0., 0., 0.])\n"
     ]
    },
    {
     "name": "stderr",
     "output_type": "stream",
     "text": [
      "Testing: 100%|█████████████████████████████████████████████████████████████████████████████████████████████████████████████████████████████████████████████████████████████████████████████████████████████████████| 108/108 [00:24<00:00,  4.42it/s]\n"
     ]
    },
    {
     "name": "stdout",
     "output_type": "stream",
     "text": [
      "Threshold:       0.05\n",
      "Accuracy: 0.00%\n",
      "Precision: 7.45%\n",
      "Recall: 99.90%\n",
      "F1-Score: 13.87%\n",
      "Number of test examples: 859\n",
      "Test text example: The Secretary of the Navy was, from its creation in 1798, a member of the President's Cabinet until 1949, when the Secretary of the Navy (and the Secretaries of the Army and Air Force) was by amendments to the National Security Act of 1947 made subordinate to the Secretary of Defense.\n",
      "Test label example: tensor([0., 0., 0., 0., 1., 0., 0., 0., 0., 0., 0., 0., 0., 0., 0., 0., 0.])\n"
     ]
    },
    {
     "name": "stderr",
     "output_type": "stream",
     "text": [
      "Testing: 100%|█████████████████████████████████████████████████████████████████████████████████████████████████████████████████████████████████████████████████████████████████████████████████████████████████████| 108/108 [00:24<00:00,  4.45it/s]\n"
     ]
    },
    {
     "name": "stdout",
     "output_type": "stream",
     "text": [
      "Threshold:       0.1\n",
      "Accuracy: 5.01%\n",
      "Precision: 26.37%\n",
      "Recall: 73.07%\n",
      "F1-Score: 38.75%\n",
      "Number of test examples: 859\n",
      "Test text example: The Secretary of the Navy was, from its creation in 1798, a member of the President's Cabinet until 1949, when the Secretary of the Navy (and the Secretaries of the Army and Air Force) was by amendments to the National Security Act of 1947 made subordinate to the Secretary of Defense.\n",
      "Test label example: tensor([0., 0., 0., 0., 1., 0., 0., 0., 0., 0., 0., 0., 0., 0., 0., 0., 0.])\n"
     ]
    },
    {
     "name": "stderr",
     "output_type": "stream",
     "text": [
      "Testing: 100%|█████████████████████████████████████████████████████████████████████████████████████████████████████████████████████████████████████████████████████████████████████████████████████████████████████| 108/108 [00:23<00:00,  4.51it/s]\n"
     ]
    },
    {
     "name": "stdout",
     "output_type": "stream",
     "text": [
      "Threshold:       0.15\n",
      "Accuracy: 16.07%\n",
      "Precision: 51.39%\n",
      "Recall: 40.20%\n",
      "F1-Score: 45.11%\n",
      "Number of test examples: 859\n",
      "Test text example: The Secretary of the Navy was, from its creation in 1798, a member of the President's Cabinet until 1949, when the Secretary of the Navy (and the Secretaries of the Army and Air Force) was by amendments to the National Security Act of 1947 made subordinate to the Secretary of Defense.\n",
      "Test label example: tensor([0., 0., 0., 0., 1., 0., 0., 0., 0., 0., 0., 0., 0., 0., 0., 0., 0.])\n"
     ]
    },
    {
     "name": "stderr",
     "output_type": "stream",
     "text": [
      "Testing: 100%|█████████████████████████████████████████████████████████████████████████████████████████████████████████████████████████████████████████████████████████████████████████████████████████████████████| 108/108 [00:24<00:00,  4.50it/s]\n"
     ]
    },
    {
     "name": "stdout",
     "output_type": "stream",
     "text": [
      "Threshold:       0.2\n",
      "Accuracy: 17.93%\n",
      "Precision: 80.51%\n",
      "Recall: 18.81%\n",
      "F1-Score: 30.50%\n",
      "Number of test examples: 859\n",
      "Test text example: The Secretary of the Navy was, from its creation in 1798, a member of the President's Cabinet until 1949, when the Secretary of the Navy (and the Secretaries of the Army and Air Force) was by amendments to the National Security Act of 1947 made subordinate to the Secretary of Defense.\n",
      "Test label example: tensor([0., 0., 0., 0., 1., 0., 0., 0., 0., 0., 0., 0., 0., 0., 0., 0., 0.])\n"
     ]
    },
    {
     "name": "stderr",
     "output_type": "stream",
     "text": [
      "Testing: 100%|█████████████████████████████████████████████████████████████████████████████████████████████████████████████████████████████████████████████████████████████████████████████████████████████████████| 108/108 [00:24<00:00,  4.50it/s]\n"
     ]
    },
    {
     "name": "stdout",
     "output_type": "stream",
     "text": [
      "Threshold:       0.25\n",
      "Accuracy: 10.48%\n",
      "Precision: 90.99%\n",
      "Recall: 10.00%\n",
      "F1-Score: 18.02%\n",
      "Number of test examples: 859\n",
      "Test text example: The Secretary of the Navy was, from its creation in 1798, a member of the President's Cabinet until 1949, when the Secretary of the Navy (and the Secretaries of the Army and Air Force) was by amendments to the National Security Act of 1947 made subordinate to the Secretary of Defense.\n",
      "Test label example: tensor([0., 0., 0., 0., 1., 0., 0., 0., 0., 0., 0., 0., 0., 0., 0., 0., 0.])\n"
     ]
    },
    {
     "name": "stderr",
     "output_type": "stream",
     "text": [
      "Testing: 100%|█████████████████████████████████████████████████████████████████████████████████████████████████████████████████████████████████████████████████████████████████████████████████████████████████████| 108/108 [00:24<00:00,  4.48it/s]\n"
     ]
    },
    {
     "name": "stdout",
     "output_type": "stream",
     "text": [
      "Threshold:       0.3\n",
      "Accuracy: 4.77%\n",
      "Precision: 93.75%\n",
      "Recall: 4.46%\n",
      "F1-Score: 8.51%\n",
      "Number of test examples: 859\n",
      "Test text example: The Secretary of the Navy was, from its creation in 1798, a member of the President's Cabinet until 1949, when the Secretary of the Navy (and the Secretaries of the Army and Air Force) was by amendments to the National Security Act of 1947 made subordinate to the Secretary of Defense.\n",
      "Test label example: tensor([0., 0., 0., 0., 1., 0., 0., 0., 0., 0., 0., 0., 0., 0., 0., 0., 0.])\n"
     ]
    },
    {
     "name": "stderr",
     "output_type": "stream",
     "text": [
      "Testing: 100%|█████████████████████████████████████████████████████████████████████████████████████████████████████████████████████████████████████████████████████████████████████████████████████████████████████| 108/108 [00:23<00:00,  4.52it/s]\n"
     ]
    },
    {
     "name": "stdout",
     "output_type": "stream",
     "text": [
      "Threshold:       0.35\n",
      "Accuracy: 0.47%\n",
      "Precision: 88.89%\n",
      "Recall: 0.79%\n",
      "F1-Score: 1.57%\n",
      "Number of test examples: 859\n",
      "Test text example: The Secretary of the Navy was, from its creation in 1798, a member of the President's Cabinet until 1949, when the Secretary of the Navy (and the Secretaries of the Army and Air Force) was by amendments to the National Security Act of 1947 made subordinate to the Secretary of Defense.\n",
      "Test label example: tensor([0., 0., 0., 0., 1., 0., 0., 0., 0., 0., 0., 0., 0., 0., 0., 0., 0.])\n"
     ]
    },
    {
     "name": "stderr",
     "output_type": "stream",
     "text": [
      "Testing: 100%|█████████████████████████████████████████████████████████████████████████████████████████████████████████████████████████████████████████████████████████████████████████████████████████████████████| 108/108 [00:24<00:00,  4.49it/s]\n"
     ]
    },
    {
     "name": "stdout",
     "output_type": "stream",
     "text": [
      "Threshold:       0.4\n",
      "Accuracy: 0.35%\n",
      "Precision: 85.71%\n",
      "Recall: 0.59%\n",
      "F1-Score: 1.18%\n",
      "Number of test examples: 859\n",
      "Test text example: The Secretary of the Navy was, from its creation in 1798, a member of the President's Cabinet until 1949, when the Secretary of the Navy (and the Secretaries of the Army and Air Force) was by amendments to the National Security Act of 1947 made subordinate to the Secretary of Defense.\n",
      "Test label example: tensor([0., 0., 0., 0., 1., 0., 0., 0., 0., 0., 0., 0., 0., 0., 0., 0., 0.])\n"
     ]
    },
    {
     "name": "stderr",
     "output_type": "stream",
     "text": [
      "Testing: 100%|█████████████████████████████████████████████████████████████████████████████████████████████████████████████████████████████████████████████████████████████████████████████████████████████████████| 108/108 [00:23<00:00,  4.52it/s]\n"
     ]
    },
    {
     "name": "stdout",
     "output_type": "stream",
     "text": [
      "Threshold:       0.45\n",
      "Accuracy: 0.12%\n",
      "Precision: 100.00%\n",
      "Recall: 0.20%\n",
      "F1-Score: 0.40%\n",
      "Number of test examples: 859\n",
      "Test text example: The Secretary of the Navy was, from its creation in 1798, a member of the President's Cabinet until 1949, when the Secretary of the Navy (and the Secretaries of the Army and Air Force) was by amendments to the National Security Act of 1947 made subordinate to the Secretary of Defense.\n",
      "Test label example: tensor([0., 0., 0., 0., 1., 0., 0., 0., 0., 0., 0., 0., 0., 0., 0., 0., 0.])\n"
     ]
    },
    {
     "name": "stderr",
     "output_type": "stream",
     "text": [
      "Testing: 100%|█████████████████████████████████████████████████████████████████████████████████████████████████████████████████████████████████████████████████████████████████████████████████████████████████████| 108/108 [00:24<00:00,  4.46it/s]\n",
      "/Users/tariktornes/Documents/UniLux/Semester 3/BSPS3/PyTorchEnvs/pytorch-test1/env/lib/python3.8/site-packages/sklearn/metrics/_classification.py:1469: UndefinedMetricWarning: Precision is ill-defined and being set to 0.0 due to no predicted samples. Use `zero_division` parameter to control this behavior.\n",
      "  _warn_prf(average, modifier, msg_start, len(result))\n"
     ]
    },
    {
     "name": "stdout",
     "output_type": "stream",
     "text": [
      "Threshold:       0.5\n",
      "Accuracy: 0.00%\n",
      "Precision: 0.00%\n",
      "Recall: 0.00%\n",
      "F1-Score: 0.00%\n",
      "Number of test examples: 859\n",
      "Test text example: The Secretary of the Navy was, from its creation in 1798, a member of the President's Cabinet until 1949, when the Secretary of the Navy (and the Secretaries of the Army and Air Force) was by amendments to the National Security Act of 1947 made subordinate to the Secretary of Defense.\n",
      "Test label example: tensor([0., 0., 0., 0., 1., 0., 0., 0., 0., 0., 0., 0., 0., 0., 0., 0., 0.])\n"
     ]
    },
    {
     "name": "stderr",
     "output_type": "stream",
     "text": [
      "Testing: 100%|█████████████████████████████████████████████████████████████████████████████████████████████████████████████████████████████████████████████████████████████████████████████████████████████████████| 108/108 [00:24<00:00,  4.45it/s]\n",
      "/Users/tariktornes/Documents/UniLux/Semester 3/BSPS3/PyTorchEnvs/pytorch-test1/env/lib/python3.8/site-packages/sklearn/metrics/_classification.py:1469: UndefinedMetricWarning: Precision is ill-defined and being set to 0.0 due to no predicted samples. Use `zero_division` parameter to control this behavior.\n",
      "  _warn_prf(average, modifier, msg_start, len(result))\n"
     ]
    },
    {
     "name": "stdout",
     "output_type": "stream",
     "text": [
      "Threshold:       0.6\n",
      "Accuracy: 0.00%\n",
      "Precision: 0.00%\n",
      "Recall: 0.00%\n",
      "F1-Score: 0.00%\n",
      "Number of test examples: 859\n",
      "Test text example: The Secretary of the Navy was, from its creation in 1798, a member of the President's Cabinet until 1949, when the Secretary of the Navy (and the Secretaries of the Army and Air Force) was by amendments to the National Security Act of 1947 made subordinate to the Secretary of Defense.\n",
      "Test label example: tensor([0., 0., 0., 0., 1., 0., 0., 0., 0., 0., 0., 0., 0., 0., 0., 0., 0.])\n"
     ]
    },
    {
     "name": "stderr",
     "output_type": "stream",
     "text": [
      "Testing: 100%|█████████████████████████████████████████████████████████████████████████████████████████████████████████████████████████████████████████████████████████████████████████████████████████████████████| 108/108 [00:23<00:00,  4.64it/s]\n"
     ]
    },
    {
     "name": "stdout",
     "output_type": "stream",
     "text": [
      "Threshold:       0.001\n",
      "Accuracy: 0.00%\n",
      "Precision: 6.92%\n",
      "Recall: 100.00%\n",
      "F1-Score: 12.94%\n",
      "Number of test examples: 859\n",
      "Test text example: The Secretary of the Navy was, from its creation in 1798, a member of the President's Cabinet until 1949, when the Secretary of the Navy (and the Secretaries of the Army and Air Force) was by amendments to the National Security Act of 1947 made subordinate to the Secretary of Defense.\n",
      "Test label example: tensor([0., 0., 0., 0., 1., 0., 0., 0., 0., 0., 0., 0., 0., 0., 0., 0., 0.])\n"
     ]
    },
    {
     "name": "stderr",
     "output_type": "stream",
     "text": [
      "Testing: 100%|█████████████████████████████████████████████████████████████████████████████████████████████████████████████████████████████████████████████████████████████████████████████████████████████████████| 108/108 [00:23<00:00,  4.64it/s]\n"
     ]
    },
    {
     "name": "stdout",
     "output_type": "stream",
     "text": [
      "Threshold:       0.01\n",
      "Accuracy: 0.00%\n",
      "Precision: 6.92%\n",
      "Recall: 100.00%\n",
      "F1-Score: 12.94%\n",
      "Number of test examples: 859\n",
      "Test text example: The Secretary of the Navy was, from its creation in 1798, a member of the President's Cabinet until 1949, when the Secretary of the Navy (and the Secretaries of the Army and Air Force) was by amendments to the National Security Act of 1947 made subordinate to the Secretary of Defense.\n",
      "Test label example: tensor([0., 0., 0., 0., 1., 0., 0., 0., 0., 0., 0., 0., 0., 0., 0., 0., 0.])\n"
     ]
    },
    {
     "name": "stderr",
     "output_type": "stream",
     "text": [
      "Testing: 100%|█████████████████████████████████████████████████████████████████████████████████████████████████████████████████████████████████████████████████████████████████████████████████████████████████████| 108/108 [00:23<00:00,  4.64it/s]\n"
     ]
    },
    {
     "name": "stdout",
     "output_type": "stream",
     "text": [
      "Threshold:       0.05\n",
      "Accuracy: 0.00%\n",
      "Precision: 8.01%\n",
      "Recall: 99.70%\n",
      "F1-Score: 14.83%\n",
      "Number of test examples: 859\n",
      "Test text example: The Secretary of the Navy was, from its creation in 1798, a member of the President's Cabinet until 1949, when the Secretary of the Navy (and the Secretaries of the Army and Air Force) was by amendments to the National Security Act of 1947 made subordinate to the Secretary of Defense.\n",
      "Test label example: tensor([0., 0., 0., 0., 1., 0., 0., 0., 0., 0., 0., 0., 0., 0., 0., 0., 0.])\n"
     ]
    },
    {
     "name": "stderr",
     "output_type": "stream",
     "text": [
      "Testing: 100%|█████████████████████████████████████████████████████████████████████████████████████████████████████████████████████████████████████████████████████████████████████████████████████████████████████| 108/108 [00:24<00:00,  4.49it/s]\n"
     ]
    },
    {
     "name": "stdout",
     "output_type": "stream",
     "text": [
      "Threshold:       0.1\n",
      "Accuracy: 2.68%\n",
      "Precision: 23.51%\n",
      "Recall: 87.33%\n",
      "F1-Score: 37.04%\n",
      "Number of test examples: 859\n",
      "Test text example: The Secretary of the Navy was, from its creation in 1798, a member of the President's Cabinet until 1949, when the Secretary of the Navy (and the Secretaries of the Army and Air Force) was by amendments to the National Security Act of 1947 made subordinate to the Secretary of Defense.\n",
      "Test label example: tensor([0., 0., 0., 0., 1., 0., 0., 0., 0., 0., 0., 0., 0., 0., 0., 0., 0.])\n"
     ]
    },
    {
     "name": "stderr",
     "output_type": "stream",
     "text": [
      "Testing: 100%|█████████████████████████████████████████████████████████████████████████████████████████████████████████████████████████████████████████████████████████████████████████████████████████████████████| 108/108 [00:23<00:00,  4.60it/s]\n"
     ]
    },
    {
     "name": "stdout",
     "output_type": "stream",
     "text": [
      "Threshold:       0.15\n",
      "Accuracy: 19.21%\n",
      "Precision: 49.92%\n",
      "Recall: 63.37%\n",
      "F1-Score: 55.85%\n",
      "Number of test examples: 859\n",
      "Test text example: The Secretary of the Navy was, from its creation in 1798, a member of the President's Cabinet until 1949, when the Secretary of the Navy (and the Secretaries of the Army and Air Force) was by amendments to the National Security Act of 1947 made subordinate to the Secretary of Defense.\n",
      "Test label example: tensor([0., 0., 0., 0., 1., 0., 0., 0., 0., 0., 0., 0., 0., 0., 0., 0., 0.])\n"
     ]
    },
    {
     "name": "stderr",
     "output_type": "stream",
     "text": [
      "Testing: 100%|█████████████████████████████████████████████████████████████████████████████████████████████████████████████████████████████████████████████████████████████████████████████████████████████████████| 108/108 [00:23<00:00,  4.51it/s]\n"
     ]
    },
    {
     "name": "stdout",
     "output_type": "stream",
     "text": [
      "Threshold:       0.2\n",
      "Accuracy: 28.64%\n",
      "Precision: 69.77%\n",
      "Recall: 41.58%\n",
      "F1-Score: 52.11%\n",
      "Number of test examples: 859\n",
      "Test text example: The Secretary of the Navy was, from its creation in 1798, a member of the President's Cabinet until 1949, when the Secretary of the Navy (and the Secretaries of the Army and Air Force) was by amendments to the National Security Act of 1947 made subordinate to the Secretary of Defense.\n",
      "Test label example: tensor([0., 0., 0., 0., 1., 0., 0., 0., 0., 0., 0., 0., 0., 0., 0., 0., 0.])\n"
     ]
    },
    {
     "name": "stderr",
     "output_type": "stream",
     "text": [
      "Testing: 100%|█████████████████████████████████████████████████████████████████████████████████████████████████████████████████████████████████████████████████████████████████████████████████████████████████████| 108/108 [00:23<00:00,  4.56it/s]\n"
     ]
    },
    {
     "name": "stdout",
     "output_type": "stream",
     "text": [
      "Threshold:       0.25\n",
      "Accuracy: 16.07%\n",
      "Precision: 76.47%\n",
      "Recall: 19.31%\n",
      "F1-Score: 30.83%\n",
      "Number of test examples: 859\n",
      "Test text example: The Secretary of the Navy was, from its creation in 1798, a member of the President's Cabinet until 1949, when the Secretary of the Navy (and the Secretaries of the Army and Air Force) was by amendments to the National Security Act of 1947 made subordinate to the Secretary of Defense.\n",
      "Test label example: tensor([0., 0., 0., 0., 1., 0., 0., 0., 0., 0., 0., 0., 0., 0., 0., 0., 0.])\n"
     ]
    },
    {
     "name": "stderr",
     "output_type": "stream",
     "text": [
      "Testing: 100%|█████████████████████████████████████████████████████████████████████████████████████████████████████████████████████████████████████████████████████████████████████████████████████████████████████| 108/108 [00:23<00:00,  4.60it/s]\n"
     ]
    },
    {
     "name": "stdout",
     "output_type": "stream",
     "text": [
      "Threshold:       0.3\n",
      "Accuracy: 7.57%\n",
      "Precision: 77.78%\n",
      "Recall: 9.01%\n",
      "F1-Score: 16.15%\n",
      "Number of test examples: 859\n",
      "Test text example: The Secretary of the Navy was, from its creation in 1798, a member of the President's Cabinet until 1949, when the Secretary of the Navy (and the Secretaries of the Army and Air Force) was by amendments to the National Security Act of 1947 made subordinate to the Secretary of Defense.\n",
      "Test label example: tensor([0., 0., 0., 0., 1., 0., 0., 0., 0., 0., 0., 0., 0., 0., 0., 0., 0.])\n"
     ]
    },
    {
     "name": "stderr",
     "output_type": "stream",
     "text": [
      "Testing: 100%|█████████████████████████████████████████████████████████████████████████████████████████████████████████████████████████████████████████████████████████████████████████████████████████████████████| 108/108 [00:23<00:00,  4.66it/s]\n"
     ]
    },
    {
     "name": "stdout",
     "output_type": "stream",
     "text": [
      "Threshold:       0.35\n",
      "Accuracy: 3.84%\n",
      "Precision: 81.03%\n",
      "Recall: 4.65%\n",
      "F1-Score: 8.80%\n",
      "Number of test examples: 859\n",
      "Test text example: The Secretary of the Navy was, from its creation in 1798, a member of the President's Cabinet until 1949, when the Secretary of the Navy (and the Secretaries of the Army and Air Force) was by amendments to the National Security Act of 1947 made subordinate to the Secretary of Defense.\n",
      "Test label example: tensor([0., 0., 0., 0., 1., 0., 0., 0., 0., 0., 0., 0., 0., 0., 0., 0., 0.])\n"
     ]
    },
    {
     "name": "stderr",
     "output_type": "stream",
     "text": [
      "Testing: 100%|█████████████████████████████████████████████████████████████████████████████████████████████████████████████████████████████████████████████████████████████████████████████████████████████████████| 108/108 [00:22<00:00,  4.71it/s]\n"
     ]
    },
    {
     "name": "stdout",
     "output_type": "stream",
     "text": [
      "Threshold:       0.4\n",
      "Accuracy: 1.28%\n",
      "Precision: 89.47%\n",
      "Recall: 1.68%\n",
      "F1-Score: 3.30%\n",
      "Number of test examples: 859\n",
      "Test text example: The Secretary of the Navy was, from its creation in 1798, a member of the President's Cabinet until 1949, when the Secretary of the Navy (and the Secretaries of the Army and Air Force) was by amendments to the National Security Act of 1947 made subordinate to the Secretary of Defense.\n",
      "Test label example: tensor([0., 0., 0., 0., 1., 0., 0., 0., 0., 0., 0., 0., 0., 0., 0., 0., 0.])\n"
     ]
    },
    {
     "name": "stderr",
     "output_type": "stream",
     "text": [
      "Testing: 100%|█████████████████████████████████████████████████████████████████████████████████████████████████████████████████████████████████████████████████████████████████████████████████████████████████████| 108/108 [00:24<00:00,  4.43it/s]\n"
     ]
    },
    {
     "name": "stdout",
     "output_type": "stream",
     "text": [
      "Threshold:       0.45\n",
      "Accuracy: 0.23%\n",
      "Precision: 100.00%\n",
      "Recall: 0.50%\n",
      "F1-Score: 0.99%\n",
      "Number of test examples: 859\n",
      "Test text example: The Secretary of the Navy was, from its creation in 1798, a member of the President's Cabinet until 1949, when the Secretary of the Navy (and the Secretaries of the Army and Air Force) was by amendments to the National Security Act of 1947 made subordinate to the Secretary of Defense.\n",
      "Test label example: tensor([0., 0., 0., 0., 1., 0., 0., 0., 0., 0., 0., 0., 0., 0., 0., 0., 0.])\n"
     ]
    },
    {
     "name": "stderr",
     "output_type": "stream",
     "text": [
      "Testing: 100%|█████████████████████████████████████████████████████████████████████████████████████████████████████████████████████████████████████████████████████████████████████████████████████████████████████| 108/108 [00:23<00:00,  4.69it/s]\n"
     ]
    },
    {
     "name": "stdout",
     "output_type": "stream",
     "text": [
      "Threshold:       0.5\n",
      "Accuracy: 0.00%\n",
      "Precision: 100.00%\n",
      "Recall: 0.20%\n",
      "F1-Score: 0.40%\n",
      "Number of test examples: 859\n",
      "Test text example: The Secretary of the Navy was, from its creation in 1798, a member of the President's Cabinet until 1949, when the Secretary of the Navy (and the Secretaries of the Army and Air Force) was by amendments to the National Security Act of 1947 made subordinate to the Secretary of Defense.\n",
      "Test label example: tensor([0., 0., 0., 0., 1., 0., 0., 0., 0., 0., 0., 0., 0., 0., 0., 0., 0.])\n"
     ]
    },
    {
     "name": "stderr",
     "output_type": "stream",
     "text": [
      "Testing: 100%|█████████████████████████████████████████████████████████████████████████████████████████████████████████████████████████████████████████████████████████████████████████████████████████████████████| 108/108 [00:22<00:00,  4.70it/s]\n",
      "/Users/tariktornes/Documents/UniLux/Semester 3/BSPS3/PyTorchEnvs/pytorch-test1/env/lib/python3.8/site-packages/sklearn/metrics/_classification.py:1469: UndefinedMetricWarning: Precision is ill-defined and being set to 0.0 due to no predicted samples. Use `zero_division` parameter to control this behavior.\n",
      "  _warn_prf(average, modifier, msg_start, len(result))\n"
     ]
    },
    {
     "name": "stdout",
     "output_type": "stream",
     "text": [
      "Threshold:       0.6\n",
      "Accuracy: 0.00%\n",
      "Precision: 0.00%\n",
      "Recall: 0.00%\n",
      "F1-Score: 0.00%\n",
      "Number of test examples: 859\n",
      "Test text example: The Secretary of the Navy was, from its creation in 1798, a member of the President's Cabinet until 1949, when the Secretary of the Navy (and the Secretaries of the Army and Air Force) was by amendments to the National Security Act of 1947 made subordinate to the Secretary of Defense.\n",
      "Test label example: tensor([0., 0., 0., 0., 1., 0., 0., 0., 0., 0., 0., 0., 0., 0., 0., 0., 0.])\n"
     ]
    },
    {
     "name": "stderr",
     "output_type": "stream",
     "text": [
      "Testing: 100%|█████████████████████████████████████████████████████████████████████████████████████████████████████████████████████████████████████████████████████████████████████████████████████████████████████| 108/108 [00:26<00:00,  4.11it/s]\n"
     ]
    },
    {
     "name": "stdout",
     "output_type": "stream",
     "text": [
      "Threshold:       0.001\n",
      "Accuracy: 0.00%\n",
      "Precision: 6.92%\n",
      "Recall: 100.00%\n",
      "F1-Score: 12.94%\n",
      "Number of test examples: 859\n",
      "Test text example: The Secretary of the Navy was, from its creation in 1798, a member of the President's Cabinet until 1949, when the Secretary of the Navy (and the Secretaries of the Army and Air Force) was by amendments to the National Security Act of 1947 made subordinate to the Secretary of Defense.\n",
      "Test label example: tensor([0., 0., 0., 0., 1., 0., 0., 0., 0., 0., 0., 0., 0., 0., 0., 0., 0.])\n"
     ]
    },
    {
     "name": "stderr",
     "output_type": "stream",
     "text": [
      "Testing: 100%|█████████████████████████████████████████████████████████████████████████████████████████████████████████████████████████████████████████████████████████████████████████████████████████████████████| 108/108 [00:25<00:00,  4.22it/s]\n"
     ]
    },
    {
     "name": "stdout",
     "output_type": "stream",
     "text": [
      "Threshold:       0.01\n",
      "Accuracy: 0.00%\n",
      "Precision: 6.92%\n",
      "Recall: 100.00%\n",
      "F1-Score: 12.94%\n",
      "Number of test examples: 859\n",
      "Test text example: The Secretary of the Navy was, from its creation in 1798, a member of the President's Cabinet until 1949, when the Secretary of the Navy (and the Secretaries of the Army and Air Force) was by amendments to the National Security Act of 1947 made subordinate to the Secretary of Defense.\n",
      "Test label example: tensor([0., 0., 0., 0., 1., 0., 0., 0., 0., 0., 0., 0., 0., 0., 0., 0., 0.])\n"
     ]
    },
    {
     "name": "stderr",
     "output_type": "stream",
     "text": [
      "Testing: 100%|█████████████████████████████████████████████████████████████████████████████████████████████████████████████████████████████████████████████████████████████████████████████████████████████████████| 108/108 [00:25<00:00,  4.31it/s]\n"
     ]
    },
    {
     "name": "stdout",
     "output_type": "stream",
     "text": [
      "Threshold:       0.05\n",
      "Accuracy: 0.00%\n",
      "Precision: 8.67%\n",
      "Recall: 99.41%\n",
      "F1-Score: 15.95%\n",
      "Number of test examples: 859\n",
      "Test text example: The Secretary of the Navy was, from its creation in 1798, a member of the President's Cabinet until 1949, when the Secretary of the Navy (and the Secretaries of the Army and Air Force) was by amendments to the National Security Act of 1947 made subordinate to the Secretary of Defense.\n",
      "Test label example: tensor([0., 0., 0., 0., 1., 0., 0., 0., 0., 0., 0., 0., 0., 0., 0., 0., 0.])\n"
     ]
    },
    {
     "name": "stderr",
     "output_type": "stream",
     "text": [
      "Testing: 100%|█████████████████████████████████████████████████████████████████████████████████████████████████████████████████████████████████████████████████████████████████████████████████████████████████████| 108/108 [00:24<00:00,  4.32it/s]\n"
     ]
    },
    {
     "name": "stdout",
     "output_type": "stream",
     "text": [
      "Threshold:       0.1\n",
      "Accuracy: 6.75%\n",
      "Precision: 30.18%\n",
      "Recall: 74.65%\n",
      "F1-Score: 42.99%\n",
      "Number of test examples: 859\n",
      "Test text example: The Secretary of the Navy was, from its creation in 1798, a member of the President's Cabinet until 1949, when the Secretary of the Navy (and the Secretaries of the Army and Air Force) was by amendments to the National Security Act of 1947 made subordinate to the Secretary of Defense.\n",
      "Test label example: tensor([0., 0., 0., 0., 1., 0., 0., 0., 0., 0., 0., 0., 0., 0., 0., 0., 0.])\n"
     ]
    },
    {
     "name": "stderr",
     "output_type": "stream",
     "text": [
      "Testing: 100%|█████████████████████████████████████████████████████████████████████████████████████████████████████████████████████████████████████████████████████████████████████████████████████████████████████| 108/108 [00:25<00:00,  4.31it/s]\n"
     ]
    },
    {
     "name": "stdout",
     "output_type": "stream",
     "text": [
      "Threshold:       0.15\n",
      "Accuracy: 14.90%\n",
      "Precision: 51.54%\n",
      "Recall: 44.65%\n",
      "F1-Score: 47.85%\n",
      "Number of test examples: 859\n",
      "Test text example: The Secretary of the Navy was, from its creation in 1798, a member of the President's Cabinet until 1949, when the Secretary of the Navy (and the Secretaries of the Army and Air Force) was by amendments to the National Security Act of 1947 made subordinate to the Secretary of Defense.\n",
      "Test label example: tensor([0., 0., 0., 0., 1., 0., 0., 0., 0., 0., 0., 0., 0., 0., 0., 0., 0.])\n"
     ]
    },
    {
     "name": "stderr",
     "output_type": "stream",
     "text": [
      "Testing: 100%|█████████████████████████████████████████████████████████████████████████████████████████████████████████████████████████████████████████████████████████████████████████████████████████████████████| 108/108 [00:24<00:00,  4.35it/s]\n"
     ]
    },
    {
     "name": "stdout",
     "output_type": "stream",
     "text": [
      "Threshold:       0.2\n",
      "Accuracy: 21.19%\n",
      "Precision: 66.29%\n",
      "Recall: 28.81%\n",
      "F1-Score: 40.17%\n",
      "Number of test examples: 859\n",
      "Test text example: The Secretary of the Navy was, from its creation in 1798, a member of the President's Cabinet until 1949, when the Secretary of the Navy (and the Secretaries of the Army and Air Force) was by amendments to the National Security Act of 1947 made subordinate to the Secretary of Defense.\n",
      "Test label example: tensor([0., 0., 0., 0., 1., 0., 0., 0., 0., 0., 0., 0., 0., 0., 0., 0., 0.])\n"
     ]
    },
    {
     "name": "stderr",
     "output_type": "stream",
     "text": [
      "Testing: 100%|█████████████████████████████████████████████████████████████████████████████████████████████████████████████████████████████████████████████████████████████████████████████████████████████████████| 108/108 [00:24<00:00,  4.34it/s]\n"
     ]
    },
    {
     "name": "stdout",
     "output_type": "stream",
     "text": [
      "Threshold:       0.25\n",
      "Accuracy: 17.93%\n",
      "Precision: 82.14%\n",
      "Recall: 18.22%\n",
      "F1-Score: 29.82%\n",
      "Number of test examples: 859\n",
      "Test text example: The Secretary of the Navy was, from its creation in 1798, a member of the President's Cabinet until 1949, when the Secretary of the Navy (and the Secretaries of the Army and Air Force) was by amendments to the National Security Act of 1947 made subordinate to the Secretary of Defense.\n",
      "Test label example: tensor([0., 0., 0., 0., 1., 0., 0., 0., 0., 0., 0., 0., 0., 0., 0., 0., 0.])\n"
     ]
    },
    {
     "name": "stderr",
     "output_type": "stream",
     "text": [
      "Testing: 100%|█████████████████████████████████████████████████████████████████████████████████████████████████████████████████████████████████████████████████████████████████████████████████████████████████████| 108/108 [00:24<00:00,  4.38it/s]\n"
     ]
    },
    {
     "name": "stdout",
     "output_type": "stream",
     "text": [
      "Threshold:       0.3\n",
      "Accuracy: 13.39%\n",
      "Precision: 91.03%\n",
      "Recall: 13.07%\n",
      "F1-Score: 22.86%\n",
      "Number of test examples: 859\n",
      "Test text example: The Secretary of the Navy was, from its creation in 1798, a member of the President's Cabinet until 1949, when the Secretary of the Navy (and the Secretaries of the Army and Air Force) was by amendments to the National Security Act of 1947 made subordinate to the Secretary of Defense.\n",
      "Test label example: tensor([0., 0., 0., 0., 1., 0., 0., 0., 0., 0., 0., 0., 0., 0., 0., 0., 0.])\n"
     ]
    },
    {
     "name": "stderr",
     "output_type": "stream",
     "text": [
      "Testing: 100%|█████████████████████████████████████████████████████████████████████████████████████████████████████████████████████████████████████████████████████████████████████████████████████████████████████| 108/108 [00:25<00:00,  4.29it/s]\n"
     ]
    },
    {
     "name": "stdout",
     "output_type": "stream",
     "text": [
      "Threshold:       0.35\n",
      "Accuracy: 7.22%\n",
      "Precision: 94.67%\n",
      "Recall: 7.03%\n",
      "F1-Score: 13.09%\n",
      "Number of test examples: 859\n",
      "Test text example: The Secretary of the Navy was, from its creation in 1798, a member of the President's Cabinet until 1949, when the Secretary of the Navy (and the Secretaries of the Army and Air Force) was by amendments to the National Security Act of 1947 made subordinate to the Secretary of Defense.\n",
      "Test label example: tensor([0., 0., 0., 0., 1., 0., 0., 0., 0., 0., 0., 0., 0., 0., 0., 0., 0.])\n"
     ]
    },
    {
     "name": "stderr",
     "output_type": "stream",
     "text": [
      "Testing: 100%|█████████████████████████████████████████████████████████████████████████████████████████████████████████████████████████████████████████████████████████████████████████████████████████████████████| 108/108 [00:25<00:00,  4.17it/s]\n"
     ]
    },
    {
     "name": "stdout",
     "output_type": "stream",
     "text": [
      "Threshold:       0.4\n",
      "Accuracy: 4.31%\n",
      "Precision: 95.74%\n",
      "Recall: 4.46%\n",
      "F1-Score: 8.51%\n",
      "Number of test examples: 859\n",
      "Test text example: The Secretary of the Navy was, from its creation in 1798, a member of the President's Cabinet until 1949, when the Secretary of the Navy (and the Secretaries of the Army and Air Force) was by amendments to the National Security Act of 1947 made subordinate to the Secretary of Defense.\n",
      "Test label example: tensor([0., 0., 0., 0., 1., 0., 0., 0., 0., 0., 0., 0., 0., 0., 0., 0., 0.])\n"
     ]
    },
    {
     "name": "stderr",
     "output_type": "stream",
     "text": [
      "Testing: 100%|█████████████████████████████████████████████████████████████████████████████████████████████████████████████████████████████████████████████████████████████████████████████████████████████████████| 108/108 [00:25<00:00,  4.26it/s]\n"
     ]
    },
    {
     "name": "stdout",
     "output_type": "stream",
     "text": [
      "Threshold:       0.45\n",
      "Accuracy: 2.21%\n",
      "Precision: 96.30%\n",
      "Recall: 2.57%\n",
      "F1-Score: 5.01%\n",
      "Number of test examples: 859\n",
      "Test text example: The Secretary of the Navy was, from its creation in 1798, a member of the President's Cabinet until 1949, when the Secretary of the Navy (and the Secretaries of the Army and Air Force) was by amendments to the National Security Act of 1947 made subordinate to the Secretary of Defense.\n",
      "Test label example: tensor([0., 0., 0., 0., 1., 0., 0., 0., 0., 0., 0., 0., 0., 0., 0., 0., 0.])\n"
     ]
    },
    {
     "name": "stderr",
     "output_type": "stream",
     "text": [
      "Testing: 100%|█████████████████████████████████████████████████████████████████████████████████████████████████████████████████████████████████████████████████████████████████████████████████████████████████████| 108/108 [00:24<00:00,  4.37it/s]\n"
     ]
    },
    {
     "name": "stdout",
     "output_type": "stream",
     "text": [
      "Threshold:       0.5\n",
      "Accuracy: 0.93%\n",
      "Precision: 100.00%\n",
      "Recall: 1.09%\n",
      "F1-Score: 2.15%\n",
      "Number of test examples: 859\n",
      "Test text example: The Secretary of the Navy was, from its creation in 1798, a member of the President's Cabinet until 1949, when the Secretary of the Navy (and the Secretaries of the Army and Air Force) was by amendments to the National Security Act of 1947 made subordinate to the Secretary of Defense.\n",
      "Test label example: tensor([0., 0., 0., 0., 1., 0., 0., 0., 0., 0., 0., 0., 0., 0., 0., 0., 0.])\n"
     ]
    },
    {
     "name": "stderr",
     "output_type": "stream",
     "text": [
      "Testing: 100%|█████████████████████████████████████████████████████████████████████████████████████████████████████████████████████████████████████████████████████████████████████████████████████████████████████| 108/108 [00:24<00:00,  4.41it/s]\n",
      "/Users/tariktornes/Documents/UniLux/Semester 3/BSPS3/PyTorchEnvs/pytorch-test1/env/lib/python3.8/site-packages/sklearn/metrics/_classification.py:1469: UndefinedMetricWarning: Precision is ill-defined and being set to 0.0 due to no predicted samples. Use `zero_division` parameter to control this behavior.\n",
      "  _warn_prf(average, modifier, msg_start, len(result))\n"
     ]
    },
    {
     "name": "stdout",
     "output_type": "stream",
     "text": [
      "Threshold:       0.6\n",
      "Accuracy: 0.00%\n",
      "Precision: 0.00%\n",
      "Recall: 0.00%\n",
      "F1-Score: 0.00%\n",
      "Number of test examples: 859\n",
      "Test text example: The Secretary of the Navy was, from its creation in 1798, a member of the President's Cabinet until 1949, when the Secretary of the Navy (and the Secretaries of the Army and Air Force) was by amendments to the National Security Act of 1947 made subordinate to the Secretary of Defense.\n",
      "Test label example: tensor([0., 0., 0., 0., 1., 0., 0., 0., 0., 0., 0., 0., 0., 0., 0., 0., 0.])\n"
     ]
    },
    {
     "name": "stderr",
     "output_type": "stream",
     "text": [
      "Testing: 100%|█████████████████████████████████████████████████████████████████████████████████████████████████████████████████████████████████████████████████████████████████████████████████████████████████████| 108/108 [00:23<00:00,  4.67it/s]\n"
     ]
    },
    {
     "name": "stdout",
     "output_type": "stream",
     "text": [
      "Threshold:       0.001\n",
      "Accuracy: 0.00%\n",
      "Precision: 6.92%\n",
      "Recall: 100.00%\n",
      "F1-Score: 12.94%\n",
      "Number of test examples: 859\n",
      "Test text example: The Secretary of the Navy was, from its creation in 1798, a member of the President's Cabinet until 1949, when the Secretary of the Navy (and the Secretaries of the Army and Air Force) was by amendments to the National Security Act of 1947 made subordinate to the Secretary of Defense.\n",
      "Test label example: tensor([0., 0., 0., 0., 1., 0., 0., 0., 0., 0., 0., 0., 0., 0., 0., 0., 0.])\n"
     ]
    },
    {
     "name": "stderr",
     "output_type": "stream",
     "text": [
      "Testing: 100%|█████████████████████████████████████████████████████████████████████████████████████████████████████████████████████████████████████████████████████████████████████████████████████████████████████| 108/108 [00:23<00:00,  4.67it/s]\n"
     ]
    },
    {
     "name": "stdout",
     "output_type": "stream",
     "text": [
      "Threshold:       0.01\n",
      "Accuracy: 0.00%\n",
      "Precision: 6.92%\n",
      "Recall: 100.00%\n",
      "F1-Score: 12.94%\n",
      "Number of test examples: 859\n",
      "Test text example: The Secretary of the Navy was, from its creation in 1798, a member of the President's Cabinet until 1949, when the Secretary of the Navy (and the Secretaries of the Army and Air Force) was by amendments to the National Security Act of 1947 made subordinate to the Secretary of Defense.\n",
      "Test label example: tensor([0., 0., 0., 0., 1., 0., 0., 0., 0., 0., 0., 0., 0., 0., 0., 0., 0.])\n"
     ]
    },
    {
     "name": "stderr",
     "output_type": "stream",
     "text": [
      "Testing: 100%|█████████████████████████████████████████████████████████████████████████████████████████████████████████████████████████████████████████████████████████████████████████████████████████████████████| 108/108 [00:23<00:00,  4.67it/s]\n"
     ]
    },
    {
     "name": "stdout",
     "output_type": "stream",
     "text": [
      "Threshold:       0.05\n",
      "Accuracy: 0.00%\n",
      "Precision: 10.96%\n",
      "Recall: 98.91%\n",
      "F1-Score: 19.74%\n",
      "Number of test examples: 859\n",
      "Test text example: The Secretary of the Navy was, from its creation in 1798, a member of the President's Cabinet until 1949, when the Secretary of the Navy (and the Secretaries of the Army and Air Force) was by amendments to the National Security Act of 1947 made subordinate to the Secretary of Defense.\n",
      "Test label example: tensor([0., 0., 0., 0., 1., 0., 0., 0., 0., 0., 0., 0., 0., 0., 0., 0., 0.])\n"
     ]
    },
    {
     "name": "stderr",
     "output_type": "stream",
     "text": [
      "Testing: 100%|█████████████████████████████████████████████████████████████████████████████████████████████████████████████████████████████████████████████████████████████████████████████████████████████████████| 108/108 [00:23<00:00,  4.64it/s]\n"
     ]
    },
    {
     "name": "stdout",
     "output_type": "stream",
     "text": [
      "Threshold:       0.1\n",
      "Accuracy: 4.89%\n",
      "Precision: 29.41%\n",
      "Recall: 86.63%\n",
      "F1-Score: 43.91%\n",
      "Number of test examples: 859\n",
      "Test text example: The Secretary of the Navy was, from its creation in 1798, a member of the President's Cabinet until 1949, when the Secretary of the Navy (and the Secretaries of the Army and Air Force) was by amendments to the National Security Act of 1947 made subordinate to the Secretary of Defense.\n",
      "Test label example: tensor([0., 0., 0., 0., 1., 0., 0., 0., 0., 0., 0., 0., 0., 0., 0., 0., 0.])\n"
     ]
    },
    {
     "name": "stderr",
     "output_type": "stream",
     "text": [
      "Testing: 100%|█████████████████████████████████████████████████████████████████████████████████████████████████████████████████████████████████████████████████████████████████████████████████████████████████████| 108/108 [00:23<00:00,  4.66it/s]\n"
     ]
    },
    {
     "name": "stdout",
     "output_type": "stream",
     "text": [
      "Threshold:       0.15\n",
      "Accuracy: 20.49%\n",
      "Precision: 46.91%\n",
      "Recall: 66.04%\n",
      "F1-Score: 54.85%\n",
      "Number of test examples: 859\n",
      "Test text example: The Secretary of the Navy was, from its creation in 1798, a member of the President's Cabinet until 1949, when the Secretary of the Navy (and the Secretaries of the Army and Air Force) was by amendments to the National Security Act of 1947 made subordinate to the Secretary of Defense.\n",
      "Test label example: tensor([0., 0., 0., 0., 1., 0., 0., 0., 0., 0., 0., 0., 0., 0., 0., 0., 0.])\n"
     ]
    },
    {
     "name": "stderr",
     "output_type": "stream",
     "text": [
      "Testing: 100%|█████████████████████████████████████████████████████████████████████████████████████████████████████████████████████████████████████████████████████████████████████████████████████████████████████| 108/108 [00:23<00:00,  4.65it/s]\n"
     ]
    },
    {
     "name": "stdout",
     "output_type": "stream",
     "text": [
      "Threshold:       0.2\n",
      "Accuracy: 27.71%\n",
      "Precision: 62.95%\n",
      "Recall: 45.25%\n",
      "F1-Score: 52.65%\n",
      "Number of test examples: 859\n",
      "Test text example: The Secretary of the Navy was, from its creation in 1798, a member of the President's Cabinet until 1949, when the Secretary of the Navy (and the Secretaries of the Army and Air Force) was by amendments to the National Security Act of 1947 made subordinate to the Secretary of Defense.\n",
      "Test label example: tensor([0., 0., 0., 0., 1., 0., 0., 0., 0., 0., 0., 0., 0., 0., 0., 0., 0.])\n"
     ]
    },
    {
     "name": "stderr",
     "output_type": "stream",
     "text": [
      "Testing: 100%|█████████████████████████████████████████████████████████████████████████████████████████████████████████████████████████████████████████████████████████████████████████████████████████████████████| 108/108 [00:23<00:00,  4.65it/s]\n"
     ]
    },
    {
     "name": "stdout",
     "output_type": "stream",
     "text": [
      "Threshold:       0.25\n",
      "Accuracy: 20.95%\n",
      "Precision: 72.86%\n",
      "Recall: 25.25%\n",
      "F1-Score: 37.50%\n",
      "Number of test examples: 859\n",
      "Test text example: The Secretary of the Navy was, from its creation in 1798, a member of the President's Cabinet until 1949, when the Secretary of the Navy (and the Secretaries of the Army and Air Force) was by amendments to the National Security Act of 1947 made subordinate to the Secretary of Defense.\n",
      "Test label example: tensor([0., 0., 0., 0., 1., 0., 0., 0., 0., 0., 0., 0., 0., 0., 0., 0., 0.])\n"
     ]
    },
    {
     "name": "stderr",
     "output_type": "stream",
     "text": [
      "Testing: 100%|█████████████████████████████████████████████████████████████████████████████████████████████████████████████████████████████████████████████████████████████████████████████████████████████████████| 108/108 [00:23<00:00,  4.65it/s]\n"
     ]
    },
    {
     "name": "stdout",
     "output_type": "stream",
     "text": [
      "Threshold:       0.3\n",
      "Accuracy: 14.67%\n",
      "Precision: 86.63%\n",
      "Recall: 14.75%\n",
      "F1-Score: 25.21%\n",
      "Number of test examples: 859\n",
      "Test text example: The Secretary of the Navy was, from its creation in 1798, a member of the President's Cabinet until 1949, when the Secretary of the Navy (and the Secretaries of the Army and Air Force) was by amendments to the National Security Act of 1947 made subordinate to the Secretary of Defense.\n",
      "Test label example: tensor([0., 0., 0., 0., 1., 0., 0., 0., 0., 0., 0., 0., 0., 0., 0., 0., 0.])\n"
     ]
    },
    {
     "name": "stderr",
     "output_type": "stream",
     "text": [
      "Testing: 100%|█████████████████████████████████████████████████████████████████████████████████████████████████████████████████████████████████████████████████████████████████████████████████████████████████████| 108/108 [00:26<00:00,  4.10it/s]\n"
     ]
    },
    {
     "name": "stdout",
     "output_type": "stream",
     "text": [
      "Threshold:       0.35\n",
      "Accuracy: 9.31%\n",
      "Precision: 90.91%\n",
      "Recall: 8.91%\n",
      "F1-Score: 16.23%\n",
      "Number of test examples: 859\n",
      "Test text example: The Secretary of the Navy was, from its creation in 1798, a member of the President's Cabinet until 1949, when the Secretary of the Navy (and the Secretaries of the Army and Air Force) was by amendments to the National Security Act of 1947 made subordinate to the Secretary of Defense.\n",
      "Test label example: tensor([0., 0., 0., 0., 1., 0., 0., 0., 0., 0., 0., 0., 0., 0., 0., 0., 0.])\n"
     ]
    },
    {
     "name": "stderr",
     "output_type": "stream",
     "text": [
      "Testing: 100%|█████████████████████████████████████████████████████████████████████████████████████████████████████████████████████████████████████████████████████████████████████████████████████████████████████| 108/108 [00:23<00:00,  4.59it/s]\n"
     ]
    },
    {
     "name": "stdout",
     "output_type": "stream",
     "text": [
      "Threshold:       0.4\n",
      "Accuracy: 5.01%\n",
      "Precision: 94.34%\n",
      "Recall: 4.95%\n",
      "F1-Score: 9.41%\n",
      "Number of test examples: 859\n",
      "Test text example: The Secretary of the Navy was, from its creation in 1798, a member of the President's Cabinet until 1949, when the Secretary of the Navy (and the Secretaries of the Army and Air Force) was by amendments to the National Security Act of 1947 made subordinate to the Secretary of Defense.\n",
      "Test label example: tensor([0., 0., 0., 0., 1., 0., 0., 0., 0., 0., 0., 0., 0., 0., 0., 0., 0.])\n"
     ]
    },
    {
     "name": "stderr",
     "output_type": "stream",
     "text": [
      "Testing: 100%|█████████████████████████████████████████████████████████████████████████████████████████████████████████████████████████████████████████████████████████████████████████████████████████████████████| 108/108 [00:23<00:00,  4.64it/s]\n"
     ]
    },
    {
     "name": "stdout",
     "output_type": "stream",
     "text": [
      "Threshold:       0.45\n",
      "Accuracy: 2.10%\n",
      "Precision: 88.00%\n",
      "Recall: 2.18%\n",
      "F1-Score: 4.25%\n",
      "Number of test examples: 859\n",
      "Test text example: The Secretary of the Navy was, from its creation in 1798, a member of the President's Cabinet until 1949, when the Secretary of the Navy (and the Secretaries of the Army and Air Force) was by amendments to the National Security Act of 1947 made subordinate to the Secretary of Defense.\n",
      "Test label example: tensor([0., 0., 0., 0., 1., 0., 0., 0., 0., 0., 0., 0., 0., 0., 0., 0., 0.])\n"
     ]
    },
    {
     "name": "stderr",
     "output_type": "stream",
     "text": [
      "Testing: 100%|█████████████████████████████████████████████████████████████████████████████████████████████████████████████████████████████████████████████████████████████████████████████████████████████████████| 108/108 [00:23<00:00,  4.61it/s]\n"
     ]
    },
    {
     "name": "stdout",
     "output_type": "stream",
     "text": [
      "Threshold:       0.5\n",
      "Accuracy: 1.28%\n",
      "Precision: 93.75%\n",
      "Recall: 1.49%\n",
      "F1-Score: 2.92%\n",
      "Number of test examples: 859\n",
      "Test text example: The Secretary of the Navy was, from its creation in 1798, a member of the President's Cabinet until 1949, when the Secretary of the Navy (and the Secretaries of the Army and Air Force) was by amendments to the National Security Act of 1947 made subordinate to the Secretary of Defense.\n",
      "Test label example: tensor([0., 0., 0., 0., 1., 0., 0., 0., 0., 0., 0., 0., 0., 0., 0., 0., 0.])\n"
     ]
    },
    {
     "name": "stderr",
     "output_type": "stream",
     "text": [
      "Testing: 100%|█████████████████████████████████████████████████████████████████████████████████████████████████████████████████████████████████████████████████████████████████████████████████████████████████████| 108/108 [00:23<00:00,  4.62it/s]\n"
     ]
    },
    {
     "name": "stdout",
     "output_type": "stream",
     "text": [
      "Threshold:       0.6\n",
      "Accuracy: 0.12%\n",
      "Precision: 100.00%\n",
      "Recall: 0.20%\n",
      "F1-Score: 0.40%\n",
      "Number of test examples: 859\n",
      "Test text example: The Secretary of the Navy was, from its creation in 1798, a member of the President's Cabinet until 1949, when the Secretary of the Navy (and the Secretaries of the Army and Air Force) was by amendments to the National Security Act of 1947 made subordinate to the Secretary of Defense.\n",
      "Test label example: tensor([0., 0., 0., 0., 1., 0., 0., 0., 0., 0., 0., 0., 0., 0., 0., 0., 0.])\n"
     ]
    },
    {
     "name": "stderr",
     "output_type": "stream",
     "text": [
      "Testing: 100%|█████████████████████████████████████████████████████████████████████████████████████████████████████████████████████████████████████████████████████████████████████████████████████████████████████| 108/108 [00:25<00:00,  4.17it/s]\n"
     ]
    },
    {
     "name": "stdout",
     "output_type": "stream",
     "text": [
      "Threshold:       0.001\n",
      "Accuracy: 0.00%\n",
      "Precision: 6.92%\n",
      "Recall: 100.00%\n",
      "F1-Score: 12.94%\n",
      "Number of test examples: 859\n",
      "Test text example: The Secretary of the Navy was, from its creation in 1798, a member of the President's Cabinet until 1949, when the Secretary of the Navy (and the Secretaries of the Army and Air Force) was by amendments to the National Security Act of 1947 made subordinate to the Secretary of Defense.\n",
      "Test label example: tensor([0., 0., 0., 0., 1., 0., 0., 0., 0., 0., 0., 0., 0., 0., 0., 0., 0.])\n"
     ]
    },
    {
     "name": "stderr",
     "output_type": "stream",
     "text": [
      "Testing: 100%|█████████████████████████████████████████████████████████████████████████████████████████████████████████████████████████████████████████████████████████████████████████████████████████████████████| 108/108 [00:28<00:00,  3.78it/s]\n"
     ]
    },
    {
     "name": "stdout",
     "output_type": "stream",
     "text": [
      "Threshold:       0.01\n",
      "Accuracy: 0.00%\n",
      "Precision: 6.92%\n",
      "Recall: 100.00%\n",
      "F1-Score: 12.94%\n",
      "Number of test examples: 859\n",
      "Test text example: The Secretary of the Navy was, from its creation in 1798, a member of the President's Cabinet until 1949, when the Secretary of the Navy (and the Secretaries of the Army and Air Force) was by amendments to the National Security Act of 1947 made subordinate to the Secretary of Defense.\n",
      "Test label example: tensor([0., 0., 0., 0., 1., 0., 0., 0., 0., 0., 0., 0., 0., 0., 0., 0., 0.])\n"
     ]
    },
    {
     "name": "stderr",
     "output_type": "stream",
     "text": [
      "Testing: 100%|█████████████████████████████████████████████████████████████████████████████████████████████████████████████████████████████████████████████████████████████████████████████████████████████████████| 108/108 [00:25<00:00,  4.19it/s]\n"
     ]
    },
    {
     "name": "stdout",
     "output_type": "stream",
     "text": [
      "Threshold:       0.05\n",
      "Accuracy: 0.00%\n",
      "Precision: 10.84%\n",
      "Recall: 99.11%\n",
      "F1-Score: 19.54%\n",
      "Number of test examples: 859\n",
      "Test text example: The Secretary of the Navy was, from its creation in 1798, a member of the President's Cabinet until 1949, when the Secretary of the Navy (and the Secretaries of the Army and Air Force) was by amendments to the National Security Act of 1947 made subordinate to the Secretary of Defense.\n",
      "Test label example: tensor([0., 0., 0., 0., 1., 0., 0., 0., 0., 0., 0., 0., 0., 0., 0., 0., 0.])\n"
     ]
    },
    {
     "name": "stderr",
     "output_type": "stream",
     "text": [
      "Testing: 100%|█████████████████████████████████████████████████████████████████████████████████████████████████████████████████████████████████████████████████████████████████████████████████████████████████████| 108/108 [00:25<00:00,  4.16it/s]\n"
     ]
    },
    {
     "name": "stdout",
     "output_type": "stream",
     "text": [
      "Threshold:       0.1\n",
      "Accuracy: 5.24%\n",
      "Precision: 33.19%\n",
      "Recall: 90.20%\n",
      "F1-Score: 48.52%\n",
      "Number of test examples: 859\n",
      "Test text example: The Secretary of the Navy was, from its creation in 1798, a member of the President's Cabinet until 1949, when the Secretary of the Navy (and the Secretaries of the Army and Air Force) was by amendments to the National Security Act of 1947 made subordinate to the Secretary of Defense.\n",
      "Test label example: tensor([0., 0., 0., 0., 1., 0., 0., 0., 0., 0., 0., 0., 0., 0., 0., 0., 0.])\n"
     ]
    },
    {
     "name": "stderr",
     "output_type": "stream",
     "text": [
      "Testing: 100%|█████████████████████████████████████████████████████████████████████████████████████████████████████████████████████████████████████████████████████████████████████████████████████████████████████| 108/108 [00:25<00:00,  4.18it/s]\n"
     ]
    },
    {
     "name": "stdout",
     "output_type": "stream",
     "text": [
      "Threshold:       0.15\n",
      "Accuracy: 35.51%\n",
      "Precision: 59.52%\n",
      "Recall: 74.26%\n",
      "F1-Score: 66.08%\n",
      "Number of test examples: 859\n",
      "Test text example: The Secretary of the Navy was, from its creation in 1798, a member of the President's Cabinet until 1949, when the Secretary of the Navy (and the Secretaries of the Army and Air Force) was by amendments to the National Security Act of 1947 made subordinate to the Secretary of Defense.\n",
      "Test label example: tensor([0., 0., 0., 0., 1., 0., 0., 0., 0., 0., 0., 0., 0., 0., 0., 0., 0.])\n"
     ]
    },
    {
     "name": "stderr",
     "output_type": "stream",
     "text": [
      "Testing: 100%|█████████████████████████████████████████████████████████████████████████████████████████████████████████████████████████████████████████████████████████████████████████████████████████████████████| 108/108 [00:25<00:00,  4.16it/s]\n"
     ]
    },
    {
     "name": "stdout",
     "output_type": "stream",
     "text": [
      "Threshold:       0.2\n",
      "Accuracy: 44.24%\n",
      "Precision: 70.80%\n",
      "Recall: 60.99%\n",
      "F1-Score: 65.53%\n",
      "Number of test examples: 859\n",
      "Test text example: The Secretary of the Navy was, from its creation in 1798, a member of the President's Cabinet until 1949, when the Secretary of the Navy (and the Secretaries of the Army and Air Force) was by amendments to the National Security Act of 1947 made subordinate to the Secretary of Defense.\n",
      "Test label example: tensor([0., 0., 0., 0., 1., 0., 0., 0., 0., 0., 0., 0., 0., 0., 0., 0., 0.])\n"
     ]
    },
    {
     "name": "stderr",
     "output_type": "stream",
     "text": [
      "Testing: 100%|█████████████████████████████████████████████████████████████████████████████████████████████████████████████████████████████████████████████████████████████████████████████████████████████████████| 108/108 [00:25<00:00,  4.16it/s]\n"
     ]
    },
    {
     "name": "stdout",
     "output_type": "stream",
     "text": [
      "Threshold:       0.25\n",
      "Accuracy: 44.00%\n",
      "Precision: 78.88%\n",
      "Recall: 51.39%\n",
      "F1-Score: 62.23%\n",
      "Number of test examples: 859\n",
      "Test text example: The Secretary of the Navy was, from its creation in 1798, a member of the President's Cabinet until 1949, when the Secretary of the Navy (and the Secretaries of the Army and Air Force) was by amendments to the National Security Act of 1947 made subordinate to the Secretary of Defense.\n",
      "Test label example: tensor([0., 0., 0., 0., 1., 0., 0., 0., 0., 0., 0., 0., 0., 0., 0., 0., 0.])\n"
     ]
    },
    {
     "name": "stderr",
     "output_type": "stream",
     "text": [
      "Testing: 100%|█████████████████████████████████████████████████████████████████████████████████████████████████████████████████████████████████████████████████████████████████████████████████████████████████████| 108/108 [00:26<00:00,  4.02it/s]\n"
     ]
    },
    {
     "name": "stdout",
     "output_type": "stream",
     "text": [
      "Threshold:       0.3\n",
      "Accuracy: 39.12%\n",
      "Precision: 83.46%\n",
      "Recall: 41.98%\n",
      "F1-Score: 55.86%\n",
      "Number of test examples: 859\n",
      "Test text example: The Secretary of the Navy was, from its creation in 1798, a member of the President's Cabinet until 1949, when the Secretary of the Navy (and the Secretaries of the Army and Air Force) was by amendments to the National Security Act of 1947 made subordinate to the Secretary of Defense.\n",
      "Test label example: tensor([0., 0., 0., 0., 1., 0., 0., 0., 0., 0., 0., 0., 0., 0., 0., 0., 0.])\n"
     ]
    },
    {
     "name": "stderr",
     "output_type": "stream",
     "text": [
      "Testing: 100%|█████████████████████████████████████████████████████████████████████████████████████████████████████████████████████████████████████████████████████████████████████████████████████████████████████| 108/108 [00:28<00:00,  3.83it/s]\n"
     ]
    },
    {
     "name": "stdout",
     "output_type": "stream",
     "text": [
      "Threshold:       0.35\n",
      "Accuracy: 29.69%\n",
      "Precision: 87.64%\n",
      "Recall: 30.20%\n",
      "F1-Score: 44.92%\n",
      "Number of test examples: 859\n",
      "Test text example: The Secretary of the Navy was, from its creation in 1798, a member of the President's Cabinet until 1949, when the Secretary of the Navy (and the Secretaries of the Army and Air Force) was by amendments to the National Security Act of 1947 made subordinate to the Secretary of Defense.\n",
      "Test label example: tensor([0., 0., 0., 0., 1., 0., 0., 0., 0., 0., 0., 0., 0., 0., 0., 0., 0.])\n"
     ]
    },
    {
     "name": "stderr",
     "output_type": "stream",
     "text": [
      "Testing: 100%|█████████████████████████████████████████████████████████████████████████████████████████████████████████████████████████████████████████████████████████████████████████████████████████████████████| 108/108 [00:28<00:00,  3.75it/s]\n"
     ]
    },
    {
     "name": "stdout",
     "output_type": "stream",
     "text": [
      "Threshold:       0.4\n",
      "Accuracy: 18.39%\n",
      "Precision: 89.37%\n",
      "Recall: 18.32%\n",
      "F1-Score: 30.40%\n",
      "Number of test examples: 859\n",
      "Test text example: The Secretary of the Navy was, from its creation in 1798, a member of the President's Cabinet until 1949, when the Secretary of the Navy (and the Secretaries of the Army and Air Force) was by amendments to the National Security Act of 1947 made subordinate to the Secretary of Defense.\n",
      "Test label example: tensor([0., 0., 0., 0., 1., 0., 0., 0., 0., 0., 0., 0., 0., 0., 0., 0., 0.])\n"
     ]
    },
    {
     "name": "stderr",
     "output_type": "stream",
     "text": [
      "Testing: 100%|█████████████████████████████████████████████████████████████████████████████████████████████████████████████████████████████████████████████████████████████████████████████████████████████████████| 108/108 [00:27<00:00,  3.90it/s]\n"
     ]
    },
    {
     "name": "stdout",
     "output_type": "stream",
     "text": [
      "Threshold:       0.45\n",
      "Accuracy: 9.08%\n",
      "Precision: 89.42%\n",
      "Recall: 9.21%\n",
      "F1-Score: 16.70%\n",
      "Number of test examples: 859\n",
      "Test text example: The Secretary of the Navy was, from its creation in 1798, a member of the President's Cabinet until 1949, when the Secretary of the Navy (and the Secretaries of the Army and Air Force) was by amendments to the National Security Act of 1947 made subordinate to the Secretary of Defense.\n",
      "Test label example: tensor([0., 0., 0., 0., 1., 0., 0., 0., 0., 0., 0., 0., 0., 0., 0., 0., 0.])\n"
     ]
    },
    {
     "name": "stderr",
     "output_type": "stream",
     "text": [
      "Testing: 100%|█████████████████████████████████████████████████████████████████████████████████████████████████████████████████████████████████████████████████████████████████████████████████████████████████████| 108/108 [00:29<00:00,  3.66it/s]\n"
     ]
    },
    {
     "name": "stdout",
     "output_type": "stream",
     "text": [
      "Threshold:       0.5\n",
      "Accuracy: 4.42%\n",
      "Precision: 97.87%\n",
      "Recall: 4.55%\n",
      "F1-Score: 8.70%\n",
      "Number of test examples: 859\n",
      "Test text example: The Secretary of the Navy was, from its creation in 1798, a member of the President's Cabinet until 1949, when the Secretary of the Navy (and the Secretaries of the Army and Air Force) was by amendments to the National Security Act of 1947 made subordinate to the Secretary of Defense.\n",
      "Test label example: tensor([0., 0., 0., 0., 1., 0., 0., 0., 0., 0., 0., 0., 0., 0., 0., 0., 0.])\n"
     ]
    },
    {
     "name": "stderr",
     "output_type": "stream",
     "text": [
      "Testing: 100%|█████████████████████████████████████████████████████████████████████████████████████████████████████████████████████████████████████████████████████████████████████████████████████████████████████| 108/108 [00:25<00:00,  4.27it/s]\n"
     ]
    },
    {
     "name": "stdout",
     "output_type": "stream",
     "text": [
      "Threshold:       0.6\n",
      "Accuracy: 0.00%\n",
      "Precision: 100.00%\n",
      "Recall: 0.10%\n",
      "F1-Score: 0.20%\n",
      "Number of test examples: 859\n",
      "Test text example: The Secretary of the Navy was, from its creation in 1798, a member of the President's Cabinet until 1949, when the Secretary of the Navy (and the Secretaries of the Army and Air Force) was by amendments to the National Security Act of 1947 made subordinate to the Secretary of Defense.\n",
      "Test label example: tensor([0., 0., 0., 0., 1., 0., 0., 0., 0., 0., 0., 0., 0., 0., 0., 0., 0.])\n"
     ]
    },
    {
     "name": "stderr",
     "output_type": "stream",
     "text": [
      "Testing: 100%|█████████████████████████████████████████████████████████████████████████████████████████████████████████████████████████████████████████████████████████████████████████████████████████████████████| 108/108 [00:23<00:00,  4.51it/s]\n"
     ]
    },
    {
     "name": "stdout",
     "output_type": "stream",
     "text": [
      "Threshold:       0.001\n",
      "Accuracy: 0.00%\n",
      "Precision: 6.92%\n",
      "Recall: 100.00%\n",
      "F1-Score: 12.94%\n",
      "Number of test examples: 859\n",
      "Test text example: The Secretary of the Navy was, from its creation in 1798, a member of the President's Cabinet until 1949, when the Secretary of the Navy (and the Secretaries of the Army and Air Force) was by amendments to the National Security Act of 1947 made subordinate to the Secretary of Defense.\n",
      "Test label example: tensor([0., 0., 0., 0., 1., 0., 0., 0., 0., 0., 0., 0., 0., 0., 0., 0., 0.])\n"
     ]
    },
    {
     "name": "stderr",
     "output_type": "stream",
     "text": [
      "Testing: 100%|█████████████████████████████████████████████████████████████████████████████████████████████████████████████████████████████████████████████████████████████████████████████████████████████████████| 108/108 [00:24<00:00,  4.49it/s]\n"
     ]
    },
    {
     "name": "stdout",
     "output_type": "stream",
     "text": [
      "Threshold:       0.01\n",
      "Accuracy: 0.00%\n",
      "Precision: 6.92%\n",
      "Recall: 100.00%\n",
      "F1-Score: 12.94%\n",
      "Number of test examples: 859\n",
      "Test text example: The Secretary of the Navy was, from its creation in 1798, a member of the President's Cabinet until 1949, when the Secretary of the Navy (and the Secretaries of the Army and Air Force) was by amendments to the National Security Act of 1947 made subordinate to the Secretary of Defense.\n",
      "Test label example: tensor([0., 0., 0., 0., 1., 0., 0., 0., 0., 0., 0., 0., 0., 0., 0., 0., 0.])\n"
     ]
    },
    {
     "name": "stderr",
     "output_type": "stream",
     "text": [
      "Testing: 100%|█████████████████████████████████████████████████████████████████████████████████████████████████████████████████████████████████████████████████████████████████████████████████████████████████████| 108/108 [00:24<00:00,  4.44it/s]\n"
     ]
    },
    {
     "name": "stdout",
     "output_type": "stream",
     "text": [
      "Threshold:       0.05\n",
      "Accuracy: 0.00%\n",
      "Precision: 11.24%\n",
      "Recall: 98.02%\n",
      "F1-Score: 20.16%\n",
      "Number of test examples: 859\n",
      "Test text example: The Secretary of the Navy was, from its creation in 1798, a member of the President's Cabinet until 1949, when the Secretary of the Navy (and the Secretaries of the Army and Air Force) was by amendments to the National Security Act of 1947 made subordinate to the Secretary of Defense.\n",
      "Test label example: tensor([0., 0., 0., 0., 1., 0., 0., 0., 0., 0., 0., 0., 0., 0., 0., 0., 0.])\n"
     ]
    },
    {
     "name": "stderr",
     "output_type": "stream",
     "text": [
      "Testing: 100%|█████████████████████████████████████████████████████████████████████████████████████████████████████████████████████████████████████████████████████████████████████████████████████████████████████| 108/108 [00:24<00:00,  4.39it/s]\n"
     ]
    },
    {
     "name": "stdout",
     "output_type": "stream",
     "text": [
      "Threshold:       0.1\n",
      "Accuracy: 9.20%\n",
      "Precision: 35.93%\n",
      "Recall: 88.71%\n",
      "F1-Score: 51.14%\n",
      "Number of test examples: 859\n",
      "Test text example: The Secretary of the Navy was, from its creation in 1798, a member of the President's Cabinet until 1949, when the Secretary of the Navy (and the Secretaries of the Army and Air Force) was by amendments to the National Security Act of 1947 made subordinate to the Secretary of Defense.\n",
      "Test label example: tensor([0., 0., 0., 0., 1., 0., 0., 0., 0., 0., 0., 0., 0., 0., 0., 0., 0.])\n"
     ]
    },
    {
     "name": "stderr",
     "output_type": "stream",
     "text": [
      "Testing: 100%|█████████████████████████████████████████████████████████████████████████████████████████████████████████████████████████████████████████████████████████████████████████████████████████████████████| 108/108 [00:24<00:00,  4.37it/s]\n"
     ]
    },
    {
     "name": "stdout",
     "output_type": "stream",
     "text": [
      "Threshold:       0.15\n",
      "Accuracy: 38.65%\n",
      "Precision: 60.76%\n",
      "Recall: 77.43%\n",
      "F1-Score: 68.09%\n",
      "Number of test examples: 859\n",
      "Test text example: The Secretary of the Navy was, from its creation in 1798, a member of the President's Cabinet until 1949, when the Secretary of the Navy (and the Secretaries of the Army and Air Force) was by amendments to the National Security Act of 1947 made subordinate to the Secretary of Defense.\n",
      "Test label example: tensor([0., 0., 0., 0., 1., 0., 0., 0., 0., 0., 0., 0., 0., 0., 0., 0., 0.])\n"
     ]
    },
    {
     "name": "stderr",
     "output_type": "stream",
     "text": [
      "Testing: 100%|█████████████████████████████████████████████████████████████████████████████████████████████████████████████████████████████████████████████████████████████████████████████████████████████████████| 108/108 [00:24<00:00,  4.46it/s]\n"
     ]
    },
    {
     "name": "stdout",
     "output_type": "stream",
     "text": [
      "Threshold:       0.2\n",
      "Accuracy: 48.54%\n",
      "Precision: 72.76%\n",
      "Recall: 64.26%\n",
      "F1-Score: 68.24%\n",
      "Number of test examples: 859\n",
      "Test text example: The Secretary of the Navy was, from its creation in 1798, a member of the President's Cabinet until 1949, when the Secretary of the Navy (and the Secretaries of the Army and Air Force) was by amendments to the National Security Act of 1947 made subordinate to the Secretary of Defense.\n",
      "Test label example: tensor([0., 0., 0., 0., 1., 0., 0., 0., 0., 0., 0., 0., 0., 0., 0., 0., 0.])\n"
     ]
    },
    {
     "name": "stderr",
     "output_type": "stream",
     "text": [
      "Testing: 100%|█████████████████████████████████████████████████████████████████████████████████████████████████████████████████████████████████████████████████████████████████████████████████████████████████████| 108/108 [00:24<00:00,  4.45it/s]\n"
     ]
    },
    {
     "name": "stdout",
     "output_type": "stream",
     "text": [
      "Threshold:       0.25\n",
      "Accuracy: 45.29%\n",
      "Precision: 80.73%\n",
      "Recall: 50.59%\n",
      "F1-Score: 62.20%\n",
      "Number of test examples: 859\n",
      "Test text example: The Secretary of the Navy was, from its creation in 1798, a member of the President's Cabinet until 1949, when the Secretary of the Navy (and the Secretaries of the Army and Air Force) was by amendments to the National Security Act of 1947 made subordinate to the Secretary of Defense.\n",
      "Test label example: tensor([0., 0., 0., 0., 1., 0., 0., 0., 0., 0., 0., 0., 0., 0., 0., 0., 0.])\n"
     ]
    },
    {
     "name": "stderr",
     "output_type": "stream",
     "text": [
      "Testing: 100%|█████████████████████████████████████████████████████████████████████████████████████████████████████████████████████████████████████████████████████████████████████████████████████████████████████| 108/108 [00:24<00:00,  4.46it/s]\n"
     ]
    },
    {
     "name": "stdout",
     "output_type": "stream",
     "text": [
      "Threshold:       0.3\n",
      "Accuracy: 36.09%\n",
      "Precision: 85.00%\n",
      "Recall: 37.03%\n",
      "F1-Score: 51.59%\n",
      "Number of test examples: 859\n",
      "Test text example: The Secretary of the Navy was, from its creation in 1798, a member of the President's Cabinet until 1949, when the Secretary of the Navy (and the Secretaries of the Army and Air Force) was by amendments to the National Security Act of 1947 made subordinate to the Secretary of Defense.\n",
      "Test label example: tensor([0., 0., 0., 0., 1., 0., 0., 0., 0., 0., 0., 0., 0., 0., 0., 0., 0.])\n"
     ]
    },
    {
     "name": "stderr",
     "output_type": "stream",
     "text": [
      "Testing: 100%|█████████████████████████████████████████████████████████████████████████████████████████████████████████████████████████████████████████████████████████████████████████████████████████████████████| 108/108 [00:24<00:00,  4.49it/s]\n"
     ]
    },
    {
     "name": "stdout",
     "output_type": "stream",
     "text": [
      "Threshold:       0.35\n",
      "Accuracy: 29.10%\n",
      "Precision: 89.30%\n",
      "Recall: 28.91%\n",
      "F1-Score: 43.68%\n",
      "Number of test examples: 859\n",
      "Test text example: The Secretary of the Navy was, from its creation in 1798, a member of the President's Cabinet until 1949, when the Secretary of the Navy (and the Secretaries of the Army and Air Force) was by amendments to the National Security Act of 1947 made subordinate to the Secretary of Defense.\n",
      "Test label example: tensor([0., 0., 0., 0., 1., 0., 0., 0., 0., 0., 0., 0., 0., 0., 0., 0., 0.])\n"
     ]
    },
    {
     "name": "stderr",
     "output_type": "stream",
     "text": [
      "Testing: 100%|█████████████████████████████████████████████████████████████████████████████████████████████████████████████████████████████████████████████████████████████████████████████████████████████████████| 108/108 [01:19<00:00,  1.36it/s]\n"
     ]
    },
    {
     "name": "stdout",
     "output_type": "stream",
     "text": [
      "Threshold:       0.4\n",
      "Accuracy: 20.72%\n",
      "Precision: 90.54%\n",
      "Recall: 19.90%\n",
      "F1-Score: 32.63%\n"
     ]
    },
    {
     "name": "stderr",
     "output_type": "stream",
     "text": [
      "'(ReadTimeoutError(\"HTTPSConnectionPool(host='huggingface.co', port=443): Read timed out. (read timeout=10)\"), '(Request ID: a1a18558-3eb3-4db7-9cc1-a7090454b7cb)')' thrown while requesting HEAD https://huggingface.co/bert-base-uncased/resolve/main/tokenizer_config.json\n"
     ]
    },
    {
     "name": "stdout",
     "output_type": "stream",
     "text": [
      "Number of test examples: 859\n",
      "Test text example: The Secretary of the Navy was, from its creation in 1798, a member of the President's Cabinet until 1949, when the Secretary of the Navy (and the Secretaries of the Army and Air Force) was by amendments to the National Security Act of 1947 made subordinate to the Secretary of Defense.\n",
      "Test label example: tensor([0., 0., 0., 0., 1., 0., 0., 0., 0., 0., 0., 0., 0., 0., 0., 0., 0.])\n"
     ]
    },
    {
     "name": "stderr",
     "output_type": "stream",
     "text": [
      "Testing: 100%|█████████████████████████████████████████████████████████████████████████████████████████████████████████████████████████████████████████████████████████████████████████████████████████████████████| 108/108 [07:05<00:00,  3.94s/it]\n"
     ]
    },
    {
     "name": "stdout",
     "output_type": "stream",
     "text": [
      "Threshold:       0.45\n",
      "Accuracy: 13.62%\n",
      "Precision: 92.65%\n",
      "Recall: 12.48%\n",
      "F1-Score: 21.99%\n",
      "Number of test examples: 859\n",
      "Test text example: The Secretary of the Navy was, from its creation in 1798, a member of the President's Cabinet until 1949, when the Secretary of the Navy (and the Secretaries of the Army and Air Force) was by amendments to the National Security Act of 1947 made subordinate to the Secretary of Defense.\n",
      "Test label example: tensor([0., 0., 0., 0., 1., 0., 0., 0., 0., 0., 0., 0., 0., 0., 0., 0., 0.])\n"
     ]
    },
    {
     "name": "stderr",
     "output_type": "stream",
     "text": [
      "Testing: 100%|█████████████████████████████████████████████████████████████████████████████████████████████████████████████████████████████████████████████████████████████████████████████████████████████████████| 108/108 [02:20<00:00,  1.30s/it]\n"
     ]
    },
    {
     "name": "stdout",
     "output_type": "stream",
     "text": [
      "Threshold:       0.5\n",
      "Accuracy: 7.80%\n",
      "Precision: 94.74%\n",
      "Recall: 7.13%\n",
      "F1-Score: 13.26%\n",
      "Number of test examples: 859\n",
      "Test text example: The Secretary of the Navy was, from its creation in 1798, a member of the President's Cabinet until 1949, when the Secretary of the Navy (and the Secretaries of the Army and Air Force) was by amendments to the National Security Act of 1947 made subordinate to the Secretary of Defense.\n",
      "Test label example: tensor([0., 0., 0., 0., 1., 0., 0., 0., 0., 0., 0., 0., 0., 0., 0., 0., 0.])\n"
     ]
    },
    {
     "name": "stderr",
     "output_type": "stream",
     "text": [
      "Testing: 100%|█████████████████████████████████████████████████████████████████████████████████████████████████████████████████████████████████████████████████████████████████████████████████████████████████████| 108/108 [33:36<00:00, 18.67s/it]\n"
     ]
    },
    {
     "name": "stdout",
     "output_type": "stream",
     "text": [
      "Threshold:       0.6\n",
      "Accuracy: 0.35%\n",
      "Precision: 100.00%\n",
      "Recall: 0.50%\n",
      "F1-Score: 0.99%\n",
      "Number of test examples: 859\n",
      "Test text example: The Secretary of the Navy was, from its creation in 1798, a member of the President's Cabinet until 1949, when the Secretary of the Navy (and the Secretaries of the Army and Air Force) was by amendments to the National Security Act of 1947 made subordinate to the Secretary of Defense.\n",
      "Test label example: tensor([0., 0., 0., 0., 1., 0., 0., 0., 0., 0., 0., 0., 0., 0., 0., 0., 0.])\n"
     ]
    },
    {
     "name": "stderr",
     "output_type": "stream",
     "text": [
      "Testing: 100%|█████████████████████████████████████████████████████████████████████████████████████████████████████████████████████████████████████████████████████████████████████████████████████████████████████| 108/108 [00:26<00:00,  4.15it/s]\n"
     ]
    },
    {
     "name": "stdout",
     "output_type": "stream",
     "text": [
      "Threshold:       0.001\n",
      "Accuracy: 0.00%\n",
      "Precision: 6.92%\n",
      "Recall: 100.00%\n",
      "F1-Score: 12.94%\n",
      "Number of test examples: 859\n",
      "Test text example: The Secretary of the Navy was, from its creation in 1798, a member of the President's Cabinet until 1949, when the Secretary of the Navy (and the Secretaries of the Army and Air Force) was by amendments to the National Security Act of 1947 made subordinate to the Secretary of Defense.\n",
      "Test label example: tensor([0., 0., 0., 0., 1., 0., 0., 0., 0., 0., 0., 0., 0., 0., 0., 0., 0.])\n"
     ]
    },
    {
     "name": "stderr",
     "output_type": "stream",
     "text": [
      "Testing: 100%|█████████████████████████████████████████████████████████████████████████████████████████████████████████████████████████████████████████████████████████████████████████████████████████████████████| 108/108 [00:26<00:00,  4.08it/s]\n"
     ]
    },
    {
     "name": "stdout",
     "output_type": "stream",
     "text": [
      "Threshold:       0.01\n",
      "Accuracy: 0.00%\n",
      "Precision: 6.92%\n",
      "Recall: 100.00%\n",
      "F1-Score: 12.95%\n",
      "Number of test examples: 859\n",
      "Test text example: The Secretary of the Navy was, from its creation in 1798, a member of the President's Cabinet until 1949, when the Secretary of the Navy (and the Secretaries of the Army and Air Force) was by amendments to the National Security Act of 1947 made subordinate to the Secretary of Defense.\n",
      "Test label example: tensor([0., 0., 0., 0., 1., 0., 0., 0., 0., 0., 0., 0., 0., 0., 0., 0., 0.])\n"
     ]
    },
    {
     "name": "stderr",
     "output_type": "stream",
     "text": [
      "Testing: 100%|█████████████████████████████████████████████████████████████████████████████████████████████████████████████████████████████████████████████████████████████████████████████████████████████████████| 108/108 [00:25<00:00,  4.17it/s]\n"
     ]
    },
    {
     "name": "stdout",
     "output_type": "stream",
     "text": [
      "Threshold:       0.05\n",
      "Accuracy: 2.91%\n",
      "Precision: 30.20%\n",
      "Recall: 95.74%\n",
      "F1-Score: 45.92%\n",
      "Number of test examples: 859\n",
      "Test text example: The Secretary of the Navy was, from its creation in 1798, a member of the President's Cabinet until 1949, when the Secretary of the Navy (and the Secretaries of the Army and Air Force) was by amendments to the National Security Act of 1947 made subordinate to the Secretary of Defense.\n",
      "Test label example: tensor([0., 0., 0., 0., 1., 0., 0., 0., 0., 0., 0., 0., 0., 0., 0., 0., 0.])\n"
     ]
    },
    {
     "name": "stderr",
     "output_type": "stream",
     "text": [
      "Testing: 100%|█████████████████████████████████████████████████████████████████████████████████████████████████████████████████████████████████████████████████████████████████████████████████████████████████████| 108/108 [00:25<00:00,  4.17it/s]\n"
     ]
    },
    {
     "name": "stdout",
     "output_type": "stream",
     "text": [
      "Threshold:       0.1\n",
      "Accuracy: 41.44%\n",
      "Precision: 59.80%\n",
      "Recall: 90.30%\n",
      "F1-Score: 71.95%\n",
      "Number of test examples: 859\n",
      "Test text example: The Secretary of the Navy was, from its creation in 1798, a member of the President's Cabinet until 1949, when the Secretary of the Navy (and the Secretaries of the Army and Air Force) was by amendments to the National Security Act of 1947 made subordinate to the Secretary of Defense.\n",
      "Test label example: tensor([0., 0., 0., 0., 1., 0., 0., 0., 0., 0., 0., 0., 0., 0., 0., 0., 0.])\n"
     ]
    },
    {
     "name": "stderr",
     "output_type": "stream",
     "text": [
      "Testing: 100%|█████████████████████████████████████████████████████████████████████████████████████████████████████████████████████████████████████████████████████████████████████████████████████████████████████| 108/108 [00:26<00:00,  4.09it/s]\n"
     ]
    },
    {
     "name": "stdout",
     "output_type": "stream",
     "text": [
      "Threshold:       0.15\n",
      "Accuracy: 56.11%\n",
      "Precision: 70.04%\n",
      "Recall: 86.34%\n",
      "F1-Score: 77.34%\n",
      "Number of test examples: 859\n",
      "Test text example: The Secretary of the Navy was, from its creation in 1798, a member of the President's Cabinet until 1949, when the Secretary of the Navy (and the Secretaries of the Army and Air Force) was by amendments to the National Security Act of 1947 made subordinate to the Secretary of Defense.\n",
      "Test label example: tensor([0., 0., 0., 0., 1., 0., 0., 0., 0., 0., 0., 0., 0., 0., 0., 0., 0.])\n"
     ]
    },
    {
     "name": "stderr",
     "output_type": "stream",
     "text": [
      "Testing: 100%|█████████████████████████████████████████████████████████████████████████████████████████████████████████████████████████████████████████████████████████████████████████████████████████████████████| 108/108 [00:25<00:00,  4.19it/s]\n"
     ]
    },
    {
     "name": "stdout",
     "output_type": "stream",
     "text": [
      "Threshold:       0.2\n",
      "Accuracy: 59.72%\n",
      "Precision: 73.59%\n",
      "Recall: 82.48%\n",
      "F1-Score: 77.78%\n",
      "Number of test examples: 859\n",
      "Test text example: The Secretary of the Navy was, from its creation in 1798, a member of the President's Cabinet until 1949, when the Secretary of the Navy (and the Secretaries of the Army and Air Force) was by amendments to the National Security Act of 1947 made subordinate to the Secretary of Defense.\n",
      "Test label example: tensor([0., 0., 0., 0., 1., 0., 0., 0., 0., 0., 0., 0., 0., 0., 0., 0., 0.])\n"
     ]
    },
    {
     "name": "stderr",
     "output_type": "stream",
     "text": [
      "Testing: 100%|█████████████████████████████████████████████████████████████████████████████████████████████████████████████████████████████████████████████████████████████████████████████████████████████████████| 108/108 [00:25<00:00,  4.24it/s]\n"
     ]
    },
    {
     "name": "stdout",
     "output_type": "stream",
     "text": [
      "Threshold:       0.25\n",
      "Accuracy: 61.47%\n",
      "Precision: 75.71%\n",
      "Recall: 79.01%\n",
      "F1-Score: 77.33%\n",
      "Number of test examples: 859\n",
      "Test text example: The Secretary of the Navy was, from its creation in 1798, a member of the President's Cabinet until 1949, when the Secretary of the Navy (and the Secretaries of the Army and Air Force) was by amendments to the National Security Act of 1947 made subordinate to the Secretary of Defense.\n",
      "Test label example: tensor([0., 0., 0., 0., 1., 0., 0., 0., 0., 0., 0., 0., 0., 0., 0., 0., 0.])\n"
     ]
    },
    {
     "name": "stderr",
     "output_type": "stream",
     "text": [
      "Testing: 100%|█████████████████████████████████████████████████████████████████████████████████████████████████████████████████████████████████████████████████████████████████████████████████████████████████████| 108/108 [00:25<00:00,  4.31it/s]\n"
     ]
    },
    {
     "name": "stdout",
     "output_type": "stream",
     "text": [
      "Threshold:       0.3\n",
      "Accuracy: 61.70%\n",
      "Precision: 77.13%\n",
      "Recall: 75.45%\n",
      "F1-Score: 76.28%\n",
      "Number of test examples: 859\n",
      "Test text example: The Secretary of the Navy was, from its creation in 1798, a member of the President's Cabinet until 1949, when the Secretary of the Navy (and the Secretaries of the Army and Air Force) was by amendments to the National Security Act of 1947 made subordinate to the Secretary of Defense.\n",
      "Test label example: tensor([0., 0., 0., 0., 1., 0., 0., 0., 0., 0., 0., 0., 0., 0., 0., 0., 0.])\n"
     ]
    },
    {
     "name": "stderr",
     "output_type": "stream",
     "text": [
      "Testing: 100%|█████████████████████████████████████████████████████████████████████████████████████████████████████████████████████████████████████████████████████████████████████████████████████████████████████| 108/108 [00:25<00:00,  4.28it/s]\n"
     ]
    },
    {
     "name": "stdout",
     "output_type": "stream",
     "text": [
      "Threshold:       0.35\n",
      "Accuracy: 62.05%\n",
      "Precision: 79.16%\n",
      "Recall: 72.57%\n",
      "F1-Score: 75.72%\n",
      "Number of test examples: 859\n",
      "Test text example: The Secretary of the Navy was, from its creation in 1798, a member of the President's Cabinet until 1949, when the Secretary of the Navy (and the Secretaries of the Army and Air Force) was by amendments to the National Security Act of 1947 made subordinate to the Secretary of Defense.\n",
      "Test label example: tensor([0., 0., 0., 0., 1., 0., 0., 0., 0., 0., 0., 0., 0., 0., 0., 0., 0.])\n"
     ]
    },
    {
     "name": "stderr",
     "output_type": "stream",
     "text": [
      "Testing: 100%|█████████████████████████████████████████████████████████████████████████████████████████████████████████████████████████████████████████████████████████████████████████████████████████████████████| 108/108 [00:25<00:00,  4.30it/s]\n"
     ]
    },
    {
     "name": "stdout",
     "output_type": "stream",
     "text": [
      "Threshold:       0.4\n",
      "Accuracy: 61.70%\n",
      "Precision: 80.84%\n",
      "Recall: 68.51%\n",
      "F1-Score: 74.17%\n",
      "Number of test examples: 859\n",
      "Test text example: The Secretary of the Navy was, from its creation in 1798, a member of the President's Cabinet until 1949, when the Secretary of the Navy (and the Secretaries of the Army and Air Force) was by amendments to the National Security Act of 1947 made subordinate to the Secretary of Defense.\n",
      "Test label example: tensor([0., 0., 0., 0., 1., 0., 0., 0., 0., 0., 0., 0., 0., 0., 0., 0., 0.])\n"
     ]
    },
    {
     "name": "stderr",
     "output_type": "stream",
     "text": [
      "Testing: 100%|█████████████████████████████████████████████████████████████████████████████████████████████████████████████████████████████████████████████████████████████████████████████████████████████████████| 108/108 [00:25<00:00,  4.28it/s]\n"
     ]
    },
    {
     "name": "stdout",
     "output_type": "stream",
     "text": [
      "Threshold:       0.45\n",
      "Accuracy: 60.30%\n",
      "Precision: 83.66%\n",
      "Recall: 63.86%\n",
      "F1-Score: 72.43%\n",
      "Number of test examples: 859\n",
      "Test text example: The Secretary of the Navy was, from its creation in 1798, a member of the President's Cabinet until 1949, when the Secretary of the Navy (and the Secretaries of the Army and Air Force) was by amendments to the National Security Act of 1947 made subordinate to the Secretary of Defense.\n",
      "Test label example: tensor([0., 0., 0., 0., 1., 0., 0., 0., 0., 0., 0., 0., 0., 0., 0., 0., 0.])\n"
     ]
    },
    {
     "name": "stderr",
     "output_type": "stream",
     "text": [
      "Testing: 100%|█████████████████████████████████████████████████████████████████████████████████████████████████████████████████████████████████████████████████████████████████████████████████████████████████████| 108/108 [00:25<00:00,  4.29it/s]\n"
     ]
    },
    {
     "name": "stdout",
     "output_type": "stream",
     "text": [
      "Threshold:       0.5\n",
      "Accuracy: 57.97%\n",
      "Precision: 86.68%\n",
      "Recall: 59.90%\n",
      "F1-Score: 70.84%\n",
      "Number of test examples: 859\n",
      "Test text example: The Secretary of the Navy was, from its creation in 1798, a member of the President's Cabinet until 1949, when the Secretary of the Navy (and the Secretaries of the Army and Air Force) was by amendments to the National Security Act of 1947 made subordinate to the Secretary of Defense.\n",
      "Test label example: tensor([0., 0., 0., 0., 1., 0., 0., 0., 0., 0., 0., 0., 0., 0., 0., 0., 0.])\n"
     ]
    },
    {
     "name": "stderr",
     "output_type": "stream",
     "text": [
      "Testing: 100%|█████████████████████████████████████████████████████████████████████████████████████████████████████████████████████████████████████████████████████████████████████████████████████████████████████| 108/108 [00:25<00:00,  4.31it/s]"
     ]
    },
    {
     "name": "stdout",
     "output_type": "stream",
     "text": [
      "Threshold:       0.6\n",
      "Accuracy: 52.39%\n",
      "Precision: 90.29%\n",
      "Recall: 52.48%\n",
      "F1-Score: 66.37%\n"
     ]
    },
    {
     "name": "stderr",
     "output_type": "stream",
     "text": [
      "\n"
     ]
    }
   ],
   "source": [
    "result_fshot = []\n",
    "grouped_dt = {}\n",
    "\n",
    "for i,z in zip(fshot_names, [5,10,15,20,25,30,35,40,45,50,80]):\n",
    "    path = i + \".pth\"\n",
    "    fmodel = mytr.model_loader(path)\n",
    "    for t in treshli:\n",
    "        res = mytr.evaluator(val_df, fmodel, t, z)\n",
    "        result_fshot.append(res)\n",
    "\n",
    "for threshold, score, amount in result_fshot:\n",
    "    if amount not in grouped_dt or score > grouped_dt[amount][0]:\n",
    "        grouped_dt[amount] = (score, threshold)\n",
    "\n",
    "result = [(value[1], value[0], key) for key, value in grouped_dt.items()]\n",
    "#result"
   ]
  },
  {
   "cell_type": "markdown",
   "id": "960cead5",
   "metadata": {},
   "source": [
    "### 6.E. Ploting the results of the Experiment"
   ]
  },
  {
   "cell_type": "code",
   "execution_count": 32,
   "id": "644de064",
   "metadata": {},
   "outputs": [
    {
     "data": {
      "image/png": "[encoded data removed]",
      "text/plain": [
       "<Figure size 640x480 with 1 Axes>"
      ]
     },
     "metadata": {},
     "output_type": "display_data"
    }
   ],
   "source": [
    "import numpy as np\n",
    "from scipy.interpolate import PchipInterpolator\n",
    "from scipy.signal import savgol_filter\n",
    "import matplotlib.pyplot as plt\n",
    "\n",
    "x = []\n",
    "y = []\n",
    "\n",
    "for i in result:\n",
    "    x.append(i[2])\n",
    "    y.append(i[1])\n",
    "\n",
    "# size of all trainingset divided by #of relations\n",
    "x.append(153)\n",
    "\n",
    "y.append(rel_metr_df[\"F1-Score\"].loc[17])\n",
    "x = np.array(x)\n",
    "y = np.array(y)\n",
    "\n",
    "sorted_indices = np.argsort(x)\n",
    "x_sorted = x[sorted_indices]\n",
    "y_sorted = y[sorted_indices]\n",
    "\n",
    "\n",
    "window_length = 10\n",
    "y_smoothed = savgol_filter(y_sorted, window_length, 3)  # 3rd order polynomial\n",
    "\n",
    "# Fit a curve to the smoothed data using Pchip interpolation\n",
    "smooth_interp = PchipInterpolator(x_sorted, y_smoothed)\n",
    "\n",
    "# Generate points for the curve\n",
    "x_curve = np.linspace(min(x), max(x), 1000)\n",
    "y_interp_curve = smooth_interp(x_curve)\n",
    "\n",
    "# Plotting the original data, the smoothed curve\n",
    "plt.scatter(x, y)\n",
    "#plt.plot(x_sorted, y_smoothed, label='Smoothed Curve', color='blue')\n",
    "plt.plot(x_curve, y_interp_curve, label='Smoothed Curve', color='red', alpha=0.7)\n",
    "plt.xlabel('Sample size per relation')\n",
    "plt.ylabel('F1-Score')\n",
    "plt.legend()\n",
    "plt.show()\n"
   ]
  },
  {
   "cell_type": "markdown",
   "id": "4cfd3ccd",
   "metadata": {},
   "source": [
    "## 7. EXTRA: Threshold testing\n",
    "This section illustrates, how the scores vary with changing threshold."
   ]
  },
  {
   "cell_type": "code",
   "execution_count": 14,
   "id": "4961fb8c",
   "metadata": {},
   "outputs": [],
   "source": [
    "# token = BertTokenizer.from_pretrained('bert-base-uncased')\n",
    "def pred_tresh(token, val_df, thresh):\n",
    "    tokenizer = token\n",
    "    res = pd.DataFrame(columns=[\"text\", \"KN_label\", \"My_label\"])\n",
    "    res[\"text\"] = val_df[\"passageText\"]\n",
    "    res[\"KN_label\"] = val_df[\"label\"]\n",
    "    res[\"My_label\"] = res[\"text\"].apply(lambda x: list(map(int,predict_labels(x, model, tokenizer, max_sequence_length, thresh).tolist()[0])))\n",
    "    return res"
   ]
  },
  {
   "cell_type": "code",
   "execution_count": 20,
   "id": "d804893c",
   "metadata": {
    "scrolled": true
   },
   "outputs": [
    {
     "name": "stdout",
     "output_type": "stream",
     "text": [
      "POD    0.001 :   0.04328018223234624\n",
      "AUTHOR 0.001 :   0.06313416009019164\n",
      "MACRO  0.001 :   0.1285283727858405 \n",
      "\n",
      "POD    0.01 :   0.06998158379373848\n",
      "AUTHOR 0.01 :   0.08092485549132947\n",
      "MACRO  0.01 :   0.14380399069187155 \n",
      "\n",
      "POD    0.05 :   0.59375\n",
      "AUTHOR 0.05 :   0.7567567567567568\n",
      "MACRO  0.05 :   0.6863672691488288 \n",
      "\n",
      "POD    0.1 :   0.7659574468085106\n",
      "AUTHOR 0.1 :   0.9032258064516129\n",
      "MACRO  0.1 :   0.8017286764257165 \n",
      "\n",
      "POD    0.15 :   0.8181818181818181\n",
      "AUTHOR 0.15 :   0.9473684210526316\n",
      "MACRO  0.15 :   0.8270121774395088 \n",
      "\n",
      "POD    0.2 :   0.7804878048780488\n",
      "AUTHOR 0.2 :   0.9285714285714286\n",
      "MACRO  0.2 :   0.826777223932848 \n",
      "\n",
      "POD    0.25 :   0.8205128205128205\n",
      "AUTHOR 0.25 :   0.9454545454545454\n",
      "MACRO  0.25 :   0.8325594006483646 \n",
      "\n",
      "POD    0.3 :   0.8421052631578947\n",
      "AUTHOR 0.3 :   0.9433962264150945\n",
      "MACRO  0.3 :   0.8332550606659255 \n",
      "\n",
      "POD    0.35 :   0.8888888888888888\n",
      "AUTHOR 0.35 :   0.9433962264150945\n",
      "MACRO  0.35 :   0.8339089183950861 \n",
      "\n",
      "POD    0.4 :   0.9142857142857143\n",
      "AUTHOR 0.4 :   0.923076923076923\n",
      "MACRO  0.4 :   0.8334178789722994 \n",
      "\n",
      "POD    0.45 :   0.9142857142857143\n",
      "AUTHOR 0.45 :   0.923076923076923\n",
      "MACRO  0.45 :   0.8313606608204899 \n",
      "\n",
      "POD    0.5 :   0.9142857142857143\n",
      "AUTHOR 0.5 :   0.923076923076923\n",
      "MACRO  0.5 :   0.8260206926322694 \n",
      "\n",
      "POD    0.6 :   0.7333333333333334\n",
      "AUTHOR 0.6 :   0.923076923076923\n",
      "MACRO  0.6 :   0.8002363788954652 \n",
      "\n"
     ]
    }
   ],
   "source": [
    "treshli = [0.001, 0.01, 0.05, 0.1, 0.15, 0.2, 0.25, 0.3, 0.35, 0.4, 0.45, 0.5, 0.6]\n",
    "tok = BertTokenizer.from_pretrained('bert-base-uncased')\n",
    "ls_author = []\n",
    "ls_POD = []\n",
    "ls_total = []\n",
    "\n",
    "for i in treshli:\n",
    "    lo = pred_tresh(tok, val_df, i)\n",
    "    lu = mytr.evaluator_3(lo,i, train_df)\n",
    "    ls_POD.append((lu[0],lu[1]['F1-Score'][15]))\n",
    "    ls_author.append((lu[0],lu[1]['F1-Score'][16]))\n",
    "    ls_total.append((lu[0], lu[1]['F1-Score'][17]))\n",
    "    print('POD   ', lu[0], \":  \",   lu[1]['F1-Score'][15])\n",
    "    print('AUTHOR', lu[0], \":  \",   lu[1]['F1-Score'][16])\n",
    "    print('MACRO ', lu[0], \":  \",   lu[1]['F1-Score'][17], '\\n')"
   ]
  },
  {
   "cell_type": "code",
   "execution_count": 22,
   "id": "b2f28e90",
   "metadata": {},
   "outputs": [
    {
     "data": {
      "image/png": "[encoded data removed]",
      "text/plain": [
       "<Figure size 640x480 with 1 Axes>"
      ]
     },
     "metadata": {},
     "output_type": "display_data"
    }
   ],
   "source": [
    "y_auth = [scr[1] for scr in ls_author]\n",
    "y_pod = [scr[1] for scr in ls_POD]\n",
    "y_total = [scr[1] for scr in ls_total]\n",
    "\n",
    "plt.plot(treshli, y_auth, label='author', color='orange', linestyle='-')\n",
    "\n",
    "plt.plot(treshli, y_pod, label='place_of_death', color='blue', linestyle='-')\n",
    "\n",
    "plt.plot(treshli, y_total, label='MACRO-F1', color='red', linestyle='--', linewidth = '2')\n",
    "\n",
    "\n",
    "plt.xlabel('threshold')\n",
    "plt.ylabel('F1-Score')\n",
    "plt.title('Threshold testing')\n",
    "\n",
    "\n",
    "plt.legend()\n",
    "\n",
    "plt.show()"
   ]
  },
  {
   "cell_type": "code",
   "execution_count": null,
   "id": "569fb011",
   "metadata": {},
   "outputs": [],
   "source": []
  }
 ],
 "metadata": {
  "kernelspec": {
   "display_name": "PyTorch Test Env BSPS3",
   "language": "python",
   "name": "env"
  },
  "language_info": {
   "codemirror_mode": {
    "name": "ipython",
    "version": 3
   },
   "file_extension": ".py",
   "mimetype": "text/x-python",
   "name": "python",
   "nbconvert_exporter": "python",
   "pygments_lexer": "ipython3",
   "version": "3.8.17"
  }
 },
 "nbformat": 4,
 "nbformat_minor": 5
}
